{
 "cells": [
  {
   "cell_type": "markdown",
   "id": "534b814c",
   "metadata": {
    "toc": true
   },
   "source": [
    "<h1>Table of Contents<span class=\"tocSkip\"></span></h1>\n",
    "<div class=\"toc\"><ul class=\"toc-item\"><li><span><a href=\"#Functions\" data-toc-modified-id=\"Functions-1\"><span class=\"toc-item-num\">1&nbsp;&nbsp;</span>Functions</a></span></li><li><span><a href=\"#Statistics-on-area-overlapped\" data-toc-modified-id=\"Statistics-on-area-overlapped-2\"><span class=\"toc-item-num\">2&nbsp;&nbsp;</span>Statistics on area overlapped</a></span></li><li><span><a href=\"#Statistics-intersection-all\" data-toc-modified-id=\"Statistics-intersection-all-3\"><span class=\"toc-item-num\">3&nbsp;&nbsp;</span>Statistics intersection all</a></span><ul class=\"toc-item\"><li><span><a href=\"#Importing-data\" data-toc-modified-id=\"Importing-data-3.1\"><span class=\"toc-item-num\">3.1&nbsp;&nbsp;</span>Importing data</a></span></li><li><span><a href=\"#Generating-heatmaps\" data-toc-modified-id=\"Generating-heatmaps-3.2\"><span class=\"toc-item-num\">3.2&nbsp;&nbsp;</span>Generating heatmaps</a></span></li><li><span><a href=\"#Plotting-layers\" data-toc-modified-id=\"Plotting-layers-3.3\"><span class=\"toc-item-num\">3.3&nbsp;&nbsp;</span>Plotting layers</a></span></li></ul></li><li><span><a href=\"#Map-district-per-urban-type\" data-toc-modified-id=\"Map-district-per-urban-type-4\"><span class=\"toc-item-num\">4&nbsp;&nbsp;</span>Map district per urban type</a></span></li><li><span><a href=\"#Total-number-of-buildings/area-for-each-urban-type\" data-toc-modified-id=\"Total-number-of-buildings/area-for-each-urban-type-5\"><span class=\"toc-item-num\">5&nbsp;&nbsp;</span>Total number of buildings/area for each urban type</a></span></li><li><span><a href=\"#Global-overview-of-the-various-datasets-per-urban-type\" data-toc-modified-id=\"Global-overview-of-the-various-datasets-per-urban-type-6\"><span class=\"toc-item-num\">6&nbsp;&nbsp;</span>Global overview of the various datasets per urban type</a></span></li><li><span><a href=\"#Dataset-comparison-by-country\" data-toc-modified-id=\"Dataset-comparison-by-country-7\"><span class=\"toc-item-num\">7&nbsp;&nbsp;</span>Dataset comparison by country</a></span></li></ul></div>"
   ]
  },
  {
   "cell_type": "markdown",
   "id": "eea9712c",
   "metadata": {},
   "source": [
    "# Functions"
   ]
  },
  {
   "cell_type": "code",
   "execution_count": 5,
   "id": "34afd549",
   "metadata": {
    "ExecuteTime": {
     "end_time": "2024-02-12T09:55:36.200352Z",
     "start_time": "2024-02-12T09:55:36.096252Z"
    }
   },
   "outputs": [],
   "source": [
    "import warnings\n",
    "import datetime\n",
    "warnings.filterwarnings(\"ignore\")\n",
    "#importing functions\n",
    "%run 0-[_functions]-0_methods.ipynb"
   ]
  },
  {
   "cell_type": "code",
   "execution_count": 6,
   "id": "fb78a494",
   "metadata": {
    "ExecuteTime": {
     "end_time": "2024-02-12T09:55:37.235258Z",
     "start_time": "2024-02-12T09:55:37.229879Z"
    }
   },
   "outputs": [],
   "source": [
    "def plot(df_all,x,y,col,hue,xlabel,ylabel,col_wrap=2):\n",
    "    import seaborn as sns\n",
    "    import matplotlib.pyplot as plt\n",
    "    import matplotlib.ticker as ticker  # Import ticker module\n",
    "\n",
    "    sns.set(style=\"whitegrid\")  # Set the style of the plot\n",
    "    plt.figure(figsize=(8, 8))  # Set the size of the plot\n",
    "\n",
    "    g = sns.catplot(\n",
    "        hue=hue, \n",
    "        y=y, \n",
    "        data=df_all, \n",
    "        col=col,\n",
    "        x=x,\n",
    "        kind='box',\n",
    "        col_wrap=col_wrap,\n",
    "        sym='',\n",
    "        sharey=False,\n",
    "        sharex=False\n",
    "    )\n",
    "\n",
    "    # Increase the size of ticks\n",
    "    for ax in g.axes.flat:\n",
    "        ax.tick_params(axis='both', which='both', labelsize=12)\n",
    "\n",
    "    # Use scientific notation for all Y-axes\n",
    "    for ax in g.axes.flat:\n",
    "        formatter = ticker.ScalarFormatter(useMathText=True, useOffset=False)\n",
    "        formatter.set_scientific(True)\n",
    "        formatter.set_powerlimits((-3, 3))  # Adjust power limits based on your data\n",
    "        ax.yaxis.set_major_formatter(formatter)\n",
    "        ax.yaxis.major.formatter._useMathText = True\n",
    "\n",
    "    # Set plot labels and title\n",
    "    g.set_axis_labels(xlabel, ylabel)\n",
    "\n",
    "    return plt"
   ]
  },
  {
   "cell_type": "markdown",
   "id": "a61bddc9",
   "metadata": {},
   "source": [
    "# Statistics on area overlapped"
   ]
  },
  {
   "cell_type": "code",
   "execution_count": 25,
   "id": "2c9294dd",
   "metadata": {
    "ExecuteTime": {
     "end_time": "2024-02-09T12:40:10.120858Z",
     "start_time": "2024-02-09T12:40:09.730715Z"
    }
   },
   "outputs": [
    {
     "data": {
      "text/html": [
       "<div>\n",
       "<style scoped>\n",
       "    .dataframe tbody tr th:only-of-type {\n",
       "        vertical-align: middle;\n",
       "    }\n",
       "\n",
       "    .dataframe tbody tr th {\n",
       "        vertical-align: top;\n",
       "    }\n",
       "\n",
       "    .dataframe thead th {\n",
       "        text-align: right;\n",
       "    }\n",
       "</style>\n",
       "<table border=\"1\" class=\"dataframe\">\n",
       "  <thead>\n",
       "    <tr style=\"text-align: right;\">\n",
       "      <th></th>\n",
       "      <th>from</th>\n",
       "      <th>to</th>\n",
       "      <th>country</th>\n",
       "      <th>urban_type</th>\n",
       "      <th>building_area_1</th>\n",
       "      <th>building_area_2</th>\n",
       "      <th>shared_area</th>\n",
       "      <th>total_area_1</th>\n",
       "      <th>total_area_2</th>\n",
       "      <th>perc_shared_area_1</th>\n",
       "      <th>perc_shared_area_2</th>\n",
       "      <th>perc_shared_area_1-all</th>\n",
       "      <th>perc_shared_area_2-all</th>\n",
       "    </tr>\n",
       "  </thead>\n",
       "  <tbody>\n",
       "    <tr>\n",
       "      <th>0</th>\n",
       "      <td>eubucco</td>\n",
       "      <td>jrc</td>\n",
       "      <td>MT</td>\n",
       "      <td>1</td>\n",
       "      <td>1.513486e+08</td>\n",
       "      <td>1.426050e+08</td>\n",
       "      <td>3.420526e+07</td>\n",
       "      <td>4.950755e+07</td>\n",
       "      <td>4.611161e+07</td>\n",
       "      <td>0.226003</td>\n",
       "      <td>0.239860</td>\n",
       "      <td>0.690910</td>\n",
       "      <td>0.741793</td>\n",
       "    </tr>\n",
       "    <tr>\n",
       "      <th>1</th>\n",
       "      <td>microsoft</td>\n",
       "      <td>eubucco</td>\n",
       "      <td>MT</td>\n",
       "      <td>1</td>\n",
       "      <td>1.248624e+08</td>\n",
       "      <td>1.925913e+08</td>\n",
       "      <td>3.223348e+07</td>\n",
       "      <td>4.429262e+07</td>\n",
       "      <td>4.950755e+07</td>\n",
       "      <td>0.258152</td>\n",
       "      <td>0.167367</td>\n",
       "      <td>0.727739</td>\n",
       "      <td>0.651082</td>\n",
       "    </tr>\n",
       "    <tr>\n",
       "      <th>2</th>\n",
       "      <td>microsoft</td>\n",
       "      <td>jrc</td>\n",
       "      <td>MT</td>\n",
       "      <td>1</td>\n",
       "      <td>6.636786e+07</td>\n",
       "      <td>7.953749e+07</td>\n",
       "      <td>3.981608e+07</td>\n",
       "      <td>4.429262e+07</td>\n",
       "      <td>4.611161e+07</td>\n",
       "      <td>0.599930</td>\n",
       "      <td>0.500595</td>\n",
       "      <td>0.898933</td>\n",
       "      <td>0.863472</td>\n",
       "    </tr>\n",
       "    <tr>\n",
       "      <th>3</th>\n",
       "      <td>osm</td>\n",
       "      <td>eubucco</td>\n",
       "      <td>MT</td>\n",
       "      <td>1</td>\n",
       "      <td>5.081315e+07</td>\n",
       "      <td>4.408972e+07</td>\n",
       "      <td>1.356617e+07</td>\n",
       "      <td>1.677033e+07</td>\n",
       "      <td>4.950755e+07</td>\n",
       "      <td>0.266982</td>\n",
       "      <td>0.307695</td>\n",
       "      <td>0.808939</td>\n",
       "      <td>0.274022</td>\n",
       "    </tr>\n",
       "    <tr>\n",
       "      <th>4</th>\n",
       "      <td>osm</td>\n",
       "      <td>jrc</td>\n",
       "      <td>MT</td>\n",
       "      <td>1</td>\n",
       "      <td>2.338679e+07</td>\n",
       "      <td>2.605937e+07</td>\n",
       "      <td>1.650339e+07</td>\n",
       "      <td>1.677033e+07</td>\n",
       "      <td>4.611161e+07</td>\n",
       "      <td>0.705671</td>\n",
       "      <td>0.633300</td>\n",
       "      <td>0.984083</td>\n",
       "      <td>0.357901</td>\n",
       "    </tr>\n",
       "    <tr>\n",
       "      <th>...</th>\n",
       "      <td>...</td>\n",
       "      <td>...</td>\n",
       "      <td>...</td>\n",
       "      <td>...</td>\n",
       "      <td>...</td>\n",
       "      <td>...</td>\n",
       "      <td>...</td>\n",
       "      <td>...</td>\n",
       "      <td>...</td>\n",
       "      <td>...</td>\n",
       "      <td>...</td>\n",
       "      <td>...</td>\n",
       "      <td>...</td>\n",
       "    </tr>\n",
       "    <tr>\n",
       "      <th>1</th>\n",
       "      <td>microsoft</td>\n",
       "      <td>eubucco</td>\n",
       "      <td>BE</td>\n",
       "      <td>all</td>\n",
       "      <td>1.368085e+10</td>\n",
       "      <td>3.670350e+09</td>\n",
       "      <td>1.961361e+09</td>\n",
       "      <td>2.586242e+09</td>\n",
       "      <td>2.756630e+09</td>\n",
       "      <td>0.143365</td>\n",
       "      <td>0.534380</td>\n",
       "      <td>0.758383</td>\n",
       "      <td>0.711507</td>\n",
       "    </tr>\n",
       "    <tr>\n",
       "      <th>2</th>\n",
       "      <td>microsoft</td>\n",
       "      <td>jrc</td>\n",
       "      <td>BE</td>\n",
       "      <td>all</td>\n",
       "      <td>1.130382e+10</td>\n",
       "      <td>3.991321e+09</td>\n",
       "      <td>1.904512e+09</td>\n",
       "      <td>2.586242e+09</td>\n",
       "      <td>2.675408e+09</td>\n",
       "      <td>0.168484</td>\n",
       "      <td>0.477163</td>\n",
       "      <td>0.736401</td>\n",
       "      <td>0.711858</td>\n",
       "    </tr>\n",
       "    <tr>\n",
       "      <th>3</th>\n",
       "      <td>osm</td>\n",
       "      <td>eubucco</td>\n",
       "      <td>BE</td>\n",
       "      <td>all</td>\n",
       "      <td>4.643723e+09</td>\n",
       "      <td>4.098864e+09</td>\n",
       "      <td>2.239569e+09</td>\n",
       "      <td>2.394596e+09</td>\n",
       "      <td>2.756630e+09</td>\n",
       "      <td>0.482279</td>\n",
       "      <td>0.546388</td>\n",
       "      <td>0.935260</td>\n",
       "      <td>0.812430</td>\n",
       "    </tr>\n",
       "    <tr>\n",
       "      <th>4</th>\n",
       "      <td>osm</td>\n",
       "      <td>jrc</td>\n",
       "      <td>BE</td>\n",
       "      <td>all</td>\n",
       "      <td>3.720293e+09</td>\n",
       "      <td>4.305027e+09</td>\n",
       "      <td>2.372671e+09</td>\n",
       "      <td>2.394596e+09</td>\n",
       "      <td>2.675408e+09</td>\n",
       "      <td>0.637765</td>\n",
       "      <td>0.551140</td>\n",
       "      <td>0.990844</td>\n",
       "      <td>0.886845</td>\n",
       "    </tr>\n",
       "    <tr>\n",
       "      <th>5</th>\n",
       "      <td>osm</td>\n",
       "      <td>microsoft</td>\n",
       "      <td>BE</td>\n",
       "      <td>all</td>\n",
       "      <td>3.234526e+09</td>\n",
       "      <td>1.098563e+10</td>\n",
       "      <td>1.775455e+09</td>\n",
       "      <td>2.394596e+09</td>\n",
       "      <td>2.586242e+09</td>\n",
       "      <td>0.548907</td>\n",
       "      <td>0.161616</td>\n",
       "      <td>0.741443</td>\n",
       "      <td>0.686500</td>\n",
       "    </tr>\n",
       "  </tbody>\n",
       "</table>\n",
       "<p>108 rows × 13 columns</p>\n",
       "</div>"
      ],
      "text/plain": [
       "         from         to country urban_type  building_area_1  building_area_2  \\\n",
       "0     eubucco        jrc      MT          1     1.513486e+08     1.426050e+08   \n",
       "1   microsoft    eubucco      MT          1     1.248624e+08     1.925913e+08   \n",
       "2   microsoft        jrc      MT          1     6.636786e+07     7.953749e+07   \n",
       "3         osm    eubucco      MT          1     5.081315e+07     4.408972e+07   \n",
       "4         osm        jrc      MT          1     2.338679e+07     2.605937e+07   \n",
       "..        ...        ...     ...        ...              ...              ...   \n",
       "1   microsoft    eubucco      BE        all     1.368085e+10     3.670350e+09   \n",
       "2   microsoft        jrc      BE        all     1.130382e+10     3.991321e+09   \n",
       "3         osm    eubucco      BE        all     4.643723e+09     4.098864e+09   \n",
       "4         osm        jrc      BE        all     3.720293e+09     4.305027e+09   \n",
       "5         osm  microsoft      BE        all     3.234526e+09     1.098563e+10   \n",
       "\n",
       "     shared_area  total_area_1  total_area_2  perc_shared_area_1  \\\n",
       "0   3.420526e+07  4.950755e+07  4.611161e+07            0.226003   \n",
       "1   3.223348e+07  4.429262e+07  4.950755e+07            0.258152   \n",
       "2   3.981608e+07  4.429262e+07  4.611161e+07            0.599930   \n",
       "3   1.356617e+07  1.677033e+07  4.950755e+07            0.266982   \n",
       "4   1.650339e+07  1.677033e+07  4.611161e+07            0.705671   \n",
       "..           ...           ...           ...                 ...   \n",
       "1   1.961361e+09  2.586242e+09  2.756630e+09            0.143365   \n",
       "2   1.904512e+09  2.586242e+09  2.675408e+09            0.168484   \n",
       "3   2.239569e+09  2.394596e+09  2.756630e+09            0.482279   \n",
       "4   2.372671e+09  2.394596e+09  2.675408e+09            0.637765   \n",
       "5   1.775455e+09  2.394596e+09  2.586242e+09            0.548907   \n",
       "\n",
       "    perc_shared_area_2  perc_shared_area_1-all  perc_shared_area_2-all  \n",
       "0             0.239860                0.690910                0.741793  \n",
       "1             0.167367                0.727739                0.651082  \n",
       "2             0.500595                0.898933                0.863472  \n",
       "3             0.307695                0.808939                0.274022  \n",
       "4             0.633300                0.984083                0.357901  \n",
       "..                 ...                     ...                     ...  \n",
       "1             0.534380                0.758383                0.711507  \n",
       "2             0.477163                0.736401                0.711858  \n",
       "3             0.546388                0.935260                0.812430  \n",
       "4             0.551140                0.990844                0.886845  \n",
       "5             0.161616                0.741443                0.686500  \n",
       "\n",
       "[108 rows x 13 columns]"
      ]
     },
     "execution_count": 25,
     "metadata": {},
     "output_type": "execute_result"
    }
   ],
   "source": [
    "#district level\n",
    "#compute total number of area per distric\n",
    "df_areas=[]\n",
    "import pandas as pd\n",
    "countries=['MT','SE','DK','EL','BE']\n",
    "for country in countries:\n",
    "    df_area=pd.read_excel('/mnt/CAS/20240101_foss4g/datasets/out/shared_area_raw/%s/area_overlapped.xlsx' %(country))\n",
    "    df_area=pd.DataFrame(df_area.groupby(['from','to','country','urban_type'])['building_area_1','building_area_2','shared_area','total_area_1','total_area_2'].sum()).reset_index()\n",
    "\n",
    "    df_area['perc_shared_area_1']=df_area['shared_area']/df_area['building_area_1']\n",
    "    df_area['perc_shared_area_2']=df_area['shared_area']/df_area['building_area_2']\n",
    "    \n",
    "    df_area['perc_shared_area_1-all']=df_area['shared_area']/df_area['total_area_1']\n",
    "    df_area['perc_shared_area_2-all']=df_area['shared_area']/df_area['total_area_2']\n",
    "    \n",
    "    df_area['country']=country\n",
    "    df_areas.append(df_area)\n",
    "\n",
    "for country in countries:\n",
    "    df_area=pd.read_excel('/mnt/CAS/20240101_foss4g/datasets/out/shared_area_raw/%s/area_overlapped.xlsx' %(country))\n",
    "    df_area=pd.DataFrame(df_area.groupby(['from','to','country'])['building_area_1','building_area_2','shared_area','total_area_1','total_area_2'].sum()).reset_index()\n",
    "\n",
    "    df_area['perc_shared_area_1']=df_area['shared_area']/df_area['building_area_1']\n",
    "    df_area['perc_shared_area_2']=df_area['shared_area']/df_area['building_area_2']\n",
    "    \n",
    "    df_area['perc_shared_area_1-all']=df_area['shared_area']/df_area['total_area_1']\n",
    "    df_area['perc_shared_area_2-all']=df_area['shared_area']/df_area['total_area_2']\n",
    "    \n",
    "    df_area['country']=country\n",
    "    df_area['urban_type']='all'\n",
    "    df_areas.append(df_area)\n",
    "df_areas=pd.concat(df_areas)\n",
    "df_areas.to_excel('/mnt/CAS/20240101_foss4g/datasets/out/shared_area_raw/ALL_area_overlapped_stat.xlsx',index=False)\n",
    "df_areas"
   ]
  },
  {
   "cell_type": "code",
   "execution_count": 26,
   "id": "f773cb61",
   "metadata": {
    "ExecuteTime": {
     "end_time": "2024-02-09T12:40:10.894083Z",
     "start_time": "2024-02-09T12:40:10.732254Z"
    }
   },
   "outputs": [
    {
     "data": {
      "text/html": [
       "<div>\n",
       "<style scoped>\n",
       "    .dataframe tbody tr th:only-of-type {\n",
       "        vertical-align: middle;\n",
       "    }\n",
       "\n",
       "    .dataframe tbody tr th {\n",
       "        vertical-align: top;\n",
       "    }\n",
       "\n",
       "    .dataframe thead th {\n",
       "        text-align: right;\n",
       "    }\n",
       "</style>\n",
       "<table border=\"1\" class=\"dataframe\">\n",
       "  <thead>\n",
       "    <tr style=\"text-align: right;\">\n",
       "      <th>to</th>\n",
       "      <th>from</th>\n",
       "      <th>eubucco</th>\n",
       "      <th>jrc</th>\n",
       "      <th>microsoft</th>\n",
       "      <th>osm</th>\n",
       "      <th>country</th>\n",
       "      <th>urban_type</th>\n",
       "    </tr>\n",
       "  </thead>\n",
       "  <tbody>\n",
       "    <tr>\n",
       "      <th>0</th>\n",
       "      <td>eubucco</td>\n",
       "      <td>100.00</td>\n",
       "      <td>69.09</td>\n",
       "      <td>65.11</td>\n",
       "      <td>27.40</td>\n",
       "      <td>MT</td>\n",
       "      <td>1</td>\n",
       "    </tr>\n",
       "    <tr>\n",
       "      <th>1</th>\n",
       "      <td>jrc</td>\n",
       "      <td>74.18</td>\n",
       "      <td>100.00</td>\n",
       "      <td>86.35</td>\n",
       "      <td>35.79</td>\n",
       "      <td>MT</td>\n",
       "      <td>1</td>\n",
       "    </tr>\n",
       "    <tr>\n",
       "      <th>2</th>\n",
       "      <td>microsoft</td>\n",
       "      <td>72.77</td>\n",
       "      <td>89.89</td>\n",
       "      <td>100.00</td>\n",
       "      <td>25.42</td>\n",
       "      <td>MT</td>\n",
       "      <td>1</td>\n",
       "    </tr>\n",
       "    <tr>\n",
       "      <th>3</th>\n",
       "      <td>osm</td>\n",
       "      <td>80.89</td>\n",
       "      <td>98.41</td>\n",
       "      <td>67.15</td>\n",
       "      <td>100.00</td>\n",
       "      <td>MT</td>\n",
       "      <td>1</td>\n",
       "    </tr>\n",
       "    <tr>\n",
       "      <th>0</th>\n",
       "      <td>eubucco</td>\n",
       "      <td>100.00</td>\n",
       "      <td>98.39</td>\n",
       "      <td>55.44</td>\n",
       "      <td>98.21</td>\n",
       "      <td>SE</td>\n",
       "      <td>1</td>\n",
       "    </tr>\n",
       "    <tr>\n",
       "      <th>...</th>\n",
       "      <td>...</td>\n",
       "      <td>...</td>\n",
       "      <td>...</td>\n",
       "      <td>...</td>\n",
       "      <td>...</td>\n",
       "      <td>...</td>\n",
       "      <td>...</td>\n",
       "    </tr>\n",
       "    <tr>\n",
       "      <th>3</th>\n",
       "      <td>osm</td>\n",
       "      <td>63.78</td>\n",
       "      <td>98.04</td>\n",
       "      <td>73.74</td>\n",
       "      <td>100.00</td>\n",
       "      <td>EL</td>\n",
       "      <td>all</td>\n",
       "    </tr>\n",
       "    <tr>\n",
       "      <th>0</th>\n",
       "      <td>eubucco</td>\n",
       "      <td>100.00</td>\n",
       "      <td>85.87</td>\n",
       "      <td>71.15</td>\n",
       "      <td>81.24</td>\n",
       "      <td>BE</td>\n",
       "      <td>all</td>\n",
       "    </tr>\n",
       "    <tr>\n",
       "      <th>1</th>\n",
       "      <td>jrc</td>\n",
       "      <td>88.48</td>\n",
       "      <td>100.00</td>\n",
       "      <td>71.19</td>\n",
       "      <td>88.68</td>\n",
       "      <td>BE</td>\n",
       "      <td>all</td>\n",
       "    </tr>\n",
       "    <tr>\n",
       "      <th>2</th>\n",
       "      <td>microsoft</td>\n",
       "      <td>75.84</td>\n",
       "      <td>73.64</td>\n",
       "      <td>100.00</td>\n",
       "      <td>68.65</td>\n",
       "      <td>BE</td>\n",
       "      <td>all</td>\n",
       "    </tr>\n",
       "    <tr>\n",
       "      <th>3</th>\n",
       "      <td>osm</td>\n",
       "      <td>93.53</td>\n",
       "      <td>99.08</td>\n",
       "      <td>74.14</td>\n",
       "      <td>100.00</td>\n",
       "      <td>BE</td>\n",
       "      <td>all</td>\n",
       "    </tr>\n",
       "  </tbody>\n",
       "</table>\n",
       "<p>72 rows × 7 columns</p>\n",
       "</div>"
      ],
      "text/plain": [
       "to       from  eubucco     jrc  microsoft     osm country urban_type\n",
       "0     eubucco   100.00   69.09      65.11   27.40      MT          1\n",
       "1         jrc    74.18  100.00      86.35   35.79      MT          1\n",
       "2   microsoft    72.77   89.89     100.00   25.42      MT          1\n",
       "3         osm    80.89   98.41      67.15  100.00      MT          1\n",
       "0     eubucco   100.00   98.39      55.44   98.21      SE          1\n",
       "..        ...      ...     ...        ...     ...     ...        ...\n",
       "3         osm    63.78   98.04      73.74  100.00      EL        all\n",
       "0     eubucco   100.00   85.87      71.15   81.24      BE        all\n",
       "1         jrc    88.48  100.00      71.19   88.68      BE        all\n",
       "2   microsoft    75.84   73.64     100.00   68.65      BE        all\n",
       "3         osm    93.53   99.08      74.14  100.00      BE        all\n",
       "\n",
       "[72 rows x 7 columns]"
      ]
     },
     "execution_count": 26,
     "metadata": {},
     "output_type": "execute_result"
    }
   ],
   "source": [
    "import pandas as pd\n",
    "import numpy as np\n",
    "df_areas=pd.read_excel('/mnt/CAS/20240101_foss4g/datasets/out/shared_area_raw/ALL_area_overlapped_stat.xlsx')\n",
    "overlapping_stats_all=[]\n",
    "for urban_type in list(df_areas['urban_type'].unique()):\n",
    "    for country in countries:\n",
    "        tmp=df_areas[(df_areas['country']==country) &(df_areas['urban_type']==urban_type)]\n",
    "        if len(tmp)==0:\n",
    "            continue\n",
    "        tmp_stat=[]\n",
    "        for row in tmp.values:\n",
    "            tmp_stat.append((row[0],row[1],row[-2]*100))\n",
    "            tmp_stat.append((row[1],row[0],row[-1]*100))\n",
    "            tmp_stat.append((row[0],row[0],100))\n",
    "            tmp_stat.append((row[1],row[1],100))\n",
    "        tmp_stat=pd.DataFrame(tmp_stat).drop_duplicates().reset_index()\n",
    "        del(tmp_stat['index'])\n",
    "        tmp_stat.columns=['from','to','value']\n",
    "        tmp_stat=tmp_stat.pivot(index='from', columns='to', values='value').reset_index()\n",
    "        tmp_stat['country']=country\n",
    "        tmp_stat['urban_type']=urban_type\n",
    "        overlapping_stats_all.append(tmp_stat)\n",
    "overlapping_stats_all=pd.concat(overlapping_stats_all)\n",
    "overlapping_stats_all=np.round(overlapping_stats_all,2)\n",
    "overlapping_stats_all.to_excel('/mnt/CAS/20240101_foss4g/datasets/out/shared_area_raw/ALL_area_overlapped_stat_pivot.xlsx',index=False)\n",
    "overlapping_stats_all"
   ]
  },
  {
   "cell_type": "markdown",
   "id": "5154f7d6",
   "metadata": {},
   "source": [
    "# Statistics intersection all"
   ]
  },
  {
   "cell_type": "markdown",
   "id": "2826a5ac",
   "metadata": {},
   "source": [
    "## Importing data"
   ]
  },
  {
   "cell_type": "code",
   "execution_count": 33,
   "id": "a0713be0",
   "metadata": {
    "ExecuteTime": {
     "end_time": "2024-02-09T18:21:03.588058Z",
     "start_time": "2024-02-09T18:21:03.299934Z"
    }
   },
   "outputs": [],
   "source": [
    "import pandas as pd\n",
    "countries=['MT','SE','DK','EL','BE']\n",
    "df_areas=[]\n",
    "for country in countries:\n",
    "    df_area=pd.read_excel('/mnt/CAS/20240101_foss4g/datasets/out/shared_area_raw/%s/area_overlapped_intersection_all.xlsx' %(country))\n",
    "    df_area=pd.DataFrame(df_area.groupby(['country_osm','urban_type_osm'])['area_sqm_osm','area_sqm_eubucco','area_sqm_jrc','area_sqm_microsoft','shared_area',\n",
    "                                                                           'total_area_osm','total_area_microsoft','total_area_jrc','total_area_eubucco'].sum()).reset_index()\n",
    "\n",
    "    df_area['perc_shared_osm']=df_area['shared_area']/df_area['area_sqm_osm']\n",
    "    df_area['perc_shared_eubucco']=df_area['shared_area']/df_area['area_sqm_eubucco']\n",
    "    df_area['perc_shared_jrc']=df_area['shared_area']/df_area['area_sqm_jrc']\n",
    "    df_area['perc_shared_microsoft']=df_area['shared_area']/df_area['area_sqm_microsoft']\n",
    "    \n",
    "    \n",
    "    \n",
    "    df_area['perc_shared_osm-all']=df_area['shared_area']/df_area['total_area_osm']\n",
    "    df_area['perc_shared_microsoft-all']=df_area['shared_area']/df_area['total_area_microsoft']\n",
    "    df_area['perc_shared_jrc-all']=df_area['shared_area']/df_area['total_area_jrc']\n",
    "    df_area['perc_shared_eubucco-all']=df_area['shared_area']/df_area['total_area_eubucco']\n",
    "    \n",
    "    df_areas.append(df_area)\n",
    "    \n",
    "for country in countries:\n",
    "    df_area=pd.read_excel('/mnt/CAS/20240101_foss4g/datasets/out/shared_area_raw/%s/area_overlapped_intersection_all.xlsx' %(country))\n",
    "    df_area=pd.DataFrame(df_area.groupby(['country_osm'])['area_sqm_osm','area_sqm_eubucco','area_sqm_jrc','area_sqm_microsoft','shared_area',\n",
    "                                                                           'total_area_osm','total_area_microsoft','total_area_jrc','total_area_eubucco'].sum()).reset_index()\n",
    "    df_area['urban_type_osm']='all'\n",
    "    df_area['perc_shared_osm']=df_area['shared_area']/df_area['area_sqm_osm']\n",
    "    df_area['perc_shared_eubucco']=df_area['shared_area']/df_area['area_sqm_eubucco']\n",
    "    df_area['perc_shared_jrc']=df_area['shared_area']/df_area['area_sqm_jrc']\n",
    "    df_area['perc_shared_microsoft']=df_area['shared_area']/df_area['area_sqm_microsoft']\n",
    "    \n",
    "    \n",
    "    \n",
    "    df_area['perc_shared_osm-all']=df_area['shared_area']/df_area['total_area_osm']\n",
    "    df_area['perc_shared_microsoft-all']=df_area['shared_area']/df_area['total_area_microsoft']\n",
    "    df_area['perc_shared_jrc-all']=df_area['shared_area']/df_area['total_area_jrc']\n",
    "    df_area['perc_shared_eubucco-all']=df_area['shared_area']/df_area['total_area_eubucco']\n",
    "    \n",
    "    df_areas.append(df_area)\n",
    "    \n",
    "    \n",
    "df_areas=pd.concat(df_areas)\n",
    "df_areas.to_excel('/mnt/CAS/20240101_foss4g/datasets/out/shared_area_raw/ALL_area_overlapped_intersection_stat.xlsx',index=False)"
   ]
  },
  {
   "cell_type": "markdown",
   "id": "90802c4a",
   "metadata": {},
   "source": [
    "## Generating heatmaps"
   ]
  },
  {
   "cell_type": "code",
   "execution_count": 62,
   "id": "dcf0b41e",
   "metadata": {
    "ExecuteTime": {
     "end_time": "2024-02-10T10:36:50.940115Z",
     "start_time": "2024-02-10T10:36:47.605208Z"
    }
   },
   "outputs": [
    {
     "data": {
      "image/png": "[encoded data removed]",
      "text/plain": [
       "<Figure size 648x432 with 2 Axes>"
      ]
     },
     "metadata": {},
     "output_type": "display_data"
    },
    {
     "data": {
      "image/png": "[encoded data removed]",
      "text/plain": [
       "<Figure size 648x432 with 2 Axes>"
      ]
     },
     "metadata": {},
     "output_type": "display_data"
    },
    {
     "data": {
      "image/png": "[encoded data removed]",
      "text/plain": [
       "<Figure size 648x432 with 2 Axes>"
      ]
     },
     "metadata": {},
     "output_type": "display_data"
    },
    {
     "data": {
      "image/png": "[encoded data removed]",
      "text/plain": [
       "<Figure size 648x432 with 2 Axes>"
      ]
     },
     "metadata": {},
     "output_type": "display_data"
    }
   ],
   "source": [
    "import pandas as pd\n",
    "df_areas=pd.read_excel('/mnt/CAS/20240101_foss4g/datasets/out/shared_area_raw/ALL_area_overlapped_intersection_stat.xlsx')\n",
    "for ut in list(df_areas['urban_type_osm'].unique()):\n",
    "    import matplotlib.pyplot as plt\n",
    "    import seaborn as sns\n",
    "    sns.set_theme()\n",
    "    tmp=df_areas[df_areas['urban_type_osm']==ut][['country_osm','perc_shared_osm-all','perc_shared_microsoft-all','perc_shared_jrc-all','perc_shared_eubucco-all']]\n",
    "    tmp.index=tmp['country_osm']\n",
    "    del(tmp['country_osm'])\n",
    "\n",
    "    # Draw a heatmap with the numeric values in each cell\n",
    "    f, ax = plt.subplots(figsize=(9, 6))\n",
    "    sns.heatmap(tmp, annot=True, linewidths=.5, ax=ax,vmin=0, vmax=1)\n",
    "    plt.xticks(rotation=0)\n",
    "    plt.yticks(rotation=0)\n",
    "    xtick_positions = [0, 1, 2, 3]  # Example positions\n",
    "    xtick_positions = [i + 0.5 for i in range(len(xtick_positions))]\n",
    "    xtick_labels = ['Label 1', 'Label 2', 'Label 3', 'Label 4']  # Example labels\n",
    "    plt.xticks(ticks=xtick_positions, labels=['osm(%)','microsoft(%)','jrc-bdsm(%)','eubucco(%)'])\n",
    "    plt.ylabel('')\n",
    "    plt.title('urban type %s'%(ut))\n",
    "    plt.savefig('/mnt/CAS/20240101_foss4g/plots/overlapping_all/intersection_all_%s.png' %(ut),dpi=300)"
   ]
  },
  {
   "cell_type": "markdown",
   "id": "ac68f44d",
   "metadata": {},
   "source": [
    "## Plotting layers"
   ]
  },
  {
   "cell_type": "code",
   "execution_count": 7,
   "id": "fe0c37bb",
   "metadata": {
    "ExecuteTime": {
     "end_time": "2024-02-12T09:56:02.806416Z",
     "start_time": "2024-02-12T09:55:40.753277Z"
    }
   },
   "outputs": [
    {
     "name": "stdout",
     "output_type": "stream",
     "text": [
      "2024-02-12 10:55:41.706709 importing MT osm\n",
      "2024-02-12 10:55:44.828734 The column area_sqm contains strings. We convert to float\n",
      "2024-02-12 10:55:44.840212 The column num_vertices contains strings. We convert to float\n",
      "2024-02-12 10:55:44.851531 importing MT eubucco\n",
      "2024-02-12 10:55:56.484771 The column area_sqm contains strings. We convert to float\n",
      "2024-02-12 10:55:56.603538 The column num_vertices contains strings. We convert to float\n",
      "2024-02-12 10:55:56.737332 importing MT jrc-dbsm\n",
      "2024-02-12 10:55:59.079855 The column area_sqm contains strings. We convert to float\n",
      "2024-02-12 10:55:59.120777 The column num_vertices contains strings. We convert to float\n",
      "2024-02-12 10:55:59.164585 importing MT microsoft\n",
      "2024-02-12 10:56:02.559162 The column area_sqm contains strings. We convert to float\n",
      "2024-02-12 10:56:02.613941 The column num_vertices contains strings. We convert to float\n"
     ]
    }
   ],
   "source": [
    "import pandas as pd\n",
    "country='MT'\n",
    "gdfs_osm=load_enriched_data_dask(country,'osm')\n",
    "gdf_eubucco=load_enriched_data_dask(country,'eubucco')\n",
    "gdf_jrc=load_enriched_data_dask(country,'jrc-dbsm')\n",
    "gdf_microsoft=load_enriched_data_dask(country,'microsoft')\n",
    "gdf_microsoft['microsoft-id']=[str(el) for el in gdf_microsoft['microsoft-id'].values]\n",
    "intersection=pd.read_csv('/mnt/CAS/20240101_foss4g/datasets/out/shared_area_raw/%s/intersection_all.csv.zip' %(country),compression='zip')"
   ]
  },
  {
   "cell_type": "code",
   "execution_count": 92,
   "id": "f37e120b",
   "metadata": {
    "ExecuteTime": {
     "end_time": "2024-02-12T10:59:18.550401Z",
     "start_time": "2024-02-12T10:59:17.706757Z"
    }
   },
   "outputs": [
    {
     "name": "stdout",
     "output_type": "stream",
     "text": [
      "plotting  [908329004, 447446321, 907704492]\n"
     ]
    }
   ],
   "source": [
    "import matplotlib.pyplot as plt\n",
    "import geopandas as gpd\n",
    "import contextily as ctx\n",
    "\n",
    "int_stat = intersection.groupby(['osm-id'])['country_osm'].count().reset_index().sort_values(ascending=False, by='country_osm').reset_index()\n",
    "idx = [int_stat.iloc[0]['osm-id'], int_stat.iloc[-1]['osm-id'], int_stat.iloc[int(len(int_stat) / 2)]['osm-id']]\n",
    "print('plotting ', idx)\n",
    "\n",
    "import folium\n",
    "import geopandas as gpd\n",
    "from shapely.geometry import mapping\n",
    "from folium.plugins import MiniMap\n",
    "import folium\n",
    "\n",
    "\n",
    "# Create a Folium map\n",
    "for start_id in idx:\n",
    "    tmp = intersection[intersection['osm-id'] == start_id]\n",
    "    tmp_gdfs = []\n",
    "    for gdf, dataset, color in zip([gdfs_osm, gdf_eubucco, gdf_jrc, gdf_microsoft], ['osm', 'eubucco', 'jrc', 'microsoft'], ['black', 'red', 'blue', 'pink']):\n",
    "        ids = [str(id_) for id_ in list(tmp[f'{dataset}-id'].unique())]\n",
    "        gdf_ = gdf[gdf[f'{dataset}-id'].isin(ids)]\n",
    "        # Convert the GeoDataFrame to GeoJSON format\n",
    "        geojson_data = gdf_.__geo_interface__\n",
    "        if dataset=='osm':\n",
    "            m = folium.Map(location=[gdf_.geometry.centroid.y, gdf_.geometry.centroid.x], zoom_start=12)\n",
    "            \n",
    "\n",
    "        # Add GeoJSON data as a layer to the Folium map\n",
    "        folium.GeoJson(\n",
    "            geojson_data,\n",
    "            name=dataset,\n",
    "            style_function=lambda feature, color=color: {\n",
    "                'name':dataset,\n",
    "                'color': color,\n",
    "                'weight': 1,\n",
    "                'opacity': 1,\n",
    "                'fillColor': 'none',  # No fill color\n",
    "            }\n",
    "        ).add_to(m)\n",
    "        \n",
    "        \n",
    "        tmp_gdfs.append(gdf_[[f'{dataset}-id','source','dataset','country','nuts_id','geometry']])\n",
    "\n",
    "    for i in range(1, 4):\n",
    "        if i == 1:\n",
    "            building_intersection = gpd.overlay(tmp_gdfs[0], tmp_gdfs[i][['geometry']], how='intersection')\n",
    "        else:\n",
    "            building_intersection = gpd.overlay(building_intersection, tmp_gdfs[i][['geometry']], how='intersection')\n",
    "\n",
    "    #cleaning data\n",
    "    building_intersection['osm-id']=None\n",
    "    building_intersection['source']=None\n",
    "    building_intersection['dataset']='Intersection'\n",
    "    building_intersection\n",
    "\n",
    "    tmp_gdfs.append(building_intersection)\n",
    "    # Convert the intersection GeoDataFrame to GeoJSON format\n",
    "    geojson_data = building_intersection[['osm-id','geometry']].__geo_interface__\n",
    "\n",
    "    # Add GeoJSON data as a layer to the Folium map\n",
    "    folium.GeoJson(\n",
    "        geojson_data,\n",
    "        name='Intersection',\n",
    "        style_function=lambda feature: {\n",
    "            'name':'Intersection',\n",
    "            'fillColor': 'yellow',\n",
    "            'color': 'yellow',\n",
    "            'weight': 1,\n",
    "            'fillOpacity': 0.3  # Adjust the fill opacity here (e.g., 0.3 for 30% opacity)\n",
    "        }\n",
    "    ).add_to(m)\n",
    "\n",
    "    \n",
    "    # Create a legend\n",
    "    legend_html = '''\n",
    "        <div style=\"position: fixed; bottom: 50px; right: 50px; z-index:9999; font-size:14px;\">\n",
    "        <p><span style=\"background-color: black; border-radius: 50%; padding: 2px 6px;\"></span> OSM</p>\n",
    "        <p><span style=\"background-color: red; border-radius: 50%; padding: 2px 6px;\"></span> Eubucco</p>\n",
    "        <p><span style=\"background-color: blue; border-radius: 50%; padding: 2px 6px;\"></span> JRC</p>\n",
    "        <p><span style=\"background-color: pink; border-radius: 50%; padding: 2px 6px;\"></span> Microsoft</p>\n",
    "        <p><span style=\"background-color: yellow; border-radius: 50%; padding: 2px 6px;\"></span> Intersection</p>\n",
    "        </div>\n",
    "        '''\n",
    "\n",
    "    m.get_root().html.add_child(branca.element.Element(legend_html))\n",
    "    \n",
    "    # Display the Folium map\n",
    "    m.fit_bounds(m.get_bounds())\n",
    "    m.save('/mnt/CAS/20240101_foss4g/plots/overlapping_all/%s_%s.html'%(country,start_id))\n",
    "    \n",
    "    #save gpkg\n",
    "    tmp_gdfs=pd.concat(tmp_gdfs)\n",
    "    tmp_gdfs.to_file('/mnt/CAS/20240101_foss4g/plots/overlapping_all/%s_%s.gpkg' %(country,start_id),driver='GPKG')"
   ]
  },
  {
   "cell_type": "markdown",
   "id": "bcde484a",
   "metadata": {
    "ExecuteTime": {
     "end_time": "2024-02-06T09:46:29.137961Z",
     "start_time": "2024-02-06T09:46:29.053315Z"
    }
   },
   "source": [
    "# Map district per urban type"
   ]
  },
  {
   "cell_type": "code",
   "execution_count": 145,
   "id": "05a93eff",
   "metadata": {
    "ExecuteTime": {
     "end_time": "2024-02-07T12:57:51.776956Z",
     "start_time": "2024-02-07T12:57:34.844701Z"
    }
   },
   "outputs": [
    {
     "data": {
      "text/plain": [
       "<Figure size 864x720 with 0 Axes>"
      ]
     },
     "metadata": {},
     "output_type": "display_data"
    },
    {
     "data": {
      "image/png": "[encoded data removed]",
      "text/plain": [
       "<Figure size 432x288 with 1 Axes>"
      ]
     },
     "metadata": {},
     "output_type": "display_data"
    },
    {
     "data": {
      "text/plain": [
       "<Figure size 864x720 with 0 Axes>"
      ]
     },
     "metadata": {},
     "output_type": "display_data"
    },
    {
     "data": {
      "image/png": "[encoded data removed]",
      "text/plain": [
       "<Figure size 432x288 with 1 Axes>"
      ]
     },
     "metadata": {},
     "output_type": "display_data"
    },
    {
     "data": {
      "text/plain": [
       "<Figure size 864x720 with 0 Axes>"
      ]
     },
     "metadata": {},
     "output_type": "display_data"
    },
    {
     "data": {
      "image/png": "[encoded data removed]",
      "text/plain": [
       "<Figure size 432x288 with 1 Axes>"
      ]
     },
     "metadata": {},
     "output_type": "display_data"
    },
    {
     "data": {
      "text/plain": [
       "<Figure size 864x720 with 0 Axes>"
      ]
     },
     "metadata": {},
     "output_type": "display_data"
    },
    {
     "data": {
      "image/png": "[encoded data removed]",
      "text/plain": [
       "<Figure size 432x288 with 1 Axes>"
      ]
     },
     "metadata": {},
     "output_type": "display_data"
    },
    {
     "data": {
      "text/plain": [
       "<Figure size 864x720 with 0 Axes>"
      ]
     },
     "metadata": {},
     "output_type": "display_data"
    },
    {
     "data": {
      "image/png": "[encoded data removed]",
      "text/plain": [
       "<Figure size 432x288 with 1 Axes>"
      ]
     },
     "metadata": {},
     "output_type": "display_data"
    },
    {
     "data": {
      "text/plain": [
       "<Figure size 864x720 with 0 Axes>"
      ]
     },
     "metadata": {},
     "output_type": "display_data"
    },
    {
     "data": {
      "image/png": "[encoded data removed]",
      "text/plain": [
       "<Figure size 432x288 with 1 Axes>"
      ]
     },
     "metadata": {},
     "output_type": "display_data"
    },
    {
     "data": {
      "text/plain": [
       "<Figure size 864x720 with 0 Axes>"
      ]
     },
     "metadata": {},
     "output_type": "display_data"
    },
    {
     "data": {
      "image/png": "[encoded data removed]",
      "text/plain": [
       "<Figure size 432x288 with 1 Axes>"
      ]
     },
     "metadata": {},
     "output_type": "display_data"
    }
   ],
   "source": [
    "for country in ['IT','MT','ES','EL','BE','SE','DK']:\n",
    "    plot_country_geometries(country)"
   ]
  },
  {
   "cell_type": "markdown",
   "id": "401d46ea",
   "metadata": {},
   "source": [
    "# Total number of buildings/area for each urban type"
   ]
  },
  {
   "cell_type": "code",
   "execution_count": 1,
   "id": "88016de7",
   "metadata": {
    "ExecuteTime": {
     "end_time": "2024-02-09T08:53:17.133310Z",
     "start_time": "2024-02-09T08:53:07.760130Z"
    }
   },
   "outputs": [
    {
     "name": "stdout",
     "output_type": "stream",
     "text": [
      "['BE_eubucco_output.xlsx', 'BE_jrc-dbsm_output.xlsx', 'BE_microsoft_output.xlsx', 'BE_osm_output.xlsx', 'DK_eubucco_output.xlsx', 'DK_jrc-dbsm_output.xlsx', 'DK_microsoft_output.xlsx', 'DK_osm_output.xlsx', 'EL_eubucco_output.xlsx', 'EL_jrc-dbsm_output.xlsx', 'EL_microsoft_output.xlsx', 'EL_osm_output.xlsx', 'MT_eubucco_output.xlsx', 'MT_jrc-dbsm_output.xlsx', 'MT_microsoft_output.xlsx', 'MT_osm_output.xlsx', 'SE_eubucco_output.xlsx', 'SE_jrc-dbsm_output.xlsx', 'SE_microsoft_output.xlsx', 'SE_osm_output.xlsx']\n",
      "processing BE_eubucco_output.xlsx\n"
     ]
    },
    {
     "name": "stderr",
     "output_type": "stream",
     "text": [
      "/home/gabrlor/.conda/envs/cuda_env/lib/python3.7/site-packages/ipykernel_launcher.py:15: FutureWarning: Indexing with multiple keys (implicitly converted to a tuple of keys) will be deprecated, use a list instead.\n",
      "  from ipykernel import kernelapp as app\n"
     ]
    },
    {
     "name": "stdout",
     "output_type": "stream",
     "text": [
      "processing BE_jrc-dbsm_output.xlsx\n",
      "processing BE_microsoft_output.xlsx\n",
      "processing BE_osm_output.xlsx\n",
      "processing DK_eubucco_output.xlsx\n",
      "processing DK_jrc-dbsm_output.xlsx\n",
      "processing DK_microsoft_output.xlsx\n",
      "processing DK_osm_output.xlsx\n",
      "processing EL_eubucco_output.xlsx\n",
      "processing EL_jrc-dbsm_output.xlsx\n",
      "processing EL_microsoft_output.xlsx\n",
      "processing EL_osm_output.xlsx\n",
      "processing MT_eubucco_output.xlsx\n",
      "processing MT_jrc-dbsm_output.xlsx\n",
      "processing MT_microsoft_output.xlsx\n",
      "processing MT_osm_output.xlsx\n",
      "processing SE_eubucco_output.xlsx\n",
      "processing SE_jrc-dbsm_output.xlsx\n",
      "processing SE_microsoft_output.xlsx\n",
      "processing SE_osm_output.xlsx\n",
      "exporting results\n"
     ]
    },
    {
     "data": {
      "text/html": [
       "<div>\n",
       "<style scoped>\n",
       "    .dataframe tbody tr th:only-of-type {\n",
       "        vertical-align: middle;\n",
       "    }\n",
       "\n",
       "    .dataframe tbody tr th {\n",
       "        vertical-align: top;\n",
       "    }\n",
       "\n",
       "    .dataframe thead th {\n",
       "        text-align: right;\n",
       "    }\n",
       "</style>\n",
       "<table border=\"1\" class=\"dataframe\">\n",
       "  <thead>\n",
       "    <tr style=\"text-align: right;\">\n",
       "      <th></th>\n",
       "      <th>country</th>\n",
       "      <th>dataset</th>\n",
       "      <th>urban_type</th>\n",
       "      <th>nr_buildings</th>\n",
       "      <th>area_sqm</th>\n",
       "      <th>num_vertices</th>\n",
       "      <th>file</th>\n",
       "    </tr>\n",
       "  </thead>\n",
       "  <tbody>\n",
       "    <tr>\n",
       "      <th>0</th>\n",
       "      <td>BE</td>\n",
       "      <td>eubucco</td>\n",
       "      <td>1</td>\n",
       "      <td>3893252</td>\n",
       "      <td>1.249106e+09</td>\n",
       "      <td>39999377</td>\n",
       "      <td>BE_eubucco_output.xlsx</td>\n",
       "    </tr>\n",
       "    <tr>\n",
       "      <th>1</th>\n",
       "      <td>BE</td>\n",
       "      <td>eubucco</td>\n",
       "      <td>2</td>\n",
       "      <td>3714814</td>\n",
       "      <td>1.268681e+09</td>\n",
       "      <td>28959530</td>\n",
       "      <td>BE_eubucco_output.xlsx</td>\n",
       "    </tr>\n",
       "    <tr>\n",
       "      <th>2</th>\n",
       "      <td>BE</td>\n",
       "      <td>eubucco</td>\n",
       "      <td>3</td>\n",
       "      <td>1028048</td>\n",
       "      <td>2.388423e+08</td>\n",
       "      <td>7107787</td>\n",
       "      <td>BE_eubucco_output.xlsx</td>\n",
       "    </tr>\n",
       "    <tr>\n",
       "      <th>0</th>\n",
       "      <td>BE</td>\n",
       "      <td>jrc</td>\n",
       "      <td>1</td>\n",
       "      <td>2975609</td>\n",
       "      <td>1.192574e+09</td>\n",
       "      <td>20508580</td>\n",
       "      <td>BE_jrc-dbsm_output.xlsx</td>\n",
       "    </tr>\n",
       "    <tr>\n",
       "      <th>1</th>\n",
       "      <td>BE</td>\n",
       "      <td>jrc</td>\n",
       "      <td>2</td>\n",
       "      <td>2980716</td>\n",
       "      <td>1.218025e+09</td>\n",
       "      <td>20715033</td>\n",
       "      <td>BE_jrc-dbsm_output.xlsx</td>\n",
       "    </tr>\n",
       "    <tr>\n",
       "      <th>2</th>\n",
       "      <td>BE</td>\n",
       "      <td>jrc</td>\n",
       "      <td>3</td>\n",
       "      <td>653709</td>\n",
       "      <td>2.648088e+08</td>\n",
       "      <td>3985302</td>\n",
       "      <td>BE_jrc-dbsm_output.xlsx</td>\n",
       "    </tr>\n",
       "    <tr>\n",
       "      <th>0</th>\n",
       "      <td>BE</td>\n",
       "      <td>microsoft</td>\n",
       "      <td>1</td>\n",
       "      <td>1798035</td>\n",
       "      <td>1.145768e+09</td>\n",
       "      <td>11085356</td>\n",
       "      <td>BE_microsoft_output.xlsx</td>\n",
       "    </tr>\n",
       "    <tr>\n",
       "      <th>1</th>\n",
       "      <td>BE</td>\n",
       "      <td>microsoft</td>\n",
       "      <td>2</td>\n",
       "      <td>2192338</td>\n",
       "      <td>1.164003e+09</td>\n",
       "      <td>12740668</td>\n",
       "      <td>BE_microsoft_output.xlsx</td>\n",
       "    </tr>\n",
       "    <tr>\n",
       "      <th>2</th>\n",
       "      <td>BE</td>\n",
       "      <td>microsoft</td>\n",
       "      <td>3</td>\n",
       "      <td>567030</td>\n",
       "      <td>2.764717e+08</td>\n",
       "      <td>3230341</td>\n",
       "      <td>BE_microsoft_output.xlsx</td>\n",
       "    </tr>\n",
       "    <tr>\n",
       "      <th>0</th>\n",
       "      <td>BE</td>\n",
       "      <td>geofabrik</td>\n",
       "      <td>1</td>\n",
       "      <td>2831423</td>\n",
       "      <td>1.076447e+09</td>\n",
       "      <td>19034695</td>\n",
       "      <td>BE_osm_output.xlsx</td>\n",
       "    </tr>\n",
       "    <tr>\n",
       "      <th>1</th>\n",
       "      <td>BE</td>\n",
       "      <td>geofabrik</td>\n",
       "      <td>2</td>\n",
       "      <td>2792767</td>\n",
       "      <td>1.087763e+09</td>\n",
       "      <td>19070916</td>\n",
       "      <td>BE_osm_output.xlsx</td>\n",
       "    </tr>\n",
       "    <tr>\n",
       "      <th>2</th>\n",
       "      <td>BE</td>\n",
       "      <td>geofabrik</td>\n",
       "      <td>3</td>\n",
       "      <td>587261</td>\n",
       "      <td>2.303860e+08</td>\n",
       "      <td>3487513</td>\n",
       "      <td>BE_osm_output.xlsx</td>\n",
       "    </tr>\n",
       "    <tr>\n",
       "      <th>0</th>\n",
       "      <td>DK</td>\n",
       "      <td>eubucco</td>\n",
       "      <td>1</td>\n",
       "      <td>523584</td>\n",
       "      <td>1.867128e+08</td>\n",
       "      <td>3739379</td>\n",
       "      <td>DK_eubucco_output.xlsx</td>\n",
       "    </tr>\n",
       "    <tr>\n",
       "      <th>1</th>\n",
       "      <td>DK</td>\n",
       "      <td>eubucco</td>\n",
       "      <td>2</td>\n",
       "      <td>2970287</td>\n",
       "      <td>1.196304e+09</td>\n",
       "      <td>20314483</td>\n",
       "      <td>DK_eubucco_output.xlsx</td>\n",
       "    </tr>\n",
       "    <tr>\n",
       "      <th>2</th>\n",
       "      <td>DK</td>\n",
       "      <td>eubucco</td>\n",
       "      <td>3</td>\n",
       "      <td>2190863</td>\n",
       "      <td>9.613272e+08</td>\n",
       "      <td>15150941</td>\n",
       "      <td>DK_eubucco_output.xlsx</td>\n",
       "    </tr>\n",
       "    <tr>\n",
       "      <th>0</th>\n",
       "      <td>DK</td>\n",
       "      <td>jrc</td>\n",
       "      <td>1</td>\n",
       "      <td>301238</td>\n",
       "      <td>1.858273e+08</td>\n",
       "      <td>2319262</td>\n",
       "      <td>DK_jrc-dbsm_output.xlsx</td>\n",
       "    </tr>\n",
       "    <tr>\n",
       "      <th>1</th>\n",
       "      <td>DK</td>\n",
       "      <td>jrc</td>\n",
       "      <td>2</td>\n",
       "      <td>1933636</td>\n",
       "      <td>1.210599e+09</td>\n",
       "      <td>14404551</td>\n",
       "      <td>DK_jrc-dbsm_output.xlsx</td>\n",
       "    </tr>\n",
       "    <tr>\n",
       "      <th>2</th>\n",
       "      <td>DK</td>\n",
       "      <td>jrc</td>\n",
       "      <td>3</td>\n",
       "      <td>1530381</td>\n",
       "      <td>9.805495e+08</td>\n",
       "      <td>11497608</td>\n",
       "      <td>DK_jrc-dbsm_output.xlsx</td>\n",
       "    </tr>\n",
       "    <tr>\n",
       "      <th>0</th>\n",
       "      <td>DK</td>\n",
       "      <td>microsoft</td>\n",
       "      <td>1</td>\n",
       "      <td>304888</td>\n",
       "      <td>1.831809e+08</td>\n",
       "      <td>1770544</td>\n",
       "      <td>DK_microsoft_output.xlsx</td>\n",
       "    </tr>\n",
       "    <tr>\n",
       "      <th>1</th>\n",
       "      <td>DK</td>\n",
       "      <td>microsoft</td>\n",
       "      <td>2</td>\n",
       "      <td>1819728</td>\n",
       "      <td>1.073385e+09</td>\n",
       "      <td>10936474</td>\n",
       "      <td>DK_microsoft_output.xlsx</td>\n",
       "    </tr>\n",
       "    <tr>\n",
       "      <th>2</th>\n",
       "      <td>DK</td>\n",
       "      <td>microsoft</td>\n",
       "      <td>3</td>\n",
       "      <td>1417229</td>\n",
       "      <td>8.552310e+08</td>\n",
       "      <td>8579917</td>\n",
       "      <td>DK_microsoft_output.xlsx</td>\n",
       "    </tr>\n",
       "    <tr>\n",
       "      <th>0</th>\n",
       "      <td>DK</td>\n",
       "      <td>geofabrik</td>\n",
       "      <td>1</td>\n",
       "      <td>293842</td>\n",
       "      <td>1.787069e+08</td>\n",
       "      <td>2245546</td>\n",
       "      <td>DK_osm_output.xlsx</td>\n",
       "    </tr>\n",
       "    <tr>\n",
       "      <th>1</th>\n",
       "      <td>DK</td>\n",
       "      <td>geofabrik</td>\n",
       "      <td>2</td>\n",
       "      <td>1879790</td>\n",
       "      <td>1.163830e+09</td>\n",
       "      <td>13947546</td>\n",
       "      <td>DK_osm_output.xlsx</td>\n",
       "    </tr>\n",
       "    <tr>\n",
       "      <th>2</th>\n",
       "      <td>DK</td>\n",
       "      <td>geofabrik</td>\n",
       "      <td>3</td>\n",
       "      <td>1481243</td>\n",
       "      <td>9.402195e+08</td>\n",
       "      <td>11063085</td>\n",
       "      <td>DK_osm_output.xlsx</td>\n",
       "    </tr>\n",
       "    <tr>\n",
       "      <th>0</th>\n",
       "      <td>EL</td>\n",
       "      <td>eubucco</td>\n",
       "      <td>1</td>\n",
       "      <td>451111</td>\n",
       "      <td>1.632719e+08</td>\n",
       "      <td>40941467</td>\n",
       "      <td>EL_eubucco_output.xlsx</td>\n",
       "    </tr>\n",
       "    <tr>\n",
       "      <th>1</th>\n",
       "      <td>EL</td>\n",
       "      <td>eubucco</td>\n",
       "      <td>2</td>\n",
       "      <td>151685</td>\n",
       "      <td>6.144667e+07</td>\n",
       "      <td>11928126</td>\n",
       "      <td>EL_eubucco_output.xlsx</td>\n",
       "    </tr>\n",
       "    <tr>\n",
       "      <th>2</th>\n",
       "      <td>EL</td>\n",
       "      <td>eubucco</td>\n",
       "      <td>3</td>\n",
       "      <td>253344</td>\n",
       "      <td>7.984271e+07</td>\n",
       "      <td>19257889</td>\n",
       "      <td>EL_eubucco_output.xlsx</td>\n",
       "    </tr>\n",
       "    <tr>\n",
       "      <th>0</th>\n",
       "      <td>EL</td>\n",
       "      <td>jrc</td>\n",
       "      <td>1</td>\n",
       "      <td>1027506</td>\n",
       "      <td>3.905703e+08</td>\n",
       "      <td>7096255</td>\n",
       "      <td>EL_jrc-dbsm_output.xlsx</td>\n",
       "    </tr>\n",
       "    <tr>\n",
       "      <th>1</th>\n",
       "      <td>EL</td>\n",
       "      <td>jrc</td>\n",
       "      <td>2</td>\n",
       "      <td>1232890</td>\n",
       "      <td>4.152610e+08</td>\n",
       "      <td>7181182</td>\n",
       "      <td>EL_jrc-dbsm_output.xlsx</td>\n",
       "    </tr>\n",
       "    <tr>\n",
       "      <th>2</th>\n",
       "      <td>EL</td>\n",
       "      <td>jrc</td>\n",
       "      <td>3</td>\n",
       "      <td>2279832</td>\n",
       "      <td>6.976481e+08</td>\n",
       "      <td>12841881</td>\n",
       "      <td>EL_jrc-dbsm_output.xlsx</td>\n",
       "    </tr>\n",
       "    <tr>\n",
       "      <th>0</th>\n",
       "      <td>EL</td>\n",
       "      <td>microsoft</td>\n",
       "      <td>1</td>\n",
       "      <td>965411</td>\n",
       "      <td>3.916163e+08</td>\n",
       "      <td>5446524</td>\n",
       "      <td>EL_microsoft_output.xlsx</td>\n",
       "    </tr>\n",
       "    <tr>\n",
       "      <th>1</th>\n",
       "      <td>EL</td>\n",
       "      <td>microsoft</td>\n",
       "      <td>2</td>\n",
       "      <td>1645338</td>\n",
       "      <td>4.068529e+08</td>\n",
       "      <td>8103205</td>\n",
       "      <td>EL_microsoft_output.xlsx</td>\n",
       "    </tr>\n",
       "    <tr>\n",
       "      <th>2</th>\n",
       "      <td>EL</td>\n",
       "      <td>microsoft</td>\n",
       "      <td>3</td>\n",
       "      <td>3112001</td>\n",
       "      <td>6.758543e+08</td>\n",
       "      <td>14885896</td>\n",
       "      <td>EL_microsoft_output.xlsx</td>\n",
       "    </tr>\n",
       "    <tr>\n",
       "      <th>0</th>\n",
       "      <td>EL</td>\n",
       "      <td>geofabrik</td>\n",
       "      <td>1</td>\n",
       "      <td>547111</td>\n",
       "      <td>1.926000e+08</td>\n",
       "      <td>3952760</td>\n",
       "      <td>EL_osm_output.xlsx</td>\n",
       "    </tr>\n",
       "    <tr>\n",
       "      <th>1</th>\n",
       "      <td>EL</td>\n",
       "      <td>geofabrik</td>\n",
       "      <td>2</td>\n",
       "      <td>207942</td>\n",
       "      <td>9.330272e+07</td>\n",
       "      <td>1161757</td>\n",
       "      <td>EL_osm_output.xlsx</td>\n",
       "    </tr>\n",
       "    <tr>\n",
       "      <th>2</th>\n",
       "      <td>EL</td>\n",
       "      <td>geofabrik</td>\n",
       "      <td>3</td>\n",
       "      <td>462494</td>\n",
       "      <td>1.852540e+08</td>\n",
       "      <td>2444901</td>\n",
       "      <td>EL_osm_output.xlsx</td>\n",
       "    </tr>\n",
       "    <tr>\n",
       "      <th>0</th>\n",
       "      <td>MT</td>\n",
       "      <td>eubucco</td>\n",
       "      <td>1</td>\n",
       "      <td>141329</td>\n",
       "      <td>4.950755e+07</td>\n",
       "      <td>1773519</td>\n",
       "      <td>MT_eubucco_output.xlsx</td>\n",
       "    </tr>\n",
       "    <tr>\n",
       "      <th>0</th>\n",
       "      <td>MT</td>\n",
       "      <td>jrc</td>\n",
       "      <td>1</td>\n",
       "      <td>58247</td>\n",
       "      <td>4.611161e+07</td>\n",
       "      <td>512266</td>\n",
       "      <td>MT_jrc-dbsm_output.xlsx</td>\n",
       "    </tr>\n",
       "    <tr>\n",
       "      <th>0</th>\n",
       "      <td>MT</td>\n",
       "      <td>microsoft</td>\n",
       "      <td>1</td>\n",
       "      <td>73579</td>\n",
       "      <td>4.429262e+07</td>\n",
       "      <td>525718</td>\n",
       "      <td>MT_microsoft_output.xlsx</td>\n",
       "    </tr>\n",
       "    <tr>\n",
       "      <th>0</th>\n",
       "      <td>MT</td>\n",
       "      <td>geofabrik</td>\n",
       "      <td>1</td>\n",
       "      <td>20225</td>\n",
       "      <td>1.677033e+07</td>\n",
       "      <td>130503</td>\n",
       "      <td>MT_osm_output.xlsx</td>\n",
       "    </tr>\n",
       "    <tr>\n",
       "      <th>0</th>\n",
       "      <td>SE</td>\n",
       "      <td>eubucco</td>\n",
       "      <td>1</td>\n",
       "      <td>864938</td>\n",
       "      <td>7.069880e+08</td>\n",
       "      <td>67104330</td>\n",
       "      <td>SE_eubucco_output.xlsx</td>\n",
       "    </tr>\n",
       "    <tr>\n",
       "      <th>1</th>\n",
       "      <td>SE</td>\n",
       "      <td>eubucco</td>\n",
       "      <td>2</td>\n",
       "      <td>1348164</td>\n",
       "      <td>1.191054e+09</td>\n",
       "      <td>105558917</td>\n",
       "      <td>SE_eubucco_output.xlsx</td>\n",
       "    </tr>\n",
       "    <tr>\n",
       "      <th>2</th>\n",
       "      <td>SE</td>\n",
       "      <td>eubucco</td>\n",
       "      <td>3</td>\n",
       "      <td>291859</td>\n",
       "      <td>2.404685e+08</td>\n",
       "      <td>22663471</td>\n",
       "      <td>SE_eubucco_output.xlsx</td>\n",
       "    </tr>\n",
       "    <tr>\n",
       "      <th>0</th>\n",
       "      <td>SE</td>\n",
       "      <td>jrc</td>\n",
       "      <td>1</td>\n",
       "      <td>1321929</td>\n",
       "      <td>9.508158e+08</td>\n",
       "      <td>7385741</td>\n",
       "      <td>SE_jrc-dbsm_output.xlsx</td>\n",
       "    </tr>\n",
       "    <tr>\n",
       "      <th>1</th>\n",
       "      <td>SE</td>\n",
       "      <td>jrc</td>\n",
       "      <td>2</td>\n",
       "      <td>2825319</td>\n",
       "      <td>2.140227e+09</td>\n",
       "      <td>16382019</td>\n",
       "      <td>SE_jrc-dbsm_output.xlsx</td>\n",
       "    </tr>\n",
       "    <tr>\n",
       "      <th>2</th>\n",
       "      <td>SE</td>\n",
       "      <td>jrc</td>\n",
       "      <td>3</td>\n",
       "      <td>789325</td>\n",
       "      <td>5.253255e+08</td>\n",
       "      <td>4450621</td>\n",
       "      <td>SE_jrc-dbsm_output.xlsx</td>\n",
       "    </tr>\n",
       "    <tr>\n",
       "      <th>0</th>\n",
       "      <td>SE</td>\n",
       "      <td>microsoft</td>\n",
       "      <td>1</td>\n",
       "      <td>1552012</td>\n",
       "      <td>7.728884e+08</td>\n",
       "      <td>8589577</td>\n",
       "      <td>SE_microsoft_output.xlsx</td>\n",
       "    </tr>\n",
       "    <tr>\n",
       "      <th>1</th>\n",
       "      <td>SE</td>\n",
       "      <td>microsoft</td>\n",
       "      <td>2</td>\n",
       "      <td>3728973</td>\n",
       "      <td>1.855800e+09</td>\n",
       "      <td>20042806</td>\n",
       "      <td>SE_microsoft_output.xlsx</td>\n",
       "    </tr>\n",
       "    <tr>\n",
       "      <th>2</th>\n",
       "      <td>SE</td>\n",
       "      <td>microsoft</td>\n",
       "      <td>3</td>\n",
       "      <td>1141609</td>\n",
       "      <td>4.792833e+08</td>\n",
       "      <td>5909303</td>\n",
       "      <td>SE_microsoft_output.xlsx</td>\n",
       "    </tr>\n",
       "    <tr>\n",
       "      <th>0</th>\n",
       "      <td>SE</td>\n",
       "      <td>geofabrik</td>\n",
       "      <td>1</td>\n",
       "      <td>969741</td>\n",
       "      <td>7.560631e+08</td>\n",
       "      <td>5115593</td>\n",
       "      <td>SE_osm_output.xlsx</td>\n",
       "    </tr>\n",
       "    <tr>\n",
       "      <th>1</th>\n",
       "      <td>SE</td>\n",
       "      <td>geofabrik</td>\n",
       "      <td>2</td>\n",
       "      <td>1700609</td>\n",
       "      <td>1.436854e+09</td>\n",
       "      <td>9045065</td>\n",
       "      <td>SE_osm_output.xlsx</td>\n",
       "    </tr>\n",
       "    <tr>\n",
       "      <th>2</th>\n",
       "      <td>SE</td>\n",
       "      <td>geofabrik</td>\n",
       "      <td>3</td>\n",
       "      <td>380317</td>\n",
       "      <td>2.919059e+08</td>\n",
       "      <td>1963953</td>\n",
       "      <td>SE_osm_output.xlsx</td>\n",
       "    </tr>\n",
       "  </tbody>\n",
       "</table>\n",
       "</div>"
      ],
      "text/plain": [
       "  country    dataset  urban_type  nr_buildings      area_sqm  num_vertices  \\\n",
       "0      BE    eubucco           1       3893252  1.249106e+09      39999377   \n",
       "1      BE    eubucco           2       3714814  1.268681e+09      28959530   \n",
       "2      BE    eubucco           3       1028048  2.388423e+08       7107787   \n",
       "0      BE        jrc           1       2975609  1.192574e+09      20508580   \n",
       "1      BE        jrc           2       2980716  1.218025e+09      20715033   \n",
       "2      BE        jrc           3        653709  2.648088e+08       3985302   \n",
       "0      BE  microsoft           1       1798035  1.145768e+09      11085356   \n",
       "1      BE  microsoft           2       2192338  1.164003e+09      12740668   \n",
       "2      BE  microsoft           3        567030  2.764717e+08       3230341   \n",
       "0      BE  geofabrik           1       2831423  1.076447e+09      19034695   \n",
       "1      BE  geofabrik           2       2792767  1.087763e+09      19070916   \n",
       "2      BE  geofabrik           3        587261  2.303860e+08       3487513   \n",
       "0      DK    eubucco           1        523584  1.867128e+08       3739379   \n",
       "1      DK    eubucco           2       2970287  1.196304e+09      20314483   \n",
       "2      DK    eubucco           3       2190863  9.613272e+08      15150941   \n",
       "0      DK        jrc           1        301238  1.858273e+08       2319262   \n",
       "1      DK        jrc           2       1933636  1.210599e+09      14404551   \n",
       "2      DK        jrc           3       1530381  9.805495e+08      11497608   \n",
       "0      DK  microsoft           1        304888  1.831809e+08       1770544   \n",
       "1      DK  microsoft           2       1819728  1.073385e+09      10936474   \n",
       "2      DK  microsoft           3       1417229  8.552310e+08       8579917   \n",
       "0      DK  geofabrik           1        293842  1.787069e+08       2245546   \n",
       "1      DK  geofabrik           2       1879790  1.163830e+09      13947546   \n",
       "2      DK  geofabrik           3       1481243  9.402195e+08      11063085   \n",
       "0      EL    eubucco           1        451111  1.632719e+08      40941467   \n",
       "1      EL    eubucco           2        151685  6.144667e+07      11928126   \n",
       "2      EL    eubucco           3        253344  7.984271e+07      19257889   \n",
       "0      EL        jrc           1       1027506  3.905703e+08       7096255   \n",
       "1      EL        jrc           2       1232890  4.152610e+08       7181182   \n",
       "2      EL        jrc           3       2279832  6.976481e+08      12841881   \n",
       "0      EL  microsoft           1        965411  3.916163e+08       5446524   \n",
       "1      EL  microsoft           2       1645338  4.068529e+08       8103205   \n",
       "2      EL  microsoft           3       3112001  6.758543e+08      14885896   \n",
       "0      EL  geofabrik           1        547111  1.926000e+08       3952760   \n",
       "1      EL  geofabrik           2        207942  9.330272e+07       1161757   \n",
       "2      EL  geofabrik           3        462494  1.852540e+08       2444901   \n",
       "0      MT    eubucco           1        141329  4.950755e+07       1773519   \n",
       "0      MT        jrc           1         58247  4.611161e+07        512266   \n",
       "0      MT  microsoft           1         73579  4.429262e+07        525718   \n",
       "0      MT  geofabrik           1         20225  1.677033e+07        130503   \n",
       "0      SE    eubucco           1        864938  7.069880e+08      67104330   \n",
       "1      SE    eubucco           2       1348164  1.191054e+09     105558917   \n",
       "2      SE    eubucco           3        291859  2.404685e+08      22663471   \n",
       "0      SE        jrc           1       1321929  9.508158e+08       7385741   \n",
       "1      SE        jrc           2       2825319  2.140227e+09      16382019   \n",
       "2      SE        jrc           3        789325  5.253255e+08       4450621   \n",
       "0      SE  microsoft           1       1552012  7.728884e+08       8589577   \n",
       "1      SE  microsoft           2       3728973  1.855800e+09      20042806   \n",
       "2      SE  microsoft           3       1141609  4.792833e+08       5909303   \n",
       "0      SE  geofabrik           1        969741  7.560631e+08       5115593   \n",
       "1      SE  geofabrik           2       1700609  1.436854e+09       9045065   \n",
       "2      SE  geofabrik           3        380317  2.919059e+08       1963953   \n",
       "\n",
       "                       file  \n",
       "0    BE_eubucco_output.xlsx  \n",
       "1    BE_eubucco_output.xlsx  \n",
       "2    BE_eubucco_output.xlsx  \n",
       "0   BE_jrc-dbsm_output.xlsx  \n",
       "1   BE_jrc-dbsm_output.xlsx  \n",
       "2   BE_jrc-dbsm_output.xlsx  \n",
       "0  BE_microsoft_output.xlsx  \n",
       "1  BE_microsoft_output.xlsx  \n",
       "2  BE_microsoft_output.xlsx  \n",
       "0        BE_osm_output.xlsx  \n",
       "1        BE_osm_output.xlsx  \n",
       "2        BE_osm_output.xlsx  \n",
       "0    DK_eubucco_output.xlsx  \n",
       "1    DK_eubucco_output.xlsx  \n",
       "2    DK_eubucco_output.xlsx  \n",
       "0   DK_jrc-dbsm_output.xlsx  \n",
       "1   DK_jrc-dbsm_output.xlsx  \n",
       "2   DK_jrc-dbsm_output.xlsx  \n",
       "0  DK_microsoft_output.xlsx  \n",
       "1  DK_microsoft_output.xlsx  \n",
       "2  DK_microsoft_output.xlsx  \n",
       "0        DK_osm_output.xlsx  \n",
       "1        DK_osm_output.xlsx  \n",
       "2        DK_osm_output.xlsx  \n",
       "0    EL_eubucco_output.xlsx  \n",
       "1    EL_eubucco_output.xlsx  \n",
       "2    EL_eubucco_output.xlsx  \n",
       "0   EL_jrc-dbsm_output.xlsx  \n",
       "1   EL_jrc-dbsm_output.xlsx  \n",
       "2   EL_jrc-dbsm_output.xlsx  \n",
       "0  EL_microsoft_output.xlsx  \n",
       "1  EL_microsoft_output.xlsx  \n",
       "2  EL_microsoft_output.xlsx  \n",
       "0        EL_osm_output.xlsx  \n",
       "1        EL_osm_output.xlsx  \n",
       "2        EL_osm_output.xlsx  \n",
       "0    MT_eubucco_output.xlsx  \n",
       "0   MT_jrc-dbsm_output.xlsx  \n",
       "0  MT_microsoft_output.xlsx  \n",
       "0        MT_osm_output.xlsx  \n",
       "0    SE_eubucco_output.xlsx  \n",
       "1    SE_eubucco_output.xlsx  \n",
       "2    SE_eubucco_output.xlsx  \n",
       "0   SE_jrc-dbsm_output.xlsx  \n",
       "1   SE_jrc-dbsm_output.xlsx  \n",
       "2   SE_jrc-dbsm_output.xlsx  \n",
       "0  SE_microsoft_output.xlsx  \n",
       "1  SE_microsoft_output.xlsx  \n",
       "2  SE_microsoft_output.xlsx  \n",
       "0        SE_osm_output.xlsx  \n",
       "1        SE_osm_output.xlsx  \n",
       "2        SE_osm_output.xlsx  "
      ]
     },
     "execution_count": 1,
     "metadata": {},
     "output_type": "execute_result"
    }
   ],
   "source": [
    "from os import listdir\n",
    "from os.path import isfile, join\n",
    "import pandas as pd\n",
    "gdfs_osm=[]\n",
    "\n",
    "path = '/mnt/CAS/20240101_foss4g/datasets/out/'\n",
    "onlyfiles = [f for f in listdir(path) if isfile(join(path, f)) if 'output' in f]\n",
    "onlyfiles =[f for f in onlyfiles if not('IT' in f)]\n",
    "onlyfiles =sorted([f for f in onlyfiles if not('ES' in f)])\n",
    "print(onlyfiles)\n",
    "total_area_buildings=[]\n",
    "for file in onlyfiles:\n",
    "    print('processing' , file)\n",
    "    tmp=pd.read_excel(path+file)\n",
    "    tmp_stat=tmp.groupby(['country','dataset','urban_type'])['nr_buildings','area_sqm','num_vertices'].sum().reset_index()\n",
    "    tmp_stat['file']=file\n",
    "    total_area_buildings.append(tmp_stat)\n",
    "    \n",
    "total_area_buildings=pd.concat(total_area_buildings)\n",
    "print('exporting results')\n",
    "total_area_buildings.to_excel('/mnt/CAS/20240101_foss4g/datasets/out/all_countries_stat.xlsx',index=False)\n",
    "total_area_buildings"
   ]
  },
  {
   "cell_type": "markdown",
   "id": "a8835f2c",
   "metadata": {},
   "source": [
    "# Global overview of the various datasets per urban type "
   ]
  },
  {
   "cell_type": "code",
   "execution_count": 18,
   "id": "7973237a",
   "metadata": {
    "ExecuteTime": {
     "end_time": "2024-02-09T09:45:18.148709Z",
     "start_time": "2024-02-09T09:45:17.869828Z"
    }
   },
   "outputs": [
    {
     "data": {
      "application/vnd.plotly.v1+json": {
       "config": {
        "plotlyServerURL": "https://plot.ly"
       },
       "data": [
        {
         "customdata": [
          [
           "BE"
          ],
          [
           "DK"
          ],
          [
           "EL"
          ],
          [
           "MT"
          ],
          [
           "SE"
          ]
         ],
         "hovertemplate": "dataset=eubucco<br>urban_type=1<br>nr_buildings=%{x}<br>area_sqm=%{y}<br>country=%{customdata[0]}<extra></extra>",
         "legendgroup": "eubucco",
         "marker": {
          "color": "#636efa",
          "symbol": "circle"
         },
         "mode": "markers+text",
         "name": "eubucco",
         "orientation": "v",
         "showlegend": true,
         "text": [
          "BE",
          "DK",
          "EL",
          "MT",
          "SE"
         ],
         "type": "scatter",
         "x": [
          3893252,
          523584,
          451111,
          141329,
          864938
         ],
         "xaxis": "x",
         "y": [
          1249105971.8265274,
          186712820.9037431,
          163271912.02754453,
          49507550.09761251,
          706987963.6213722
         ],
         "yaxis": "y"
        },
        {
         "customdata": [
          [
           "BE"
          ],
          [
           "DK"
          ],
          [
           "EL"
          ],
          [
           "SE"
          ]
         ],
         "hovertemplate": "dataset=eubucco<br>urban_type=2<br>nr_buildings=%{x}<br>area_sqm=%{y}<br>country=%{customdata[0]}<extra></extra>",
         "legendgroup": "eubucco",
         "marker": {
          "color": "#636efa",
          "symbol": "circle"
         },
         "mode": "markers+text",
         "name": "eubucco",
         "orientation": "v",
         "showlegend": false,
         "text": [
          "BE",
          "DK",
          "EL",
          "SE"
         ],
         "type": "scatter",
         "x": [
          3714814,
          2970287,
          151685,
          1348164
         ],
         "xaxis": "x2",
         "y": [
          1268681382.3896842,
          1196304425.5894806,
          61446665.63703105,
          1191054013.006144
         ],
         "yaxis": "y2"
        },
        {
         "customdata": [
          [
           "BE"
          ],
          [
           "DK"
          ],
          [
           "EL"
          ],
          [
           "SE"
          ]
         ],
         "hovertemplate": "dataset=eubucco<br>urban_type=3<br>nr_buildings=%{x}<br>area_sqm=%{y}<br>country=%{customdata[0]}<extra></extra>",
         "legendgroup": "eubucco",
         "marker": {
          "color": "#636efa",
          "symbol": "circle"
         },
         "mode": "markers+text",
         "name": "eubucco",
         "orientation": "v",
         "showlegend": false,
         "text": [
          "BE",
          "DK",
          "EL",
          "SE"
         ],
         "type": "scatter",
         "x": [
          1028048,
          2190863,
          253344,
          291859
         ],
         "xaxis": "x3",
         "y": [
          238842277.67750326,
          961327171.352901,
          79842708.35635275,
          240468541.8140564
         ],
         "yaxis": "y3"
        },
        {
         "customdata": [
          [
           "BE"
          ],
          [
           "DK"
          ],
          [
           "EL"
          ],
          [
           "MT"
          ],
          [
           "SE"
          ]
         ],
         "hovertemplate": "dataset=jrc<br>urban_type=1<br>nr_buildings=%{x}<br>area_sqm=%{y}<br>country=%{customdata[0]}<extra></extra>",
         "legendgroup": "jrc",
         "marker": {
          "color": "#EF553B",
          "symbol": "circle"
         },
         "mode": "markers+text",
         "name": "jrc",
         "orientation": "v",
         "showlegend": true,
         "text": [
          "BE",
          "DK",
          "EL",
          "MT",
          "SE"
         ],
         "type": "scatter",
         "x": [
          2975609,
          301238,
          1027506,
          58247,
          1321929
         ],
         "xaxis": "x",
         "y": [
          1192574320.4445655,
          185827310.51953363,
          390570307.66631365,
          46111610.06641419,
          950815753.1884298
         ],
         "yaxis": "y"
        },
        {
         "customdata": [
          [
           "BE"
          ],
          [
           "DK"
          ],
          [
           "EL"
          ],
          [
           "SE"
          ]
         ],
         "hovertemplate": "dataset=jrc<br>urban_type=2<br>nr_buildings=%{x}<br>area_sqm=%{y}<br>country=%{customdata[0]}<extra></extra>",
         "legendgroup": "jrc",
         "marker": {
          "color": "#EF553B",
          "symbol": "circle"
         },
         "mode": "markers+text",
         "name": "jrc",
         "orientation": "v",
         "showlegend": false,
         "text": [
          "BE",
          "DK",
          "EL",
          "SE"
         ],
         "type": "scatter",
         "x": [
          2980716,
          1933636,
          1232890,
          2825319
         ],
         "xaxis": "x2",
         "y": [
          1218024643.5464714,
          1210598796.2498949,
          415261003.98801863,
          2140227261.1981199
         ],
         "yaxis": "y2"
        },
        {
         "customdata": [
          [
           "BE"
          ],
          [
           "DK"
          ],
          [
           "EL"
          ],
          [
           "SE"
          ]
         ],
         "hovertemplate": "dataset=jrc<br>urban_type=3<br>nr_buildings=%{x}<br>area_sqm=%{y}<br>country=%{customdata[0]}<extra></extra>",
         "legendgroup": "jrc",
         "marker": {
          "color": "#EF553B",
          "symbol": "circle"
         },
         "mode": "markers+text",
         "name": "jrc",
         "orientation": "v",
         "showlegend": false,
         "text": [
          "BE",
          "DK",
          "EL",
          "SE"
         ],
         "type": "scatter",
         "x": [
          653709,
          1530381,
          2279832,
          789325
         ],
         "xaxis": "x3",
         "y": [
          264808842.51858595,
          980549515.4739062,
          697648117.9347274,
          525325537.79870754
         ],
         "yaxis": "y3"
        },
        {
         "customdata": [
          [
           "BE"
          ],
          [
           "DK"
          ],
          [
           "EL"
          ],
          [
           "MT"
          ],
          [
           "SE"
          ]
         ],
         "hovertemplate": "dataset=microsoft<br>urban_type=1<br>nr_buildings=%{x}<br>area_sqm=%{y}<br>country=%{customdata[0]}<extra></extra>",
         "legendgroup": "microsoft",
         "marker": {
          "color": "#00cc96",
          "symbol": "circle"
         },
         "mode": "markers+text",
         "name": "microsoft",
         "orientation": "v",
         "showlegend": true,
         "text": [
          "BE",
          "DK",
          "EL",
          "MT",
          "SE"
         ],
         "type": "scatter",
         "x": [
          1798035,
          304888,
          965411,
          73579,
          1552012
         ],
         "xaxis": "x",
         "y": [
          1145767530,
          183180921,
          391616333,
          44292615.15898016,
          772888360.4507895
         ],
         "yaxis": "y"
        },
        {
         "customdata": [
          [
           "BE"
          ],
          [
           "DK"
          ],
          [
           "EL"
          ],
          [
           "SE"
          ]
         ],
         "hovertemplate": "dataset=microsoft<br>urban_type=2<br>nr_buildings=%{x}<br>area_sqm=%{y}<br>country=%{customdata[0]}<extra></extra>",
         "legendgroup": "microsoft",
         "marker": {
          "color": "#00cc96",
          "symbol": "circle"
         },
         "mode": "markers+text",
         "name": "microsoft",
         "orientation": "v",
         "showlegend": false,
         "text": [
          "BE",
          "DK",
          "EL",
          "SE"
         ],
         "type": "scatter",
         "x": [
          2192338,
          1819728,
          1645338,
          3728973
         ],
         "xaxis": "x2",
         "y": [
          1164002976,
          1073385409,
          406852855,
          1855799516.856129
         ],
         "yaxis": "y2"
        },
        {
         "customdata": [
          [
           "BE"
          ],
          [
           "DK"
          ],
          [
           "EL"
          ],
          [
           "SE"
          ]
         ],
         "hovertemplate": "dataset=microsoft<br>urban_type=3<br>nr_buildings=%{x}<br>area_sqm=%{y}<br>country=%{customdata[0]}<extra></extra>",
         "legendgroup": "microsoft",
         "marker": {
          "color": "#00cc96",
          "symbol": "circle"
         },
         "mode": "markers+text",
         "name": "microsoft",
         "orientation": "v",
         "showlegend": false,
         "text": [
          "BE",
          "DK",
          "EL",
          "SE"
         ],
         "type": "scatter",
         "x": [
          567030,
          1417229,
          3112001,
          1141609
         ],
         "xaxis": "x3",
         "y": [
          276471688,
          855231033,
          675854314,
          479283297.7144368
         ],
         "yaxis": "y3"
        },
        {
         "customdata": [
          [
           "BE"
          ],
          [
           "DK"
          ],
          [
           "EL"
          ],
          [
           "MT"
          ],
          [
           "SE"
          ]
         ],
         "hovertemplate": "dataset=geofabrik<br>urban_type=1<br>nr_buildings=%{x}<br>area_sqm=%{y}<br>country=%{customdata[0]}<extra></extra>",
         "legendgroup": "geofabrik",
         "marker": {
          "color": "#ab63fa",
          "symbol": "circle"
         },
         "mode": "markers+text",
         "name": "geofabrik",
         "orientation": "v",
         "showlegend": true,
         "text": [
          "BE",
          "DK",
          "EL",
          "MT",
          "SE"
         ],
         "type": "scatter",
         "x": [
          2831423,
          293842,
          547111,
          20225,
          969741
         ],
         "xaxis": "x",
         "y": [
          1076447000.789173,
          178706898.17453623,
          192599993.68492797,
          16770331.506563481,
          756063053.3308733
         ],
         "yaxis": "y"
        },
        {
         "customdata": [
          [
           "BE"
          ],
          [
           "DK"
          ],
          [
           "EL"
          ],
          [
           "SE"
          ]
         ],
         "hovertemplate": "dataset=geofabrik<br>urban_type=2<br>nr_buildings=%{x}<br>area_sqm=%{y}<br>country=%{customdata[0]}<extra></extra>",
         "legendgroup": "geofabrik",
         "marker": {
          "color": "#ab63fa",
          "symbol": "circle"
         },
         "mode": "markers+text",
         "name": "geofabrik",
         "orientation": "v",
         "showlegend": false,
         "text": [
          "BE",
          "DK",
          "EL",
          "SE"
         ],
         "type": "scatter",
         "x": [
          2792767,
          1879790,
          207942,
          1700609
         ],
         "xaxis": "x2",
         "y": [
          1087762917.6971056,
          1163830420.03726,
          93302717.11712909,
          1436853636.991204
         ],
         "yaxis": "y2"
        },
        {
         "customdata": [
          [
           "BE"
          ],
          [
           "DK"
          ],
          [
           "EL"
          ],
          [
           "SE"
          ]
         ],
         "hovertemplate": "dataset=geofabrik<br>urban_type=3<br>nr_buildings=%{x}<br>area_sqm=%{y}<br>country=%{customdata[0]}<extra></extra>",
         "legendgroup": "geofabrik",
         "marker": {
          "color": "#ab63fa",
          "symbol": "circle"
         },
         "mode": "markers+text",
         "name": "geofabrik",
         "orientation": "v",
         "showlegend": false,
         "text": [
          "BE",
          "DK",
          "EL",
          "SE"
         ],
         "type": "scatter",
         "x": [
          587261,
          1481243,
          462494,
          380317
         ],
         "xaxis": "x3",
         "y": [
          230386041.41061276,
          940219508.5600072,
          185253968.41857257,
          291905854.2242534
         ],
         "yaxis": "y3"
        }
       ],
       "layout": {
        "annotations": [
         {
          "font": {},
          "showarrow": false,
          "text": "urban_type=1",
          "x": 0.15999999999999998,
          "xanchor": "center",
          "xref": "paper",
          "y": 1,
          "yanchor": "bottom",
          "yref": "paper"
         },
         {
          "font": {},
          "showarrow": false,
          "text": "urban_type=2",
          "x": 0.49999999999999994,
          "xanchor": "center",
          "xref": "paper",
          "y": 1,
          "yanchor": "bottom",
          "yref": "paper"
         },
         {
          "font": {},
          "showarrow": false,
          "text": "urban_type=3",
          "x": 0.8399999999999999,
          "xanchor": "center",
          "xref": "paper",
          "y": 1,
          "yanchor": "bottom",
          "yref": "paper"
         }
        ],
        "legend": {
         "title": {
          "text": "dataset"
         },
         "tracegroupgap": 0
        },
        "margin": {
         "t": 60
        },
        "template": {
         "data": {
          "bar": [
           {
            "error_x": {
             "color": "#2a3f5f"
            },
            "error_y": {
             "color": "#2a3f5f"
            },
            "marker": {
             "line": {
              "color": "#E5ECF6",
              "width": 0.5
             },
             "pattern": {
              "fillmode": "overlay",
              "size": 10,
              "solidity": 0.2
             }
            },
            "type": "bar"
           }
          ],
          "barpolar": [
           {
            "marker": {
             "line": {
              "color": "#E5ECF6",
              "width": 0.5
             },
             "pattern": {
              "fillmode": "overlay",
              "size": 10,
              "solidity": 0.2
             }
            },
            "type": "barpolar"
           }
          ],
          "carpet": [
           {
            "aaxis": {
             "endlinecolor": "#2a3f5f",
             "gridcolor": "white",
             "linecolor": "white",
             "minorgridcolor": "white",
             "startlinecolor": "#2a3f5f"
            },
            "baxis": {
             "endlinecolor": "#2a3f5f",
             "gridcolor": "white",
             "linecolor": "white",
             "minorgridcolor": "white",
             "startlinecolor": "#2a3f5f"
            },
            "type": "carpet"
           }
          ],
          "choropleth": [
           {
            "colorbar": {
             "outlinewidth": 0,
             "ticks": ""
            },
            "type": "choropleth"
           }
          ],
          "contour": [
           {
            "colorbar": {
             "outlinewidth": 0,
             "ticks": ""
            },
            "colorscale": [
             [
              0,
              "#0d0887"
             ],
             [
              0.1111111111111111,
              "#46039f"
             ],
             [
              0.2222222222222222,
              "#7201a8"
             ],
             [
              0.3333333333333333,
              "#9c179e"
             ],
             [
              0.4444444444444444,
              "#bd3786"
             ],
             [
              0.5555555555555556,
              "#d8576b"
             ],
             [
              0.6666666666666666,
              "#ed7953"
             ],
             [
              0.7777777777777778,
              "#fb9f3a"
             ],
             [
              0.8888888888888888,
              "#fdca26"
             ],
             [
              1,
              "#f0f921"
             ]
            ],
            "type": "contour"
           }
          ],
          "contourcarpet": [
           {
            "colorbar": {
             "outlinewidth": 0,
             "ticks": ""
            },
            "type": "contourcarpet"
           }
          ],
          "heatmap": [
           {
            "colorbar": {
             "outlinewidth": 0,
             "ticks": ""
            },
            "colorscale": [
             [
              0,
              "#0d0887"
             ],
             [
              0.1111111111111111,
              "#46039f"
             ],
             [
              0.2222222222222222,
              "#7201a8"
             ],
             [
              0.3333333333333333,
              "#9c179e"
             ],
             [
              0.4444444444444444,
              "#bd3786"
             ],
             [
              0.5555555555555556,
              "#d8576b"
             ],
             [
              0.6666666666666666,
              "#ed7953"
             ],
             [
              0.7777777777777778,
              "#fb9f3a"
             ],
             [
              0.8888888888888888,
              "#fdca26"
             ],
             [
              1,
              "#f0f921"
             ]
            ],
            "type": "heatmap"
           }
          ],
          "heatmapgl": [
           {
            "colorbar": {
             "outlinewidth": 0,
             "ticks": ""
            },
            "colorscale": [
             [
              0,
              "#0d0887"
             ],
             [
              0.1111111111111111,
              "#46039f"
             ],
             [
              0.2222222222222222,
              "#7201a8"
             ],
             [
              0.3333333333333333,
              "#9c179e"
             ],
             [
              0.4444444444444444,
              "#bd3786"
             ],
             [
              0.5555555555555556,
              "#d8576b"
             ],
             [
              0.6666666666666666,
              "#ed7953"
             ],
             [
              0.7777777777777778,
              "#fb9f3a"
             ],
             [
              0.8888888888888888,
              "#fdca26"
             ],
             [
              1,
              "#f0f921"
             ]
            ],
            "type": "heatmapgl"
           }
          ],
          "histogram": [
           {
            "marker": {
             "pattern": {
              "fillmode": "overlay",
              "size": 10,
              "solidity": 0.2
             }
            },
            "type": "histogram"
           }
          ],
          "histogram2d": [
           {
            "colorbar": {
             "outlinewidth": 0,
             "ticks": ""
            },
            "colorscale": [
             [
              0,
              "#0d0887"
             ],
             [
              0.1111111111111111,
              "#46039f"
             ],
             [
              0.2222222222222222,
              "#7201a8"
             ],
             [
              0.3333333333333333,
              "#9c179e"
             ],
             [
              0.4444444444444444,
              "#bd3786"
             ],
             [
              0.5555555555555556,
              "#d8576b"
             ],
             [
              0.6666666666666666,
              "#ed7953"
             ],
             [
              0.7777777777777778,
              "#fb9f3a"
             ],
             [
              0.8888888888888888,
              "#fdca26"
             ],
             [
              1,
              "#f0f921"
             ]
            ],
            "type": "histogram2d"
           }
          ],
          "histogram2dcontour": [
           {
            "colorbar": {
             "outlinewidth": 0,
             "ticks": ""
            },
            "colorscale": [
             [
              0,
              "#0d0887"
             ],
             [
              0.1111111111111111,
              "#46039f"
             ],
             [
              0.2222222222222222,
              "#7201a8"
             ],
             [
              0.3333333333333333,
              "#9c179e"
             ],
             [
              0.4444444444444444,
              "#bd3786"
             ],
             [
              0.5555555555555556,
              "#d8576b"
             ],
             [
              0.6666666666666666,
              "#ed7953"
             ],
             [
              0.7777777777777778,
              "#fb9f3a"
             ],
             [
              0.8888888888888888,
              "#fdca26"
             ],
             [
              1,
              "#f0f921"
             ]
            ],
            "type": "histogram2dcontour"
           }
          ],
          "mesh3d": [
           {
            "colorbar": {
             "outlinewidth": 0,
             "ticks": ""
            },
            "type": "mesh3d"
           }
          ],
          "parcoords": [
           {
            "line": {
             "colorbar": {
              "outlinewidth": 0,
              "ticks": ""
             }
            },
            "type": "parcoords"
           }
          ],
          "pie": [
           {
            "automargin": true,
            "type": "pie"
           }
          ],
          "scatter": [
           {
            "fillpattern": {
             "fillmode": "overlay",
             "size": 10,
             "solidity": 0.2
            },
            "type": "scatter"
           }
          ],
          "scatter3d": [
           {
            "line": {
             "colorbar": {
              "outlinewidth": 0,
              "ticks": ""
             }
            },
            "marker": {
             "colorbar": {
              "outlinewidth": 0,
              "ticks": ""
             }
            },
            "type": "scatter3d"
           }
          ],
          "scattercarpet": [
           {
            "marker": {
             "colorbar": {
              "outlinewidth": 0,
              "ticks": ""
             }
            },
            "type": "scattercarpet"
           }
          ],
          "scattergeo": [
           {
            "marker": {
             "colorbar": {
              "outlinewidth": 0,
              "ticks": ""
             }
            },
            "type": "scattergeo"
           }
          ],
          "scattergl": [
           {
            "marker": {
             "colorbar": {
              "outlinewidth": 0,
              "ticks": ""
             }
            },
            "type": "scattergl"
           }
          ],
          "scattermapbox": [
           {
            "marker": {
             "colorbar": {
              "outlinewidth": 0,
              "ticks": ""
             }
            },
            "type": "scattermapbox"
           }
          ],
          "scatterpolar": [
           {
            "marker": {
             "colorbar": {
              "outlinewidth": 0,
              "ticks": ""
             }
            },
            "type": "scatterpolar"
           }
          ],
          "scatterpolargl": [
           {
            "marker": {
             "colorbar": {
              "outlinewidth": 0,
              "ticks": ""
             }
            },
            "type": "scatterpolargl"
           }
          ],
          "scatterternary": [
           {
            "marker": {
             "colorbar": {
              "outlinewidth": 0,
              "ticks": ""
             }
            },
            "type": "scatterternary"
           }
          ],
          "surface": [
           {
            "colorbar": {
             "outlinewidth": 0,
             "ticks": ""
            },
            "colorscale": [
             [
              0,
              "#0d0887"
             ],
             [
              0.1111111111111111,
              "#46039f"
             ],
             [
              0.2222222222222222,
              "#7201a8"
             ],
             [
              0.3333333333333333,
              "#9c179e"
             ],
             [
              0.4444444444444444,
              "#bd3786"
             ],
             [
              0.5555555555555556,
              "#d8576b"
             ],
             [
              0.6666666666666666,
              "#ed7953"
             ],
             [
              0.7777777777777778,
              "#fb9f3a"
             ],
             [
              0.8888888888888888,
              "#fdca26"
             ],
             [
              1,
              "#f0f921"
             ]
            ],
            "type": "surface"
           }
          ],
          "table": [
           {
            "cells": {
             "fill": {
              "color": "#EBF0F8"
             },
             "line": {
              "color": "white"
             }
            },
            "header": {
             "fill": {
              "color": "#C8D4E3"
             },
             "line": {
              "color": "white"
             }
            },
            "type": "table"
           }
          ]
         },
         "layout": {
          "annotationdefaults": {
           "arrowcolor": "#2a3f5f",
           "arrowhead": 0,
           "arrowwidth": 1
          },
          "autotypenumbers": "strict",
          "coloraxis": {
           "colorbar": {
            "outlinewidth": 0,
            "ticks": ""
           }
          },
          "colorscale": {
           "diverging": [
            [
             0,
             "#8e0152"
            ],
            [
             0.1,
             "#c51b7d"
            ],
            [
             0.2,
             "#de77ae"
            ],
            [
             0.3,
             "#f1b6da"
            ],
            [
             0.4,
             "#fde0ef"
            ],
            [
             0.5,
             "#f7f7f7"
            ],
            [
             0.6,
             "#e6f5d0"
            ],
            [
             0.7,
             "#b8e186"
            ],
            [
             0.8,
             "#7fbc41"
            ],
            [
             0.9,
             "#4d9221"
            ],
            [
             1,
             "#276419"
            ]
           ],
           "sequential": [
            [
             0,
             "#0d0887"
            ],
            [
             0.1111111111111111,
             "#46039f"
            ],
            [
             0.2222222222222222,
             "#7201a8"
            ],
            [
             0.3333333333333333,
             "#9c179e"
            ],
            [
             0.4444444444444444,
             "#bd3786"
            ],
            [
             0.5555555555555556,
             "#d8576b"
            ],
            [
             0.6666666666666666,
             "#ed7953"
            ],
            [
             0.7777777777777778,
             "#fb9f3a"
            ],
            [
             0.8888888888888888,
             "#fdca26"
            ],
            [
             1,
             "#f0f921"
            ]
           ],
           "sequentialminus": [
            [
             0,
             "#0d0887"
            ],
            [
             0.1111111111111111,
             "#46039f"
            ],
            [
             0.2222222222222222,
             "#7201a8"
            ],
            [
             0.3333333333333333,
             "#9c179e"
            ],
            [
             0.4444444444444444,
             "#bd3786"
            ],
            [
             0.5555555555555556,
             "#d8576b"
            ],
            [
             0.6666666666666666,
             "#ed7953"
            ],
            [
             0.7777777777777778,
             "#fb9f3a"
            ],
            [
             0.8888888888888888,
             "#fdca26"
            ],
            [
             1,
             "#f0f921"
            ]
           ]
          },
          "colorway": [
           "#636efa",
           "#EF553B",
           "#00cc96",
           "#ab63fa",
           "#FFA15A",
           "#19d3f3",
           "#FF6692",
           "#B6E880",
           "#FF97FF",
           "#FECB52"
          ],
          "font": {
           "color": "#2a3f5f"
          },
          "geo": {
           "bgcolor": "white",
           "lakecolor": "white",
           "landcolor": "#E5ECF6",
           "showlakes": true,
           "showland": true,
           "subunitcolor": "white"
          },
          "hoverlabel": {
           "align": "left"
          },
          "hovermode": "closest",
          "mapbox": {
           "style": "light"
          },
          "paper_bgcolor": "white",
          "plot_bgcolor": "#E5ECF6",
          "polar": {
           "angularaxis": {
            "gridcolor": "white",
            "linecolor": "white",
            "ticks": ""
           },
           "bgcolor": "#E5ECF6",
           "radialaxis": {
            "gridcolor": "white",
            "linecolor": "white",
            "ticks": ""
           }
          },
          "scene": {
           "xaxis": {
            "backgroundcolor": "#E5ECF6",
            "gridcolor": "white",
            "gridwidth": 2,
            "linecolor": "white",
            "showbackground": true,
            "ticks": "",
            "zerolinecolor": "white"
           },
           "yaxis": {
            "backgroundcolor": "#E5ECF6",
            "gridcolor": "white",
            "gridwidth": 2,
            "linecolor": "white",
            "showbackground": true,
            "ticks": "",
            "zerolinecolor": "white"
           },
           "zaxis": {
            "backgroundcolor": "#E5ECF6",
            "gridcolor": "white",
            "gridwidth": 2,
            "linecolor": "white",
            "showbackground": true,
            "ticks": "",
            "zerolinecolor": "white"
           }
          },
          "shapedefaults": {
           "line": {
            "color": "#2a3f5f"
           }
          },
          "ternary": {
           "aaxis": {
            "gridcolor": "white",
            "linecolor": "white",
            "ticks": ""
           },
           "baxis": {
            "gridcolor": "white",
            "linecolor": "white",
            "ticks": ""
           },
           "bgcolor": "#E5ECF6",
           "caxis": {
            "gridcolor": "white",
            "linecolor": "white",
            "ticks": ""
           }
          },
          "title": {
           "x": 0.05
          },
          "xaxis": {
           "automargin": true,
           "gridcolor": "white",
           "linecolor": "white",
           "ticks": "",
           "title": {
            "standoff": 15
           },
           "zerolinecolor": "white",
           "zerolinewidth": 2
          },
          "yaxis": {
           "automargin": true,
           "gridcolor": "white",
           "linecolor": "white",
           "ticks": "",
           "title": {
            "standoff": 15
           },
           "zerolinecolor": "white",
           "zerolinewidth": 2
          }
         }
        },
        "xaxis": {
         "anchor": "y",
         "domain": [
          0,
          0.31999999999999995
         ],
         "showgrid": true,
         "title": {
          "text": "Number of Buildings"
         }
        },
        "xaxis2": {
         "anchor": "y2",
         "domain": [
          0.33999999999999997,
          0.6599999999999999
         ],
         "matches": "x",
         "showgrid": true,
         "title": {
          "text": "Number of Buildings"
         }
        },
        "xaxis3": {
         "anchor": "y3",
         "domain": [
          0.6799999999999999,
          0.9999999999999999
         ],
         "matches": "x",
         "showgrid": true,
         "title": {
          "text": "Number of Buildings"
         }
        },
        "yaxis": {
         "anchor": "x",
         "domain": [
          0,
          1
         ],
         "showgrid": true,
         "title": {
          "text": "Area (sqm)"
         }
        },
        "yaxis2": {
         "anchor": "x2",
         "domain": [
          0,
          1
         ],
         "matches": "y",
         "showgrid": true,
         "showticklabels": false,
         "title": {
          "text": "Area (sqm)"
         }
        },
        "yaxis3": {
         "anchor": "x3",
         "domain": [
          0,
          1
         ],
         "matches": "y",
         "showgrid": true,
         "showticklabels": false,
         "title": {
          "text": "Area (sqm)"
         }
        }
       }
      },
      "text/html": [
       "<div>                            <div id=\"22504d46-132d-4666-a9ea-bcf92baa4a23\" class=\"plotly-graph-div\" style=\"height:525px; width:100%;\"></div>            <script type=\"text/javascript\">                require([\"plotly\"], function(Plotly) {                    window.PLOTLYENV=window.PLOTLYENV || {};                                    if (document.getElementById(\"22504d46-132d-4666-a9ea-bcf92baa4a23\")) {                    Plotly.newPlot(                        \"22504d46-132d-4666-a9ea-bcf92baa4a23\",                        [{\"customdata\":[[\"BE\"],[\"DK\"],[\"EL\"],[\"MT\"],[\"SE\"]],\"hovertemplate\":\"dataset=eubucco<br>urban_type=1<br>nr_buildings=%{x}<br>area_sqm=%{y}<br>country=%{customdata[0]}<extra></extra>\",\"legendgroup\":\"eubucco\",\"marker\":{\"color\":\"#636efa\",\"symbol\":\"circle\"},\"mode\":\"markers+text\",\"name\":\"eubucco\",\"orientation\":\"v\",\"showlegend\":true,\"text\":[\"BE\",\"DK\",\"EL\",\"MT\",\"SE\"],\"x\":[3893252,523584,451111,141329,864938],\"xaxis\":\"x\",\"y\":[1249105971.8265274,186712820.9037431,163271912.02754453,49507550.09761251,706987963.6213722],\"yaxis\":\"y\",\"type\":\"scatter\"},{\"customdata\":[[\"BE\"],[\"DK\"],[\"EL\"],[\"SE\"]],\"hovertemplate\":\"dataset=eubucco<br>urban_type=2<br>nr_buildings=%{x}<br>area_sqm=%{y}<br>country=%{customdata[0]}<extra></extra>\",\"legendgroup\":\"eubucco\",\"marker\":{\"color\":\"#636efa\",\"symbol\":\"circle\"},\"mode\":\"markers+text\",\"name\":\"eubucco\",\"orientation\":\"v\",\"showlegend\":false,\"text\":[\"BE\",\"DK\",\"EL\",\"SE\"],\"x\":[3714814,2970287,151685,1348164],\"xaxis\":\"x2\",\"y\":[1268681382.3896842,1196304425.5894806,61446665.63703105,1191054013.006144],\"yaxis\":\"y2\",\"type\":\"scatter\"},{\"customdata\":[[\"BE\"],[\"DK\"],[\"EL\"],[\"SE\"]],\"hovertemplate\":\"dataset=eubucco<br>urban_type=3<br>nr_buildings=%{x}<br>area_sqm=%{y}<br>country=%{customdata[0]}<extra></extra>\",\"legendgroup\":\"eubucco\",\"marker\":{\"color\":\"#636efa\",\"symbol\":\"circle\"},\"mode\":\"markers+text\",\"name\":\"eubucco\",\"orientation\":\"v\",\"showlegend\":false,\"text\":[\"BE\",\"DK\",\"EL\",\"SE\"],\"x\":[1028048,2190863,253344,291859],\"xaxis\":\"x3\",\"y\":[238842277.67750326,961327171.352901,79842708.35635275,240468541.8140564],\"yaxis\":\"y3\",\"type\":\"scatter\"},{\"customdata\":[[\"BE\"],[\"DK\"],[\"EL\"],[\"MT\"],[\"SE\"]],\"hovertemplate\":\"dataset=jrc<br>urban_type=1<br>nr_buildings=%{x}<br>area_sqm=%{y}<br>country=%{customdata[0]}<extra></extra>\",\"legendgroup\":\"jrc\",\"marker\":{\"color\":\"#EF553B\",\"symbol\":\"circle\"},\"mode\":\"markers+text\",\"name\":\"jrc\",\"orientation\":\"v\",\"showlegend\":true,\"text\":[\"BE\",\"DK\",\"EL\",\"MT\",\"SE\"],\"x\":[2975609,301238,1027506,58247,1321929],\"xaxis\":\"x\",\"y\":[1192574320.4445655,185827310.51953363,390570307.66631365,46111610.06641419,950815753.1884298],\"yaxis\":\"y\",\"type\":\"scatter\"},{\"customdata\":[[\"BE\"],[\"DK\"],[\"EL\"],[\"SE\"]],\"hovertemplate\":\"dataset=jrc<br>urban_type=2<br>nr_buildings=%{x}<br>area_sqm=%{y}<br>country=%{customdata[0]}<extra></extra>\",\"legendgroup\":\"jrc\",\"marker\":{\"color\":\"#EF553B\",\"symbol\":\"circle\"},\"mode\":\"markers+text\",\"name\":\"jrc\",\"orientation\":\"v\",\"showlegend\":false,\"text\":[\"BE\",\"DK\",\"EL\",\"SE\"],\"x\":[2980716,1933636,1232890,2825319],\"xaxis\":\"x2\",\"y\":[1218024643.5464714,1210598796.2498949,415261003.98801863,2140227261.1981199],\"yaxis\":\"y2\",\"type\":\"scatter\"},{\"customdata\":[[\"BE\"],[\"DK\"],[\"EL\"],[\"SE\"]],\"hovertemplate\":\"dataset=jrc<br>urban_type=3<br>nr_buildings=%{x}<br>area_sqm=%{y}<br>country=%{customdata[0]}<extra></extra>\",\"legendgroup\":\"jrc\",\"marker\":{\"color\":\"#EF553B\",\"symbol\":\"circle\"},\"mode\":\"markers+text\",\"name\":\"jrc\",\"orientation\":\"v\",\"showlegend\":false,\"text\":[\"BE\",\"DK\",\"EL\",\"SE\"],\"x\":[653709,1530381,2279832,789325],\"xaxis\":\"x3\",\"y\":[264808842.51858595,980549515.4739062,697648117.9347274,525325537.79870754],\"yaxis\":\"y3\",\"type\":\"scatter\"},{\"customdata\":[[\"BE\"],[\"DK\"],[\"EL\"],[\"MT\"],[\"SE\"]],\"hovertemplate\":\"dataset=microsoft<br>urban_type=1<br>nr_buildings=%{x}<br>area_sqm=%{y}<br>country=%{customdata[0]}<extra></extra>\",\"legendgroup\":\"microsoft\",\"marker\":{\"color\":\"#00cc96\",\"symbol\":\"circle\"},\"mode\":\"markers+text\",\"name\":\"microsoft\",\"orientation\":\"v\",\"showlegend\":true,\"text\":[\"BE\",\"DK\",\"EL\",\"MT\",\"SE\"],\"x\":[1798035,304888,965411,73579,1552012],\"xaxis\":\"x\",\"y\":[1145767530.0,183180921.0,391616333.0,44292615.15898016,772888360.4507895],\"yaxis\":\"y\",\"type\":\"scatter\"},{\"customdata\":[[\"BE\"],[\"DK\"],[\"EL\"],[\"SE\"]],\"hovertemplate\":\"dataset=microsoft<br>urban_type=2<br>nr_buildings=%{x}<br>area_sqm=%{y}<br>country=%{customdata[0]}<extra></extra>\",\"legendgroup\":\"microsoft\",\"marker\":{\"color\":\"#00cc96\",\"symbol\":\"circle\"},\"mode\":\"markers+text\",\"name\":\"microsoft\",\"orientation\":\"v\",\"showlegend\":false,\"text\":[\"BE\",\"DK\",\"EL\",\"SE\"],\"x\":[2192338,1819728,1645338,3728973],\"xaxis\":\"x2\",\"y\":[1164002976.0,1073385409.0,406852855.0,1855799516.856129],\"yaxis\":\"y2\",\"type\":\"scatter\"},{\"customdata\":[[\"BE\"],[\"DK\"],[\"EL\"],[\"SE\"]],\"hovertemplate\":\"dataset=microsoft<br>urban_type=3<br>nr_buildings=%{x}<br>area_sqm=%{y}<br>country=%{customdata[0]}<extra></extra>\",\"legendgroup\":\"microsoft\",\"marker\":{\"color\":\"#00cc96\",\"symbol\":\"circle\"},\"mode\":\"markers+text\",\"name\":\"microsoft\",\"orientation\":\"v\",\"showlegend\":false,\"text\":[\"BE\",\"DK\",\"EL\",\"SE\"],\"x\":[567030,1417229,3112001,1141609],\"xaxis\":\"x3\",\"y\":[276471688.0,855231033.0,675854314.0,479283297.7144368],\"yaxis\":\"y3\",\"type\":\"scatter\"},{\"customdata\":[[\"BE\"],[\"DK\"],[\"EL\"],[\"MT\"],[\"SE\"]],\"hovertemplate\":\"dataset=geofabrik<br>urban_type=1<br>nr_buildings=%{x}<br>area_sqm=%{y}<br>country=%{customdata[0]}<extra></extra>\",\"legendgroup\":\"geofabrik\",\"marker\":{\"color\":\"#ab63fa\",\"symbol\":\"circle\"},\"mode\":\"markers+text\",\"name\":\"geofabrik\",\"orientation\":\"v\",\"showlegend\":true,\"text\":[\"BE\",\"DK\",\"EL\",\"MT\",\"SE\"],\"x\":[2831423,293842,547111,20225,969741],\"xaxis\":\"x\",\"y\":[1076447000.789173,178706898.17453623,192599993.68492797,16770331.506563481,756063053.3308733],\"yaxis\":\"y\",\"type\":\"scatter\"},{\"customdata\":[[\"BE\"],[\"DK\"],[\"EL\"],[\"SE\"]],\"hovertemplate\":\"dataset=geofabrik<br>urban_type=2<br>nr_buildings=%{x}<br>area_sqm=%{y}<br>country=%{customdata[0]}<extra></extra>\",\"legendgroup\":\"geofabrik\",\"marker\":{\"color\":\"#ab63fa\",\"symbol\":\"circle\"},\"mode\":\"markers+text\",\"name\":\"geofabrik\",\"orientation\":\"v\",\"showlegend\":false,\"text\":[\"BE\",\"DK\",\"EL\",\"SE\"],\"x\":[2792767,1879790,207942,1700609],\"xaxis\":\"x2\",\"y\":[1087762917.6971056,1163830420.03726,93302717.11712909,1436853636.991204],\"yaxis\":\"y2\",\"type\":\"scatter\"},{\"customdata\":[[\"BE\"],[\"DK\"],[\"EL\"],[\"SE\"]],\"hovertemplate\":\"dataset=geofabrik<br>urban_type=3<br>nr_buildings=%{x}<br>area_sqm=%{y}<br>country=%{customdata[0]}<extra></extra>\",\"legendgroup\":\"geofabrik\",\"marker\":{\"color\":\"#ab63fa\",\"symbol\":\"circle\"},\"mode\":\"markers+text\",\"name\":\"geofabrik\",\"orientation\":\"v\",\"showlegend\":false,\"text\":[\"BE\",\"DK\",\"EL\",\"SE\"],\"x\":[587261,1481243,462494,380317],\"xaxis\":\"x3\",\"y\":[230386041.41061276,940219508.5600072,185253968.41857257,291905854.2242534],\"yaxis\":\"y3\",\"type\":\"scatter\"}],                        {\"template\":{\"data\":{\"histogram2dcontour\":[{\"type\":\"histogram2dcontour\",\"colorbar\":{\"outlinewidth\":0,\"ticks\":\"\"},\"colorscale\":[[0.0,\"#0d0887\"],[0.1111111111111111,\"#46039f\"],[0.2222222222222222,\"#7201a8\"],[0.3333333333333333,\"#9c179e\"],[0.4444444444444444,\"#bd3786\"],[0.5555555555555556,\"#d8576b\"],[0.6666666666666666,\"#ed7953\"],[0.7777777777777778,\"#fb9f3a\"],[0.8888888888888888,\"#fdca26\"],[1.0,\"#f0f921\"]]}],\"choropleth\":[{\"type\":\"choropleth\",\"colorbar\":{\"outlinewidth\":0,\"ticks\":\"\"}}],\"histogram2d\":[{\"type\":\"histogram2d\",\"colorbar\":{\"outlinewidth\":0,\"ticks\":\"\"},\"colorscale\":[[0.0,\"#0d0887\"],[0.1111111111111111,\"#46039f\"],[0.2222222222222222,\"#7201a8\"],[0.3333333333333333,\"#9c179e\"],[0.4444444444444444,\"#bd3786\"],[0.5555555555555556,\"#d8576b\"],[0.6666666666666666,\"#ed7953\"],[0.7777777777777778,\"#fb9f3a\"],[0.8888888888888888,\"#fdca26\"],[1.0,\"#f0f921\"]]}],\"heatmap\":[{\"type\":\"heatmap\",\"colorbar\":{\"outlinewidth\":0,\"ticks\":\"\"},\"colorscale\":[[0.0,\"#0d0887\"],[0.1111111111111111,\"#46039f\"],[0.2222222222222222,\"#7201a8\"],[0.3333333333333333,\"#9c179e\"],[0.4444444444444444,\"#bd3786\"],[0.5555555555555556,\"#d8576b\"],[0.6666666666666666,\"#ed7953\"],[0.7777777777777778,\"#fb9f3a\"],[0.8888888888888888,\"#fdca26\"],[1.0,\"#f0f921\"]]}],\"heatmapgl\":[{\"type\":\"heatmapgl\",\"colorbar\":{\"outlinewidth\":0,\"ticks\":\"\"},\"colorscale\":[[0.0,\"#0d0887\"],[0.1111111111111111,\"#46039f\"],[0.2222222222222222,\"#7201a8\"],[0.3333333333333333,\"#9c179e\"],[0.4444444444444444,\"#bd3786\"],[0.5555555555555556,\"#d8576b\"],[0.6666666666666666,\"#ed7953\"],[0.7777777777777778,\"#fb9f3a\"],[0.8888888888888888,\"#fdca26\"],[1.0,\"#f0f921\"]]}],\"contourcarpet\":[{\"type\":\"contourcarpet\",\"colorbar\":{\"outlinewidth\":0,\"ticks\":\"\"}}],\"contour\":[{\"type\":\"contour\",\"colorbar\":{\"outlinewidth\":0,\"ticks\":\"\"},\"colorscale\":[[0.0,\"#0d0887\"],[0.1111111111111111,\"#46039f\"],[0.2222222222222222,\"#7201a8\"],[0.3333333333333333,\"#9c179e\"],[0.4444444444444444,\"#bd3786\"],[0.5555555555555556,\"#d8576b\"],[0.6666666666666666,\"#ed7953\"],[0.7777777777777778,\"#fb9f3a\"],[0.8888888888888888,\"#fdca26\"],[1.0,\"#f0f921\"]]}],\"surface\":[{\"type\":\"surface\",\"colorbar\":{\"outlinewidth\":0,\"ticks\":\"\"},\"colorscale\":[[0.0,\"#0d0887\"],[0.1111111111111111,\"#46039f\"],[0.2222222222222222,\"#7201a8\"],[0.3333333333333333,\"#9c179e\"],[0.4444444444444444,\"#bd3786\"],[0.5555555555555556,\"#d8576b\"],[0.6666666666666666,\"#ed7953\"],[0.7777777777777778,\"#fb9f3a\"],[0.8888888888888888,\"#fdca26\"],[1.0,\"#f0f921\"]]}],\"mesh3d\":[{\"type\":\"mesh3d\",\"colorbar\":{\"outlinewidth\":0,\"ticks\":\"\"}}],\"scatter\":[{\"fillpattern\":{\"fillmode\":\"overlay\",\"size\":10,\"solidity\":0.2},\"type\":\"scatter\"}],\"parcoords\":[{\"type\":\"parcoords\",\"line\":{\"colorbar\":{\"outlinewidth\":0,\"ticks\":\"\"}}}],\"scatterpolargl\":[{\"type\":\"scatterpolargl\",\"marker\":{\"colorbar\":{\"outlinewidth\":0,\"ticks\":\"\"}}}],\"bar\":[{\"error_x\":{\"color\":\"#2a3f5f\"},\"error_y\":{\"color\":\"#2a3f5f\"},\"marker\":{\"line\":{\"color\":\"#E5ECF6\",\"width\":0.5},\"pattern\":{\"fillmode\":\"overlay\",\"size\":10,\"solidity\":0.2}},\"type\":\"bar\"}],\"scattergeo\":[{\"type\":\"scattergeo\",\"marker\":{\"colorbar\":{\"outlinewidth\":0,\"ticks\":\"\"}}}],\"scatterpolar\":[{\"type\":\"scatterpolar\",\"marker\":{\"colorbar\":{\"outlinewidth\":0,\"ticks\":\"\"}}}],\"histogram\":[{\"marker\":{\"pattern\":{\"fillmode\":\"overlay\",\"size\":10,\"solidity\":0.2}},\"type\":\"histogram\"}],\"scattergl\":[{\"type\":\"scattergl\",\"marker\":{\"colorbar\":{\"outlinewidth\":0,\"ticks\":\"\"}}}],\"scatter3d\":[{\"type\":\"scatter3d\",\"line\":{\"colorbar\":{\"outlinewidth\":0,\"ticks\":\"\"}},\"marker\":{\"colorbar\":{\"outlinewidth\":0,\"ticks\":\"\"}}}],\"scattermapbox\":[{\"type\":\"scattermapbox\",\"marker\":{\"colorbar\":{\"outlinewidth\":0,\"ticks\":\"\"}}}],\"scatterternary\":[{\"type\":\"scatterternary\",\"marker\":{\"colorbar\":{\"outlinewidth\":0,\"ticks\":\"\"}}}],\"scattercarpet\":[{\"type\":\"scattercarpet\",\"marker\":{\"colorbar\":{\"outlinewidth\":0,\"ticks\":\"\"}}}],\"carpet\":[{\"aaxis\":{\"endlinecolor\":\"#2a3f5f\",\"gridcolor\":\"white\",\"linecolor\":\"white\",\"minorgridcolor\":\"white\",\"startlinecolor\":\"#2a3f5f\"},\"baxis\":{\"endlinecolor\":\"#2a3f5f\",\"gridcolor\":\"white\",\"linecolor\":\"white\",\"minorgridcolor\":\"white\",\"startlinecolor\":\"#2a3f5f\"},\"type\":\"carpet\"}],\"table\":[{\"cells\":{\"fill\":{\"color\":\"#EBF0F8\"},\"line\":{\"color\":\"white\"}},\"header\":{\"fill\":{\"color\":\"#C8D4E3\"},\"line\":{\"color\":\"white\"}},\"type\":\"table\"}],\"barpolar\":[{\"marker\":{\"line\":{\"color\":\"#E5ECF6\",\"width\":0.5},\"pattern\":{\"fillmode\":\"overlay\",\"size\":10,\"solidity\":0.2}},\"type\":\"barpolar\"}],\"pie\":[{\"automargin\":true,\"type\":\"pie\"}]},\"layout\":{\"autotypenumbers\":\"strict\",\"colorway\":[\"#636efa\",\"#EF553B\",\"#00cc96\",\"#ab63fa\",\"#FFA15A\",\"#19d3f3\",\"#FF6692\",\"#B6E880\",\"#FF97FF\",\"#FECB52\"],\"font\":{\"color\":\"#2a3f5f\"},\"hovermode\":\"closest\",\"hoverlabel\":{\"align\":\"left\"},\"paper_bgcolor\":\"white\",\"plot_bgcolor\":\"#E5ECF6\",\"polar\":{\"bgcolor\":\"#E5ECF6\",\"angularaxis\":{\"gridcolor\":\"white\",\"linecolor\":\"white\",\"ticks\":\"\"},\"radialaxis\":{\"gridcolor\":\"white\",\"linecolor\":\"white\",\"ticks\":\"\"}},\"ternary\":{\"bgcolor\":\"#E5ECF6\",\"aaxis\":{\"gridcolor\":\"white\",\"linecolor\":\"white\",\"ticks\":\"\"},\"baxis\":{\"gridcolor\":\"white\",\"linecolor\":\"white\",\"ticks\":\"\"},\"caxis\":{\"gridcolor\":\"white\",\"linecolor\":\"white\",\"ticks\":\"\"}},\"coloraxis\":{\"colorbar\":{\"outlinewidth\":0,\"ticks\":\"\"}},\"colorscale\":{\"sequential\":[[0.0,\"#0d0887\"],[0.1111111111111111,\"#46039f\"],[0.2222222222222222,\"#7201a8\"],[0.3333333333333333,\"#9c179e\"],[0.4444444444444444,\"#bd3786\"],[0.5555555555555556,\"#d8576b\"],[0.6666666666666666,\"#ed7953\"],[0.7777777777777778,\"#fb9f3a\"],[0.8888888888888888,\"#fdca26\"],[1.0,\"#f0f921\"]],\"sequentialminus\":[[0.0,\"#0d0887\"],[0.1111111111111111,\"#46039f\"],[0.2222222222222222,\"#7201a8\"],[0.3333333333333333,\"#9c179e\"],[0.4444444444444444,\"#bd3786\"],[0.5555555555555556,\"#d8576b\"],[0.6666666666666666,\"#ed7953\"],[0.7777777777777778,\"#fb9f3a\"],[0.8888888888888888,\"#fdca26\"],[1.0,\"#f0f921\"]],\"diverging\":[[0,\"#8e0152\"],[0.1,\"#c51b7d\"],[0.2,\"#de77ae\"],[0.3,\"#f1b6da\"],[0.4,\"#fde0ef\"],[0.5,\"#f7f7f7\"],[0.6,\"#e6f5d0\"],[0.7,\"#b8e186\"],[0.8,\"#7fbc41\"],[0.9,\"#4d9221\"],[1,\"#276419\"]]},\"xaxis\":{\"gridcolor\":\"white\",\"linecolor\":\"white\",\"ticks\":\"\",\"title\":{\"standoff\":15},\"zerolinecolor\":\"white\",\"automargin\":true,\"zerolinewidth\":2},\"yaxis\":{\"gridcolor\":\"white\",\"linecolor\":\"white\",\"ticks\":\"\",\"title\":{\"standoff\":15},\"zerolinecolor\":\"white\",\"automargin\":true,\"zerolinewidth\":2},\"scene\":{\"xaxis\":{\"backgroundcolor\":\"#E5ECF6\",\"gridcolor\":\"white\",\"linecolor\":\"white\",\"showbackground\":true,\"ticks\":\"\",\"zerolinecolor\":\"white\",\"gridwidth\":2},\"yaxis\":{\"backgroundcolor\":\"#E5ECF6\",\"gridcolor\":\"white\",\"linecolor\":\"white\",\"showbackground\":true,\"ticks\":\"\",\"zerolinecolor\":\"white\",\"gridwidth\":2},\"zaxis\":{\"backgroundcolor\":\"#E5ECF6\",\"gridcolor\":\"white\",\"linecolor\":\"white\",\"showbackground\":true,\"ticks\":\"\",\"zerolinecolor\":\"white\",\"gridwidth\":2}},\"shapedefaults\":{\"line\":{\"color\":\"#2a3f5f\"}},\"annotationdefaults\":{\"arrowcolor\":\"#2a3f5f\",\"arrowhead\":0,\"arrowwidth\":1},\"geo\":{\"bgcolor\":\"white\",\"landcolor\":\"#E5ECF6\",\"subunitcolor\":\"white\",\"showland\":true,\"showlakes\":true,\"lakecolor\":\"white\"},\"title\":{\"x\":0.05},\"mapbox\":{\"style\":\"light\"}}},\"xaxis\":{\"anchor\":\"y\",\"domain\":[0.0,0.31999999999999995],\"title\":{\"text\":\"Number of Buildings\"},\"showgrid\":true},\"yaxis\":{\"anchor\":\"x\",\"domain\":[0.0,1.0],\"title\":{\"text\":\"Area (sqm)\"},\"showgrid\":true},\"xaxis2\":{\"anchor\":\"y2\",\"domain\":[0.33999999999999997,0.6599999999999999],\"matches\":\"x\",\"title\":{\"text\":\"Number of Buildings\"},\"showgrid\":true},\"yaxis2\":{\"anchor\":\"x2\",\"domain\":[0.0,1.0],\"matches\":\"y\",\"showticklabels\":false,\"title\":{\"text\":\"Area (sqm)\"},\"showgrid\":true},\"xaxis3\":{\"anchor\":\"y3\",\"domain\":[0.6799999999999999,0.9999999999999999],\"matches\":\"x\",\"title\":{\"text\":\"Number of Buildings\"},\"showgrid\":true},\"yaxis3\":{\"anchor\":\"x3\",\"domain\":[0.0,1.0],\"matches\":\"y\",\"showticklabels\":false,\"title\":{\"text\":\"Area (sqm)\"},\"showgrid\":true},\"annotations\":[{\"font\":{},\"showarrow\":false,\"text\":\"urban_type=1\",\"x\":0.15999999999999998,\"xanchor\":\"center\",\"xref\":\"paper\",\"y\":1.0,\"yanchor\":\"bottom\",\"yref\":\"paper\"},{\"font\":{},\"showarrow\":false,\"text\":\"urban_type=2\",\"x\":0.49999999999999994,\"xanchor\":\"center\",\"xref\":\"paper\",\"y\":1.0,\"yanchor\":\"bottom\",\"yref\":\"paper\"},{\"font\":{},\"showarrow\":false,\"text\":\"urban_type=3\",\"x\":0.8399999999999999,\"xanchor\":\"center\",\"xref\":\"paper\",\"y\":1.0,\"yanchor\":\"bottom\",\"yref\":\"paper\"}],\"legend\":{\"title\":{\"text\":\"dataset\"},\"tracegroupgap\":0},\"margin\":{\"t\":60}},                        {\"responsive\": true}                    ).then(function(){\n",
       "                            \n",
       "var gd = document.getElementById('22504d46-132d-4666-a9ea-bcf92baa4a23');\n",
       "var x = new MutationObserver(function (mutations, observer) {{\n",
       "        var display = window.getComputedStyle(gd).display;\n",
       "        if (!display || display === 'none') {{\n",
       "            console.log([gd, 'removed!']);\n",
       "            Plotly.purge(gd);\n",
       "            observer.disconnect();\n",
       "        }}\n",
       "}});\n",
       "\n",
       "// Listen for the removal of the full notebook cells\n",
       "var notebookContainer = gd.closest('#notebook-container');\n",
       "if (notebookContainer) {{\n",
       "    x.observe(notebookContainer, {childList: true});\n",
       "}}\n",
       "\n",
       "// Listen for the clearing of the current output cell\n",
       "var outputEl = gd.closest('.output');\n",
       "if (outputEl) {{\n",
       "    x.observe(outputEl, {childList: true});\n",
       "}}\n",
       "\n",
       "                        })                };                });            </script>        </div>"
      ]
     },
     "metadata": {},
     "output_type": "display_data"
    }
   ],
   "source": [
    "#applicare log log\n",
    "\n",
    "import plotly.express as px\n",
    "# Assuming 'total_area_buildings' is your DataFrame\n",
    "fig = px.scatter(total_area_buildings, x='nr_buildings', y='area_sqm', color='dataset', facet_col='urban_type', \n",
    "                 hover_data={'country': True}, size_max=30, text='country')\n",
    "\n",
    "# Update facet axis titles\n",
    "fig.update_xaxes(title_text=\"Number of Buildings\", showgrid=True)\n",
    "fig.update_yaxes(title_text=\"Area (sqm)\", showgrid=True)\n",
    "\n",
    "# Update marker size and style\n",
    "fig.update_traces(marker=dict(size=20, opacity=0.6, line=dict(width=1, color='DarkSlateGrey')), selector=dict(mode='markers'))\n",
    "\n",
    "# Show the plot\n",
    "fig.show()\n",
    "fig.write_html(\"/mnt/CAS/20240101_foss4g/plots/global/overview_urban_type.html\")"
   ]
  },
  {
   "cell_type": "code",
   "execution_count": 19,
   "id": "a90b2e68",
   "metadata": {
    "ExecuteTime": {
     "end_time": "2024-02-09T09:45:23.946414Z",
     "start_time": "2024-02-09T09:45:23.858661Z"
    }
   },
   "outputs": [
    {
     "data": {
      "application/vnd.plotly.v1+json": {
       "config": {
        "plotlyServerURL": "https://plot.ly"
       },
       "data": [
        {
         "customdata": [
          [
           "BE"
          ],
          [
           "DK"
          ],
          [
           "EL"
          ],
          [
           "MT"
          ],
          [
           "SE"
          ]
         ],
         "hovertemplate": "dataset=eubucco<br>nr_buildings=%{x}<br>area_sqm=%{y}<br>country=%{customdata[0]}<extra></extra>",
         "legendgroup": "eubucco",
         "marker": {
          "color": "#636efa",
          "symbol": "circle"
         },
         "mode": "markers+text",
         "name": "eubucco",
         "orientation": "v",
         "showlegend": true,
         "text": [
          "BE",
          "DK",
          "EL",
          "MT",
          "SE"
         ],
         "type": "scatter",
         "x": [
          8636114,
          5684734,
          856140,
          141329,
          2504961
         ],
         "xaxis": "x",
         "y": [
          2756629631.893715,
          2344344417.8461246,
          304561286.0209283,
          49507550.09761251,
          2138510518.4415727
         ],
         "yaxis": "y"
        },
        {
         "customdata": [
          [
           "BE"
          ],
          [
           "DK"
          ],
          [
           "EL"
          ],
          [
           "MT"
          ],
          [
           "SE"
          ]
         ],
         "hovertemplate": "dataset=geofabrik<br>nr_buildings=%{x}<br>area_sqm=%{y}<br>country=%{customdata[0]}<extra></extra>",
         "legendgroup": "geofabrik",
         "marker": {
          "color": "#EF553B",
          "symbol": "circle"
         },
         "mode": "markers+text",
         "name": "geofabrik",
         "orientation": "v",
         "showlegend": true,
         "text": [
          "BE",
          "DK",
          "EL",
          "MT",
          "SE"
         ],
         "type": "scatter",
         "x": [
          6211451,
          3654875,
          1217547,
          20225,
          3050667
         ],
         "xaxis": "x",
         "y": [
          2394595959.896891,
          2282756826.7718034,
          471156679.22062963,
          16770331.506563481,
          2484822544.5463305
         ],
         "yaxis": "y"
        },
        {
         "customdata": [
          [
           "BE"
          ],
          [
           "DK"
          ],
          [
           "EL"
          ],
          [
           "MT"
          ],
          [
           "SE"
          ]
         ],
         "hovertemplate": "dataset=jrc<br>nr_buildings=%{x}<br>area_sqm=%{y}<br>country=%{customdata[0]}<extra></extra>",
         "legendgroup": "jrc",
         "marker": {
          "color": "#00cc96",
          "symbol": "circle"
         },
         "mode": "markers+text",
         "name": "jrc",
         "orientation": "v",
         "showlegend": true,
         "text": [
          "BE",
          "DK",
          "EL",
          "MT",
          "SE"
         ],
         "type": "scatter",
         "x": [
          6610034,
          3765255,
          4540228,
          58247,
          4936573
         ],
         "xaxis": "x",
         "y": [
          2675407806.509623,
          2376975622.243335,
          1503479429.5890598,
          46111610.06641419,
          3616368552.1852574
         ],
         "yaxis": "y"
        },
        {
         "customdata": [
          [
           "BE"
          ],
          [
           "DK"
          ],
          [
           "EL"
          ],
          [
           "MT"
          ],
          [
           "SE"
          ]
         ],
         "hovertemplate": "dataset=microsoft<br>nr_buildings=%{x}<br>area_sqm=%{y}<br>country=%{customdata[0]}<extra></extra>",
         "legendgroup": "microsoft",
         "marker": {
          "color": "#ab63fa",
          "symbol": "circle"
         },
         "mode": "markers+text",
         "name": "microsoft",
         "orientation": "v",
         "showlegend": true,
         "text": [
          "BE",
          "DK",
          "EL",
          "MT",
          "SE"
         ],
         "type": "scatter",
         "x": [
          4557403,
          3541845,
          5722750,
          73579,
          6422594
         ],
         "xaxis": "x",
         "y": [
          2586242194,
          2111797363,
          1474323502,
          44292615.15898016,
          3107971175.021355
         ],
         "yaxis": "y"
        }
       ],
       "layout": {
        "legend": {
         "title": {
          "text": "dataset"
         },
         "tracegroupgap": 0
        },
        "margin": {
         "t": 60
        },
        "template": {
         "data": {
          "bar": [
           {
            "error_x": {
             "color": "#2a3f5f"
            },
            "error_y": {
             "color": "#2a3f5f"
            },
            "marker": {
             "line": {
              "color": "#E5ECF6",
              "width": 0.5
             },
             "pattern": {
              "fillmode": "overlay",
              "size": 10,
              "solidity": 0.2
             }
            },
            "type": "bar"
           }
          ],
          "barpolar": [
           {
            "marker": {
             "line": {
              "color": "#E5ECF6",
              "width": 0.5
             },
             "pattern": {
              "fillmode": "overlay",
              "size": 10,
              "solidity": 0.2
             }
            },
            "type": "barpolar"
           }
          ],
          "carpet": [
           {
            "aaxis": {
             "endlinecolor": "#2a3f5f",
             "gridcolor": "white",
             "linecolor": "white",
             "minorgridcolor": "white",
             "startlinecolor": "#2a3f5f"
            },
            "baxis": {
             "endlinecolor": "#2a3f5f",
             "gridcolor": "white",
             "linecolor": "white",
             "minorgridcolor": "white",
             "startlinecolor": "#2a3f5f"
            },
            "type": "carpet"
           }
          ],
          "choropleth": [
           {
            "colorbar": {
             "outlinewidth": 0,
             "ticks": ""
            },
            "type": "choropleth"
           }
          ],
          "contour": [
           {
            "colorbar": {
             "outlinewidth": 0,
             "ticks": ""
            },
            "colorscale": [
             [
              0,
              "#0d0887"
             ],
             [
              0.1111111111111111,
              "#46039f"
             ],
             [
              0.2222222222222222,
              "#7201a8"
             ],
             [
              0.3333333333333333,
              "#9c179e"
             ],
             [
              0.4444444444444444,
              "#bd3786"
             ],
             [
              0.5555555555555556,
              "#d8576b"
             ],
             [
              0.6666666666666666,
              "#ed7953"
             ],
             [
              0.7777777777777778,
              "#fb9f3a"
             ],
             [
              0.8888888888888888,
              "#fdca26"
             ],
             [
              1,
              "#f0f921"
             ]
            ],
            "type": "contour"
           }
          ],
          "contourcarpet": [
           {
            "colorbar": {
             "outlinewidth": 0,
             "ticks": ""
            },
            "type": "contourcarpet"
           }
          ],
          "heatmap": [
           {
            "colorbar": {
             "outlinewidth": 0,
             "ticks": ""
            },
            "colorscale": [
             [
              0,
              "#0d0887"
             ],
             [
              0.1111111111111111,
              "#46039f"
             ],
             [
              0.2222222222222222,
              "#7201a8"
             ],
             [
              0.3333333333333333,
              "#9c179e"
             ],
             [
              0.4444444444444444,
              "#bd3786"
             ],
             [
              0.5555555555555556,
              "#d8576b"
             ],
             [
              0.6666666666666666,
              "#ed7953"
             ],
             [
              0.7777777777777778,
              "#fb9f3a"
             ],
             [
              0.8888888888888888,
              "#fdca26"
             ],
             [
              1,
              "#f0f921"
             ]
            ],
            "type": "heatmap"
           }
          ],
          "heatmapgl": [
           {
            "colorbar": {
             "outlinewidth": 0,
             "ticks": ""
            },
            "colorscale": [
             [
              0,
              "#0d0887"
             ],
             [
              0.1111111111111111,
              "#46039f"
             ],
             [
              0.2222222222222222,
              "#7201a8"
             ],
             [
              0.3333333333333333,
              "#9c179e"
             ],
             [
              0.4444444444444444,
              "#bd3786"
             ],
             [
              0.5555555555555556,
              "#d8576b"
             ],
             [
              0.6666666666666666,
              "#ed7953"
             ],
             [
              0.7777777777777778,
              "#fb9f3a"
             ],
             [
              0.8888888888888888,
              "#fdca26"
             ],
             [
              1,
              "#f0f921"
             ]
            ],
            "type": "heatmapgl"
           }
          ],
          "histogram": [
           {
            "marker": {
             "pattern": {
              "fillmode": "overlay",
              "size": 10,
              "solidity": 0.2
             }
            },
            "type": "histogram"
           }
          ],
          "histogram2d": [
           {
            "colorbar": {
             "outlinewidth": 0,
             "ticks": ""
            },
            "colorscale": [
             [
              0,
              "#0d0887"
             ],
             [
              0.1111111111111111,
              "#46039f"
             ],
             [
              0.2222222222222222,
              "#7201a8"
             ],
             [
              0.3333333333333333,
              "#9c179e"
             ],
             [
              0.4444444444444444,
              "#bd3786"
             ],
             [
              0.5555555555555556,
              "#d8576b"
             ],
             [
              0.6666666666666666,
              "#ed7953"
             ],
             [
              0.7777777777777778,
              "#fb9f3a"
             ],
             [
              0.8888888888888888,
              "#fdca26"
             ],
             [
              1,
              "#f0f921"
             ]
            ],
            "type": "histogram2d"
           }
          ],
          "histogram2dcontour": [
           {
            "colorbar": {
             "outlinewidth": 0,
             "ticks": ""
            },
            "colorscale": [
             [
              0,
              "#0d0887"
             ],
             [
              0.1111111111111111,
              "#46039f"
             ],
             [
              0.2222222222222222,
              "#7201a8"
             ],
             [
              0.3333333333333333,
              "#9c179e"
             ],
             [
              0.4444444444444444,
              "#bd3786"
             ],
             [
              0.5555555555555556,
              "#d8576b"
             ],
             [
              0.6666666666666666,
              "#ed7953"
             ],
             [
              0.7777777777777778,
              "#fb9f3a"
             ],
             [
              0.8888888888888888,
              "#fdca26"
             ],
             [
              1,
              "#f0f921"
             ]
            ],
            "type": "histogram2dcontour"
           }
          ],
          "mesh3d": [
           {
            "colorbar": {
             "outlinewidth": 0,
             "ticks": ""
            },
            "type": "mesh3d"
           }
          ],
          "parcoords": [
           {
            "line": {
             "colorbar": {
              "outlinewidth": 0,
              "ticks": ""
             }
            },
            "type": "parcoords"
           }
          ],
          "pie": [
           {
            "automargin": true,
            "type": "pie"
           }
          ],
          "scatter": [
           {
            "fillpattern": {
             "fillmode": "overlay",
             "size": 10,
             "solidity": 0.2
            },
            "type": "scatter"
           }
          ],
          "scatter3d": [
           {
            "line": {
             "colorbar": {
              "outlinewidth": 0,
              "ticks": ""
             }
            },
            "marker": {
             "colorbar": {
              "outlinewidth": 0,
              "ticks": ""
             }
            },
            "type": "scatter3d"
           }
          ],
          "scattercarpet": [
           {
            "marker": {
             "colorbar": {
              "outlinewidth": 0,
              "ticks": ""
             }
            },
            "type": "scattercarpet"
           }
          ],
          "scattergeo": [
           {
            "marker": {
             "colorbar": {
              "outlinewidth": 0,
              "ticks": ""
             }
            },
            "type": "scattergeo"
           }
          ],
          "scattergl": [
           {
            "marker": {
             "colorbar": {
              "outlinewidth": 0,
              "ticks": ""
             }
            },
            "type": "scattergl"
           }
          ],
          "scattermapbox": [
           {
            "marker": {
             "colorbar": {
              "outlinewidth": 0,
              "ticks": ""
             }
            },
            "type": "scattermapbox"
           }
          ],
          "scatterpolar": [
           {
            "marker": {
             "colorbar": {
              "outlinewidth": 0,
              "ticks": ""
             }
            },
            "type": "scatterpolar"
           }
          ],
          "scatterpolargl": [
           {
            "marker": {
             "colorbar": {
              "outlinewidth": 0,
              "ticks": ""
             }
            },
            "type": "scatterpolargl"
           }
          ],
          "scatterternary": [
           {
            "marker": {
             "colorbar": {
              "outlinewidth": 0,
              "ticks": ""
             }
            },
            "type": "scatterternary"
           }
          ],
          "surface": [
           {
            "colorbar": {
             "outlinewidth": 0,
             "ticks": ""
            },
            "colorscale": [
             [
              0,
              "#0d0887"
             ],
             [
              0.1111111111111111,
              "#46039f"
             ],
             [
              0.2222222222222222,
              "#7201a8"
             ],
             [
              0.3333333333333333,
              "#9c179e"
             ],
             [
              0.4444444444444444,
              "#bd3786"
             ],
             [
              0.5555555555555556,
              "#d8576b"
             ],
             [
              0.6666666666666666,
              "#ed7953"
             ],
             [
              0.7777777777777778,
              "#fb9f3a"
             ],
             [
              0.8888888888888888,
              "#fdca26"
             ],
             [
              1,
              "#f0f921"
             ]
            ],
            "type": "surface"
           }
          ],
          "table": [
           {
            "cells": {
             "fill": {
              "color": "#EBF0F8"
             },
             "line": {
              "color": "white"
             }
            },
            "header": {
             "fill": {
              "color": "#C8D4E3"
             },
             "line": {
              "color": "white"
             }
            },
            "type": "table"
           }
          ]
         },
         "layout": {
          "annotationdefaults": {
           "arrowcolor": "#2a3f5f",
           "arrowhead": 0,
           "arrowwidth": 1
          },
          "autotypenumbers": "strict",
          "coloraxis": {
           "colorbar": {
            "outlinewidth": 0,
            "ticks": ""
           }
          },
          "colorscale": {
           "diverging": [
            [
             0,
             "#8e0152"
            ],
            [
             0.1,
             "#c51b7d"
            ],
            [
             0.2,
             "#de77ae"
            ],
            [
             0.3,
             "#f1b6da"
            ],
            [
             0.4,
             "#fde0ef"
            ],
            [
             0.5,
             "#f7f7f7"
            ],
            [
             0.6,
             "#e6f5d0"
            ],
            [
             0.7,
             "#b8e186"
            ],
            [
             0.8,
             "#7fbc41"
            ],
            [
             0.9,
             "#4d9221"
            ],
            [
             1,
             "#276419"
            ]
           ],
           "sequential": [
            [
             0,
             "#0d0887"
            ],
            [
             0.1111111111111111,
             "#46039f"
            ],
            [
             0.2222222222222222,
             "#7201a8"
            ],
            [
             0.3333333333333333,
             "#9c179e"
            ],
            [
             0.4444444444444444,
             "#bd3786"
            ],
            [
             0.5555555555555556,
             "#d8576b"
            ],
            [
             0.6666666666666666,
             "#ed7953"
            ],
            [
             0.7777777777777778,
             "#fb9f3a"
            ],
            [
             0.8888888888888888,
             "#fdca26"
            ],
            [
             1,
             "#f0f921"
            ]
           ],
           "sequentialminus": [
            [
             0,
             "#0d0887"
            ],
            [
             0.1111111111111111,
             "#46039f"
            ],
            [
             0.2222222222222222,
             "#7201a8"
            ],
            [
             0.3333333333333333,
             "#9c179e"
            ],
            [
             0.4444444444444444,
             "#bd3786"
            ],
            [
             0.5555555555555556,
             "#d8576b"
            ],
            [
             0.6666666666666666,
             "#ed7953"
            ],
            [
             0.7777777777777778,
             "#fb9f3a"
            ],
            [
             0.8888888888888888,
             "#fdca26"
            ],
            [
             1,
             "#f0f921"
            ]
           ]
          },
          "colorway": [
           "#636efa",
           "#EF553B",
           "#00cc96",
           "#ab63fa",
           "#FFA15A",
           "#19d3f3",
           "#FF6692",
           "#B6E880",
           "#FF97FF",
           "#FECB52"
          ],
          "font": {
           "color": "#2a3f5f"
          },
          "geo": {
           "bgcolor": "white",
           "lakecolor": "white",
           "landcolor": "#E5ECF6",
           "showlakes": true,
           "showland": true,
           "subunitcolor": "white"
          },
          "hoverlabel": {
           "align": "left"
          },
          "hovermode": "closest",
          "mapbox": {
           "style": "light"
          },
          "paper_bgcolor": "white",
          "plot_bgcolor": "#E5ECF6",
          "polar": {
           "angularaxis": {
            "gridcolor": "white",
            "linecolor": "white",
            "ticks": ""
           },
           "bgcolor": "#E5ECF6",
           "radialaxis": {
            "gridcolor": "white",
            "linecolor": "white",
            "ticks": ""
           }
          },
          "scene": {
           "xaxis": {
            "backgroundcolor": "#E5ECF6",
            "gridcolor": "white",
            "gridwidth": 2,
            "linecolor": "white",
            "showbackground": true,
            "ticks": "",
            "zerolinecolor": "white"
           },
           "yaxis": {
            "backgroundcolor": "#E5ECF6",
            "gridcolor": "white",
            "gridwidth": 2,
            "linecolor": "white",
            "showbackground": true,
            "ticks": "",
            "zerolinecolor": "white"
           },
           "zaxis": {
            "backgroundcolor": "#E5ECF6",
            "gridcolor": "white",
            "gridwidth": 2,
            "linecolor": "white",
            "showbackground": true,
            "ticks": "",
            "zerolinecolor": "white"
           }
          },
          "shapedefaults": {
           "line": {
            "color": "#2a3f5f"
           }
          },
          "ternary": {
           "aaxis": {
            "gridcolor": "white",
            "linecolor": "white",
            "ticks": ""
           },
           "baxis": {
            "gridcolor": "white",
            "linecolor": "white",
            "ticks": ""
           },
           "bgcolor": "#E5ECF6",
           "caxis": {
            "gridcolor": "white",
            "linecolor": "white",
            "ticks": ""
           }
          },
          "title": {
           "x": 0.05
          },
          "xaxis": {
           "automargin": true,
           "gridcolor": "white",
           "linecolor": "white",
           "ticks": "",
           "title": {
            "standoff": 15
           },
           "zerolinecolor": "white",
           "zerolinewidth": 2
          },
          "yaxis": {
           "automargin": true,
           "gridcolor": "white",
           "linecolor": "white",
           "ticks": "",
           "title": {
            "standoff": 15
           },
           "zerolinecolor": "white",
           "zerolinewidth": 2
          }
         }
        },
        "xaxis": {
         "anchor": "y",
         "domain": [
          0,
          1
         ],
         "showgrid": true,
         "title": {
          "text": "Number of Buildings"
         }
        },
        "yaxis": {
         "anchor": "x",
         "domain": [
          0,
          1
         ],
         "showgrid": true,
         "title": {
          "text": "Area (sqm)"
         }
        }
       }
      },
      "text/html": [
       "<div>                            <div id=\"1e288a70-0c24-49c3-a81f-3dad5bb9b9b2\" class=\"plotly-graph-div\" style=\"height:525px; width:100%;\"></div>            <script type=\"text/javascript\">                require([\"plotly\"], function(Plotly) {                    window.PLOTLYENV=window.PLOTLYENV || {};                                    if (document.getElementById(\"1e288a70-0c24-49c3-a81f-3dad5bb9b9b2\")) {                    Plotly.newPlot(                        \"1e288a70-0c24-49c3-a81f-3dad5bb9b9b2\",                        [{\"customdata\":[[\"BE\"],[\"DK\"],[\"EL\"],[\"MT\"],[\"SE\"]],\"hovertemplate\":\"dataset=eubucco<br>nr_buildings=%{x}<br>area_sqm=%{y}<br>country=%{customdata[0]}<extra></extra>\",\"legendgroup\":\"eubucco\",\"marker\":{\"color\":\"#636efa\",\"symbol\":\"circle\"},\"mode\":\"markers+text\",\"name\":\"eubucco\",\"orientation\":\"v\",\"showlegend\":true,\"text\":[\"BE\",\"DK\",\"EL\",\"MT\",\"SE\"],\"x\":[8636114,5684734,856140,141329,2504961],\"xaxis\":\"x\",\"y\":[2756629631.893715,2344344417.8461246,304561286.0209283,49507550.09761251,2138510518.4415727],\"yaxis\":\"y\",\"type\":\"scatter\"},{\"customdata\":[[\"BE\"],[\"DK\"],[\"EL\"],[\"MT\"],[\"SE\"]],\"hovertemplate\":\"dataset=geofabrik<br>nr_buildings=%{x}<br>area_sqm=%{y}<br>country=%{customdata[0]}<extra></extra>\",\"legendgroup\":\"geofabrik\",\"marker\":{\"color\":\"#EF553B\",\"symbol\":\"circle\"},\"mode\":\"markers+text\",\"name\":\"geofabrik\",\"orientation\":\"v\",\"showlegend\":true,\"text\":[\"BE\",\"DK\",\"EL\",\"MT\",\"SE\"],\"x\":[6211451,3654875,1217547,20225,3050667],\"xaxis\":\"x\",\"y\":[2394595959.896891,2282756826.7718034,471156679.22062963,16770331.506563481,2484822544.5463305],\"yaxis\":\"y\",\"type\":\"scatter\"},{\"customdata\":[[\"BE\"],[\"DK\"],[\"EL\"],[\"MT\"],[\"SE\"]],\"hovertemplate\":\"dataset=jrc<br>nr_buildings=%{x}<br>area_sqm=%{y}<br>country=%{customdata[0]}<extra></extra>\",\"legendgroup\":\"jrc\",\"marker\":{\"color\":\"#00cc96\",\"symbol\":\"circle\"},\"mode\":\"markers+text\",\"name\":\"jrc\",\"orientation\":\"v\",\"showlegend\":true,\"text\":[\"BE\",\"DK\",\"EL\",\"MT\",\"SE\"],\"x\":[6610034,3765255,4540228,58247,4936573],\"xaxis\":\"x\",\"y\":[2675407806.509623,2376975622.243335,1503479429.5890598,46111610.06641419,3616368552.1852574],\"yaxis\":\"y\",\"type\":\"scatter\"},{\"customdata\":[[\"BE\"],[\"DK\"],[\"EL\"],[\"MT\"],[\"SE\"]],\"hovertemplate\":\"dataset=microsoft<br>nr_buildings=%{x}<br>area_sqm=%{y}<br>country=%{customdata[0]}<extra></extra>\",\"legendgroup\":\"microsoft\",\"marker\":{\"color\":\"#ab63fa\",\"symbol\":\"circle\"},\"mode\":\"markers+text\",\"name\":\"microsoft\",\"orientation\":\"v\",\"showlegend\":true,\"text\":[\"BE\",\"DK\",\"EL\",\"MT\",\"SE\"],\"x\":[4557403,3541845,5722750,73579,6422594],\"xaxis\":\"x\",\"y\":[2586242194.0,2111797363.0,1474323502.0,44292615.15898016,3107971175.021355],\"yaxis\":\"y\",\"type\":\"scatter\"}],                        {\"template\":{\"data\":{\"histogram2dcontour\":[{\"type\":\"histogram2dcontour\",\"colorbar\":{\"outlinewidth\":0,\"ticks\":\"\"},\"colorscale\":[[0.0,\"#0d0887\"],[0.1111111111111111,\"#46039f\"],[0.2222222222222222,\"#7201a8\"],[0.3333333333333333,\"#9c179e\"],[0.4444444444444444,\"#bd3786\"],[0.5555555555555556,\"#d8576b\"],[0.6666666666666666,\"#ed7953\"],[0.7777777777777778,\"#fb9f3a\"],[0.8888888888888888,\"#fdca26\"],[1.0,\"#f0f921\"]]}],\"choropleth\":[{\"type\":\"choropleth\",\"colorbar\":{\"outlinewidth\":0,\"ticks\":\"\"}}],\"histogram2d\":[{\"type\":\"histogram2d\",\"colorbar\":{\"outlinewidth\":0,\"ticks\":\"\"},\"colorscale\":[[0.0,\"#0d0887\"],[0.1111111111111111,\"#46039f\"],[0.2222222222222222,\"#7201a8\"],[0.3333333333333333,\"#9c179e\"],[0.4444444444444444,\"#bd3786\"],[0.5555555555555556,\"#d8576b\"],[0.6666666666666666,\"#ed7953\"],[0.7777777777777778,\"#fb9f3a\"],[0.8888888888888888,\"#fdca26\"],[1.0,\"#f0f921\"]]}],\"heatmap\":[{\"type\":\"heatmap\",\"colorbar\":{\"outlinewidth\":0,\"ticks\":\"\"},\"colorscale\":[[0.0,\"#0d0887\"],[0.1111111111111111,\"#46039f\"],[0.2222222222222222,\"#7201a8\"],[0.3333333333333333,\"#9c179e\"],[0.4444444444444444,\"#bd3786\"],[0.5555555555555556,\"#d8576b\"],[0.6666666666666666,\"#ed7953\"],[0.7777777777777778,\"#fb9f3a\"],[0.8888888888888888,\"#fdca26\"],[1.0,\"#f0f921\"]]}],\"heatmapgl\":[{\"type\":\"heatmapgl\",\"colorbar\":{\"outlinewidth\":0,\"ticks\":\"\"},\"colorscale\":[[0.0,\"#0d0887\"],[0.1111111111111111,\"#46039f\"],[0.2222222222222222,\"#7201a8\"],[0.3333333333333333,\"#9c179e\"],[0.4444444444444444,\"#bd3786\"],[0.5555555555555556,\"#d8576b\"],[0.6666666666666666,\"#ed7953\"],[0.7777777777777778,\"#fb9f3a\"],[0.8888888888888888,\"#fdca26\"],[1.0,\"#f0f921\"]]}],\"contourcarpet\":[{\"type\":\"contourcarpet\",\"colorbar\":{\"outlinewidth\":0,\"ticks\":\"\"}}],\"contour\":[{\"type\":\"contour\",\"colorbar\":{\"outlinewidth\":0,\"ticks\":\"\"},\"colorscale\":[[0.0,\"#0d0887\"],[0.1111111111111111,\"#46039f\"],[0.2222222222222222,\"#7201a8\"],[0.3333333333333333,\"#9c179e\"],[0.4444444444444444,\"#bd3786\"],[0.5555555555555556,\"#d8576b\"],[0.6666666666666666,\"#ed7953\"],[0.7777777777777778,\"#fb9f3a\"],[0.8888888888888888,\"#fdca26\"],[1.0,\"#f0f921\"]]}],\"surface\":[{\"type\":\"surface\",\"colorbar\":{\"outlinewidth\":0,\"ticks\":\"\"},\"colorscale\":[[0.0,\"#0d0887\"],[0.1111111111111111,\"#46039f\"],[0.2222222222222222,\"#7201a8\"],[0.3333333333333333,\"#9c179e\"],[0.4444444444444444,\"#bd3786\"],[0.5555555555555556,\"#d8576b\"],[0.6666666666666666,\"#ed7953\"],[0.7777777777777778,\"#fb9f3a\"],[0.8888888888888888,\"#fdca26\"],[1.0,\"#f0f921\"]]}],\"mesh3d\":[{\"type\":\"mesh3d\",\"colorbar\":{\"outlinewidth\":0,\"ticks\":\"\"}}],\"scatter\":[{\"fillpattern\":{\"fillmode\":\"overlay\",\"size\":10,\"solidity\":0.2},\"type\":\"scatter\"}],\"parcoords\":[{\"type\":\"parcoords\",\"line\":{\"colorbar\":{\"outlinewidth\":0,\"ticks\":\"\"}}}],\"scatterpolargl\":[{\"type\":\"scatterpolargl\",\"marker\":{\"colorbar\":{\"outlinewidth\":0,\"ticks\":\"\"}}}],\"bar\":[{\"error_x\":{\"color\":\"#2a3f5f\"},\"error_y\":{\"color\":\"#2a3f5f\"},\"marker\":{\"line\":{\"color\":\"#E5ECF6\",\"width\":0.5},\"pattern\":{\"fillmode\":\"overlay\",\"size\":10,\"solidity\":0.2}},\"type\":\"bar\"}],\"scattergeo\":[{\"type\":\"scattergeo\",\"marker\":{\"colorbar\":{\"outlinewidth\":0,\"ticks\":\"\"}}}],\"scatterpolar\":[{\"type\":\"scatterpolar\",\"marker\":{\"colorbar\":{\"outlinewidth\":0,\"ticks\":\"\"}}}],\"histogram\":[{\"marker\":{\"pattern\":{\"fillmode\":\"overlay\",\"size\":10,\"solidity\":0.2}},\"type\":\"histogram\"}],\"scattergl\":[{\"type\":\"scattergl\",\"marker\":{\"colorbar\":{\"outlinewidth\":0,\"ticks\":\"\"}}}],\"scatter3d\":[{\"type\":\"scatter3d\",\"line\":{\"colorbar\":{\"outlinewidth\":0,\"ticks\":\"\"}},\"marker\":{\"colorbar\":{\"outlinewidth\":0,\"ticks\":\"\"}}}],\"scattermapbox\":[{\"type\":\"scattermapbox\",\"marker\":{\"colorbar\":{\"outlinewidth\":0,\"ticks\":\"\"}}}],\"scatterternary\":[{\"type\":\"scatterternary\",\"marker\":{\"colorbar\":{\"outlinewidth\":0,\"ticks\":\"\"}}}],\"scattercarpet\":[{\"type\":\"scattercarpet\",\"marker\":{\"colorbar\":{\"outlinewidth\":0,\"ticks\":\"\"}}}],\"carpet\":[{\"aaxis\":{\"endlinecolor\":\"#2a3f5f\",\"gridcolor\":\"white\",\"linecolor\":\"white\",\"minorgridcolor\":\"white\",\"startlinecolor\":\"#2a3f5f\"},\"baxis\":{\"endlinecolor\":\"#2a3f5f\",\"gridcolor\":\"white\",\"linecolor\":\"white\",\"minorgridcolor\":\"white\",\"startlinecolor\":\"#2a3f5f\"},\"type\":\"carpet\"}],\"table\":[{\"cells\":{\"fill\":{\"color\":\"#EBF0F8\"},\"line\":{\"color\":\"white\"}},\"header\":{\"fill\":{\"color\":\"#C8D4E3\"},\"line\":{\"color\":\"white\"}},\"type\":\"table\"}],\"barpolar\":[{\"marker\":{\"line\":{\"color\":\"#E5ECF6\",\"width\":0.5},\"pattern\":{\"fillmode\":\"overlay\",\"size\":10,\"solidity\":0.2}},\"type\":\"barpolar\"}],\"pie\":[{\"automargin\":true,\"type\":\"pie\"}]},\"layout\":{\"autotypenumbers\":\"strict\",\"colorway\":[\"#636efa\",\"#EF553B\",\"#00cc96\",\"#ab63fa\",\"#FFA15A\",\"#19d3f3\",\"#FF6692\",\"#B6E880\",\"#FF97FF\",\"#FECB52\"],\"font\":{\"color\":\"#2a3f5f\"},\"hovermode\":\"closest\",\"hoverlabel\":{\"align\":\"left\"},\"paper_bgcolor\":\"white\",\"plot_bgcolor\":\"#E5ECF6\",\"polar\":{\"bgcolor\":\"#E5ECF6\",\"angularaxis\":{\"gridcolor\":\"white\",\"linecolor\":\"white\",\"ticks\":\"\"},\"radialaxis\":{\"gridcolor\":\"white\",\"linecolor\":\"white\",\"ticks\":\"\"}},\"ternary\":{\"bgcolor\":\"#E5ECF6\",\"aaxis\":{\"gridcolor\":\"white\",\"linecolor\":\"white\",\"ticks\":\"\"},\"baxis\":{\"gridcolor\":\"white\",\"linecolor\":\"white\",\"ticks\":\"\"},\"caxis\":{\"gridcolor\":\"white\",\"linecolor\":\"white\",\"ticks\":\"\"}},\"coloraxis\":{\"colorbar\":{\"outlinewidth\":0,\"ticks\":\"\"}},\"colorscale\":{\"sequential\":[[0.0,\"#0d0887\"],[0.1111111111111111,\"#46039f\"],[0.2222222222222222,\"#7201a8\"],[0.3333333333333333,\"#9c179e\"],[0.4444444444444444,\"#bd3786\"],[0.5555555555555556,\"#d8576b\"],[0.6666666666666666,\"#ed7953\"],[0.7777777777777778,\"#fb9f3a\"],[0.8888888888888888,\"#fdca26\"],[1.0,\"#f0f921\"]],\"sequentialminus\":[[0.0,\"#0d0887\"],[0.1111111111111111,\"#46039f\"],[0.2222222222222222,\"#7201a8\"],[0.3333333333333333,\"#9c179e\"],[0.4444444444444444,\"#bd3786\"],[0.5555555555555556,\"#d8576b\"],[0.6666666666666666,\"#ed7953\"],[0.7777777777777778,\"#fb9f3a\"],[0.8888888888888888,\"#fdca26\"],[1.0,\"#f0f921\"]],\"diverging\":[[0,\"#8e0152\"],[0.1,\"#c51b7d\"],[0.2,\"#de77ae\"],[0.3,\"#f1b6da\"],[0.4,\"#fde0ef\"],[0.5,\"#f7f7f7\"],[0.6,\"#e6f5d0\"],[0.7,\"#b8e186\"],[0.8,\"#7fbc41\"],[0.9,\"#4d9221\"],[1,\"#276419\"]]},\"xaxis\":{\"gridcolor\":\"white\",\"linecolor\":\"white\",\"ticks\":\"\",\"title\":{\"standoff\":15},\"zerolinecolor\":\"white\",\"automargin\":true,\"zerolinewidth\":2},\"yaxis\":{\"gridcolor\":\"white\",\"linecolor\":\"white\",\"ticks\":\"\",\"title\":{\"standoff\":15},\"zerolinecolor\":\"white\",\"automargin\":true,\"zerolinewidth\":2},\"scene\":{\"xaxis\":{\"backgroundcolor\":\"#E5ECF6\",\"gridcolor\":\"white\",\"linecolor\":\"white\",\"showbackground\":true,\"ticks\":\"\",\"zerolinecolor\":\"white\",\"gridwidth\":2},\"yaxis\":{\"backgroundcolor\":\"#E5ECF6\",\"gridcolor\":\"white\",\"linecolor\":\"white\",\"showbackground\":true,\"ticks\":\"\",\"zerolinecolor\":\"white\",\"gridwidth\":2},\"zaxis\":{\"backgroundcolor\":\"#E5ECF6\",\"gridcolor\":\"white\",\"linecolor\":\"white\",\"showbackground\":true,\"ticks\":\"\",\"zerolinecolor\":\"white\",\"gridwidth\":2}},\"shapedefaults\":{\"line\":{\"color\":\"#2a3f5f\"}},\"annotationdefaults\":{\"arrowcolor\":\"#2a3f5f\",\"arrowhead\":0,\"arrowwidth\":1},\"geo\":{\"bgcolor\":\"white\",\"landcolor\":\"#E5ECF6\",\"subunitcolor\":\"white\",\"showland\":true,\"showlakes\":true,\"lakecolor\":\"white\"},\"title\":{\"x\":0.05},\"mapbox\":{\"style\":\"light\"}}},\"xaxis\":{\"anchor\":\"y\",\"domain\":[0.0,1.0],\"title\":{\"text\":\"Number of Buildings\"},\"showgrid\":true},\"yaxis\":{\"anchor\":\"x\",\"domain\":[0.0,1.0],\"title\":{\"text\":\"Area (sqm)\"},\"showgrid\":true},\"legend\":{\"title\":{\"text\":\"dataset\"},\"tracegroupgap\":0},\"margin\":{\"t\":60}},                        {\"responsive\": true}                    ).then(function(){\n",
       "                            \n",
       "var gd = document.getElementById('1e288a70-0c24-49c3-a81f-3dad5bb9b9b2');\n",
       "var x = new MutationObserver(function (mutations, observer) {{\n",
       "        var display = window.getComputedStyle(gd).display;\n",
       "        if (!display || display === 'none') {{\n",
       "            console.log([gd, 'removed!']);\n",
       "            Plotly.purge(gd);\n",
       "            observer.disconnect();\n",
       "        }}\n",
       "}});\n",
       "\n",
       "// Listen for the removal of the full notebook cells\n",
       "var notebookContainer = gd.closest('#notebook-container');\n",
       "if (notebookContainer) {{\n",
       "    x.observe(notebookContainer, {childList: true});\n",
       "}}\n",
       "\n",
       "// Listen for the clearing of the current output cell\n",
       "var outputEl = gd.closest('.output');\n",
       "if (outputEl) {{\n",
       "    x.observe(outputEl, {childList: true});\n",
       "}}\n",
       "\n",
       "                        })                };                });            </script>        </div>"
      ]
     },
     "metadata": {},
     "output_type": "display_data"
    }
   ],
   "source": [
    "import plotly.express as px\n",
    "\n",
    "# Assuming 'total_area_buildings' is your DataFrame\n",
    "fig = px.scatter(pd.DataFrame(total_area_buildings.groupby(['country','dataset'])['nr_buildings','area_sqm'].sum()).reset_index(), x='nr_buildings', y='area_sqm', color='dataset',  \n",
    "                 hover_data={'country': True}, size_max=30, text='country')\n",
    "\n",
    "# Update facet axis titles\n",
    "fig.update_xaxes(title_text=\"Number of Buildings\", showgrid=True)\n",
    "fig.update_yaxes(title_text=\"Area (sqm)\", showgrid=True)\n",
    "\n",
    "# Update marker size and style\n",
    "fig.update_traces(marker=dict(size=20, opacity=0.6, line=dict(width=1, color='DarkSlateGrey')), selector=dict(mode='markers'))\n",
    "\n",
    "# Show the plot\n",
    "fig.show()\n",
    "fig.write_html(\"/mnt/CAS/20240101_foss4g/plots/global/overview_all.html\")"
   ]
  },
  {
   "cell_type": "markdown",
   "id": "199d4fbf",
   "metadata": {},
   "source": [
    "# Dataset comparison by country"
   ]
  },
  {
   "cell_type": "code",
   "execution_count": 11,
   "id": "0a7012fb",
   "metadata": {
    "ExecuteTime": {
     "end_time": "2024-02-09T08:54:04.233460Z",
     "start_time": "2024-02-09T08:54:03.830542Z"
    }
   },
   "outputs": [
    {
     "data": {
      "text/html": [
       "<div>\n",
       "<style scoped>\n",
       "    .dataframe tbody tr th:only-of-type {\n",
       "        vertical-align: middle;\n",
       "    }\n",
       "\n",
       "    .dataframe tbody tr th {\n",
       "        vertical-align: top;\n",
       "    }\n",
       "\n",
       "    .dataframe thead th {\n",
       "        text-align: right;\n",
       "    }\n",
       "</style>\n",
       "<table border=\"1\" class=\"dataframe\">\n",
       "  <thead>\n",
       "    <tr style=\"text-align: right;\">\n",
       "      <th></th>\n",
       "      <th>dataset</th>\n",
       "      <th>source</th>\n",
       "      <th>nuts_id</th>\n",
       "      <th>nuts_name</th>\n",
       "      <th>urban_type</th>\n",
       "      <th>country</th>\n",
       "      <th>nr_buildings</th>\n",
       "      <th>area_sqm</th>\n",
       "      <th>num_vertices</th>\n",
       "    </tr>\n",
       "  </thead>\n",
       "  <tbody>\n",
       "    <tr>\n",
       "      <th>0</th>\n",
       "      <td>eubucco</td>\n",
       "      <td>eubucco</td>\n",
       "      <td>EL301</td>\n",
       "      <td>Βόρειος Τομέας Αθηνών</td>\n",
       "      <td>1</td>\n",
       "      <td>EL</td>\n",
       "      <td>66995.0</td>\n",
       "      <td>2.359186e+07</td>\n",
       "      <td>6465713</td>\n",
       "    </tr>\n",
       "    <tr>\n",
       "      <th>1</th>\n",
       "      <td>eubucco</td>\n",
       "      <td>eubucco</td>\n",
       "      <td>EL302</td>\n",
       "      <td>Δυτικός Τομέας Αθηνών</td>\n",
       "      <td>1</td>\n",
       "      <td>EL</td>\n",
       "      <td>5385.0</td>\n",
       "      <td>2.991353e+06</td>\n",
       "      <td>430550</td>\n",
       "    </tr>\n",
       "    <tr>\n",
       "      <th>2</th>\n",
       "      <td>eubucco</td>\n",
       "      <td>eubucco</td>\n",
       "      <td>EL303</td>\n",
       "      <td>Κεντρικός Τομέας Αθηνών</td>\n",
       "      <td>1</td>\n",
       "      <td>EL</td>\n",
       "      <td>113578.0</td>\n",
       "      <td>3.707081e+07</td>\n",
       "      <td>11322088</td>\n",
       "    </tr>\n",
       "    <tr>\n",
       "      <th>3</th>\n",
       "      <td>eubucco</td>\n",
       "      <td>eubucco</td>\n",
       "      <td>EL304</td>\n",
       "      <td>Νότιος Τομέας Αθηνών</td>\n",
       "      <td>1</td>\n",
       "      <td>EL</td>\n",
       "      <td>69990.0</td>\n",
       "      <td>2.251138e+07</td>\n",
       "      <td>6649733</td>\n",
       "    </tr>\n",
       "    <tr>\n",
       "      <th>4</th>\n",
       "      <td>eubucco</td>\n",
       "      <td>eubucco</td>\n",
       "      <td>EL305</td>\n",
       "      <td>Ανατολική Αττική</td>\n",
       "      <td>1</td>\n",
       "      <td>EL</td>\n",
       "      <td>30448.0</td>\n",
       "      <td>1.318354e+07</td>\n",
       "      <td>2576112</td>\n",
       "    </tr>\n",
       "  </tbody>\n",
       "</table>\n",
       "</div>"
      ],
      "text/plain": [
       "   dataset   source nuts_id                nuts_name  urban_type country  \\\n",
       "0  eubucco  eubucco   EL301    Βόρειος Τομέας Αθηνών           1      EL   \n",
       "1  eubucco  eubucco   EL302    Δυτικός Τομέας Αθηνών           1      EL   \n",
       "2  eubucco  eubucco   EL303  Κεντρικός Τομέας Αθηνών           1      EL   \n",
       "3  eubucco  eubucco   EL304     Νότιος Τομέας Αθηνών           1      EL   \n",
       "4  eubucco  eubucco   EL305         Ανατολική Αττική           1      EL   \n",
       "\n",
       "   nr_buildings      area_sqm  num_vertices  \n",
       "0       66995.0  2.359186e+07       6465713  \n",
       "1        5385.0  2.991353e+06        430550  \n",
       "2      113578.0  3.707081e+07      11322088  \n",
       "3       69990.0  2.251138e+07       6649733  \n",
       "4       30448.0  1.318354e+07       2576112  "
      ]
     },
     "execution_count": 11,
     "metadata": {},
     "output_type": "execute_result"
    }
   ],
   "source": [
    "import pandas as pd\n",
    "countries=['EL','MT','SE','DK','BE']\n",
    "df_all=[]\n",
    "for country in countries:\n",
    "    df_eubucco=pd.read_excel('/mnt/CAS/20240101_foss4g/datasets/out/%s_eubucco_output.xlsx' %(country))\n",
    "    df_all.append(df_eubucco)\n",
    "    \n",
    "    df_dbsm=pd.read_excel('/mnt/CAS/20240101_foss4g/datasets/out/%s_jrc-dbsm_output.xlsx' %(country))\n",
    "    #aggregation because of multiple sources osm,esm,\n",
    "    df_dbsm['source']='jrc'\n",
    "    df_dbsm=pd.DataFrame(df_dbsm.groupby(['dataset','source','nuts_id','urban_type','country'])['nr_buildings','area_sqm','num_vertices'].sum()).reset_index()\n",
    "    \n",
    "    df_osm=pd.read_excel('/mnt/CAS/20240101_foss4g/datasets/out/%s_osm_output.xlsx' %(country))\n",
    "    db_microsoft=pd.read_excel('/mnt/CAS/20240101_foss4g/datasets/out/%s_microsoft_output.xlsx' %(country))\n",
    "    df_all.append(db_microsoft)\n",
    "    \n",
    "    df_all.append(df_osm)\n",
    "    df_all.append(df_dbsm)\n",
    "    \n",
    "    \n",
    "df_all=pd.concat(df_all)\n",
    "df_all['nr_buildings']= [float(val) for val in df_all['nr_buildings'].values]\n",
    "df_all_country_urban=pd.DataFrame(df_all.groupby(['dataset','country','urban_type'])['nr_buildings','area_sqm','num_vertices'].sum()).reset_index()\n",
    "df_all.head()"
   ]
  },
  {
   "cell_type": "code",
   "execution_count": 12,
   "id": "6cbf4b53",
   "metadata": {
    "ExecuteTime": {
     "end_time": "2024-02-09T08:54:04.247846Z",
     "start_time": "2024-02-09T08:54:04.235477Z"
    }
   },
   "outputs": [
    {
     "data": {
      "text/html": [
       "<div>\n",
       "<style scoped>\n",
       "    .dataframe tbody tr th:only-of-type {\n",
       "        vertical-align: middle;\n",
       "    }\n",
       "\n",
       "    .dataframe tbody tr th {\n",
       "        vertical-align: top;\n",
       "    }\n",
       "\n",
       "    .dataframe thead th {\n",
       "        text-align: right;\n",
       "    }\n",
       "</style>\n",
       "<table border=\"1\" class=\"dataframe\">\n",
       "  <thead>\n",
       "    <tr style=\"text-align: right;\">\n",
       "      <th></th>\n",
       "      <th></th>\n",
       "      <th>nr_buildings</th>\n",
       "      <th>area_sqm</th>\n",
       "    </tr>\n",
       "    <tr>\n",
       "      <th>dataset</th>\n",
       "      <th>country</th>\n",
       "      <th></th>\n",
       "      <th></th>\n",
       "    </tr>\n",
       "  </thead>\n",
       "  <tbody>\n",
       "    <tr>\n",
       "      <th rowspan=\"5\" valign=\"top\">eubucco</th>\n",
       "      <th>BE</th>\n",
       "      <td>8636114.0</td>\n",
       "      <td>2.756630e+09</td>\n",
       "    </tr>\n",
       "    <tr>\n",
       "      <th>DK</th>\n",
       "      <td>5684734.0</td>\n",
       "      <td>2.344344e+09</td>\n",
       "    </tr>\n",
       "    <tr>\n",
       "      <th>EL</th>\n",
       "      <td>856140.0</td>\n",
       "      <td>3.045613e+08</td>\n",
       "    </tr>\n",
       "    <tr>\n",
       "      <th>MT</th>\n",
       "      <td>141329.0</td>\n",
       "      <td>4.950755e+07</td>\n",
       "    </tr>\n",
       "    <tr>\n",
       "      <th>SE</th>\n",
       "      <td>2504961.0</td>\n",
       "      <td>2.138511e+09</td>\n",
       "    </tr>\n",
       "    <tr>\n",
       "      <th rowspan=\"5\" valign=\"top\">geofabrik</th>\n",
       "      <th>BE</th>\n",
       "      <td>6211451.0</td>\n",
       "      <td>2.394596e+09</td>\n",
       "    </tr>\n",
       "    <tr>\n",
       "      <th>DK</th>\n",
       "      <td>3654875.0</td>\n",
       "      <td>2.282757e+09</td>\n",
       "    </tr>\n",
       "    <tr>\n",
       "      <th>EL</th>\n",
       "      <td>1217547.0</td>\n",
       "      <td>4.711567e+08</td>\n",
       "    </tr>\n",
       "    <tr>\n",
       "      <th>MT</th>\n",
       "      <td>20225.0</td>\n",
       "      <td>1.677033e+07</td>\n",
       "    </tr>\n",
       "    <tr>\n",
       "      <th>SE</th>\n",
       "      <td>3050667.0</td>\n",
       "      <td>2.484823e+09</td>\n",
       "    </tr>\n",
       "    <tr>\n",
       "      <th rowspan=\"5\" valign=\"top\">jrc</th>\n",
       "      <th>BE</th>\n",
       "      <td>6610034.0</td>\n",
       "      <td>2.675408e+09</td>\n",
       "    </tr>\n",
       "    <tr>\n",
       "      <th>DK</th>\n",
       "      <td>3765255.0</td>\n",
       "      <td>2.376976e+09</td>\n",
       "    </tr>\n",
       "    <tr>\n",
       "      <th>EL</th>\n",
       "      <td>4540228.0</td>\n",
       "      <td>1.503479e+09</td>\n",
       "    </tr>\n",
       "    <tr>\n",
       "      <th>MT</th>\n",
       "      <td>58247.0</td>\n",
       "      <td>4.611161e+07</td>\n",
       "    </tr>\n",
       "    <tr>\n",
       "      <th>SE</th>\n",
       "      <td>4936573.0</td>\n",
       "      <td>3.616369e+09</td>\n",
       "    </tr>\n",
       "    <tr>\n",
       "      <th rowspan=\"5\" valign=\"top\">microsoft</th>\n",
       "      <th>BE</th>\n",
       "      <td>4557403.0</td>\n",
       "      <td>2.586242e+09</td>\n",
       "    </tr>\n",
       "    <tr>\n",
       "      <th>DK</th>\n",
       "      <td>3541845.0</td>\n",
       "      <td>2.111797e+09</td>\n",
       "    </tr>\n",
       "    <tr>\n",
       "      <th>EL</th>\n",
       "      <td>5722750.0</td>\n",
       "      <td>1.474324e+09</td>\n",
       "    </tr>\n",
       "    <tr>\n",
       "      <th>MT</th>\n",
       "      <td>73579.0</td>\n",
       "      <td>4.429262e+07</td>\n",
       "    </tr>\n",
       "    <tr>\n",
       "      <th>SE</th>\n",
       "      <td>6422594.0</td>\n",
       "      <td>3.107971e+09</td>\n",
       "    </tr>\n",
       "  </tbody>\n",
       "</table>\n",
       "</div>"
      ],
      "text/plain": [
       "                   nr_buildings      area_sqm\n",
       "dataset   country                            \n",
       "eubucco   BE          8636114.0  2.756630e+09\n",
       "          DK          5684734.0  2.344344e+09\n",
       "          EL           856140.0  3.045613e+08\n",
       "          MT           141329.0  4.950755e+07\n",
       "          SE          2504961.0  2.138511e+09\n",
       "geofabrik BE          6211451.0  2.394596e+09\n",
       "          DK          3654875.0  2.282757e+09\n",
       "          EL          1217547.0  4.711567e+08\n",
       "          MT            20225.0  1.677033e+07\n",
       "          SE          3050667.0  2.484823e+09\n",
       "jrc       BE          6610034.0  2.675408e+09\n",
       "          DK          3765255.0  2.376976e+09\n",
       "          EL          4540228.0  1.503479e+09\n",
       "          MT            58247.0  4.611161e+07\n",
       "          SE          4936573.0  3.616369e+09\n",
       "microsoft BE          4557403.0  2.586242e+09\n",
       "          DK          3541845.0  2.111797e+09\n",
       "          EL          5722750.0  1.474324e+09\n",
       "          MT            73579.0  4.429262e+07\n",
       "          SE          6422594.0  3.107971e+09"
      ]
     },
     "execution_count": 12,
     "metadata": {},
     "output_type": "execute_result"
    }
   ],
   "source": [
    "pd.DataFrame(df_all.groupby(['dataset','country'])['nr_buildings','area_sqm'].sum())"
   ]
  },
  {
   "cell_type": "code",
   "execution_count": 13,
   "id": "f300c9f9",
   "metadata": {
    "ExecuteTime": {
     "end_time": "2024-02-09T08:54:17.439162Z",
     "start_time": "2024-02-09T08:54:10.424736Z"
    }
   },
   "outputs": [
    {
     "data": {
      "text/plain": [
       "<Figure size 576x576 with 0 Axes>"
      ]
     },
     "metadata": {},
     "output_type": "display_data"
    },
    {
     "data": {
      "image/png": "[encoded data removed]",
      "text/plain": [
       "<Figure size 452.1x360 with 1 Axes>"
      ]
     },
     "metadata": {},
     "output_type": "display_data"
    },
    {
     "data": {
      "text/plain": [
       "<Figure size 576x576 with 0 Axes>"
      ]
     },
     "metadata": {},
     "output_type": "display_data"
    },
    {
     "data": {
      "image/png": "[encoded data removed]",
      "text/plain": [
       "<Figure size 452.1x360 with 1 Axes>"
      ]
     },
     "metadata": {},
     "output_type": "display_data"
    },
    {
     "data": {
      "text/plain": [
       "<Figure size 576x576 with 0 Axes>"
      ]
     },
     "metadata": {},
     "output_type": "display_data"
    },
    {
     "data": {
      "image/png": "[encoded data removed]",
      "text/plain": [
       "<Figure size 452.1x360 with 1 Axes>"
      ]
     },
     "metadata": {},
     "output_type": "display_data"
    },
    {
     "data": {
      "text/plain": [
       "<Figure size 576x576 with 0 Axes>"
      ]
     },
     "metadata": {},
     "output_type": "display_data"
    },
    {
     "data": {
      "image/png": "[encoded data removed]",
      "text/plain": [
       "<Figure size 452.1x360 with 1 Axes>"
      ]
     },
     "metadata": {},
     "output_type": "display_data"
    },
    {
     "data": {
      "text/plain": [
       "<Figure size 576x576 with 0 Axes>"
      ]
     },
     "metadata": {},
     "output_type": "display_data"
    },
    {
     "data": {
      "image/png": "[encoded data removed]",
      "text/plain": [
       "<Figure size 452.1x360 with 1 Axes>"
      ]
     },
     "metadata": {},
     "output_type": "display_data"
    }
   ],
   "source": [
    "for country in countries:\n",
    "    hue='dataset'\n",
    "    y='nr_buildings'\n",
    "    col='country'\n",
    "    x='urban_type'\n",
    "    xlabel='Degree of urbanization'\n",
    "    ylabel='Buildings per NUTS3 level'\n",
    "    plt=plot(df_all[df_all['country']==country],x,y,col,hue,xlabel,ylabel,1)\n",
    "    plt.savefig('/mnt/CAS/20240101_foss4g/plots/countries/%s_%s_urban_type.png' %(country,y),dpi=300)"
   ]
  },
  {
   "cell_type": "code",
   "execution_count": 73,
   "id": "2b6a7ba4",
   "metadata": {
    "ExecuteTime": {
     "end_time": "2024-02-08T10:26:42.451090Z",
     "start_time": "2024-02-08T10:26:37.646462Z"
    }
   },
   "outputs": [
    {
     "data": {
      "text/plain": [
       "<Figure size 576x576 with 0 Axes>"
      ]
     },
     "metadata": {},
     "output_type": "display_data"
    },
    {
     "data": {
      "image/png": "[encoded data removed]",
      "text/plain": [
       "<Figure size 452.1x360 with 1 Axes>"
      ]
     },
     "metadata": {},
     "output_type": "display_data"
    },
    {
     "data": {
      "text/plain": [
       "<Figure size 576x576 with 0 Axes>"
      ]
     },
     "metadata": {},
     "output_type": "display_data"
    },
    {
     "data": {
      "image/png": "[encoded data removed]",
      "text/plain": [
       "<Figure size 452.1x360 with 1 Axes>"
      ]
     },
     "metadata": {},
     "output_type": "display_data"
    },
    {
     "data": {
      "text/plain": [
       "<Figure size 576x576 with 0 Axes>"
      ]
     },
     "metadata": {},
     "output_type": "display_data"
    },
    {
     "data": {
      "image/png": "[encoded data removed]",
      "text/plain": [
       "<Figure size 452.1x360 with 1 Axes>"
      ]
     },
     "metadata": {},
     "output_type": "display_data"
    },
    {
     "data": {
      "text/plain": [
       "<Figure size 576x576 with 0 Axes>"
      ]
     },
     "metadata": {},
     "output_type": "display_data"
    },
    {
     "data": {
      "image/png": "[encoded data removed]",
      "text/plain": [
       "<Figure size 452.1x360 with 1 Axes>"
      ]
     },
     "metadata": {},
     "output_type": "display_data"
    },
    {
     "data": {
      "text/plain": [
       "<Figure size 576x576 with 0 Axes>"
      ]
     },
     "metadata": {},
     "output_type": "display_data"
    },
    {
     "data": {
      "image/png": "[encoded data removed]",
      "text/plain": [
       "<Figure size 452.1x360 with 1 Axes>"
      ]
     },
     "metadata": {},
     "output_type": "display_data"
    }
   ],
   "source": [
    "for country in countries:\n",
    "    hue='dataset'\n",
    "    y='area_sqm'\n",
    "    col='country'\n",
    "    x='urban_type'\n",
    "    xlabel='Degree of urbanization'\n",
    "    ylabel='Area(sqm) per NUTS3 level'\n",
    "    plt=plot(df_all[df_all['country']==country],x,y,col,hue,xlabel,ylabel,1)\n",
    "    plt.savefig('/mnt/CAS/20240101_foss4g/plots/countries/%s_%s_urban_type.png' %(country,y),dpi=300)"
   ]
  },
  {
   "cell_type": "code",
   "execution_count": 21,
   "id": "c4d974e5",
   "metadata": {
    "ExecuteTime": {
     "end_time": "2024-02-09T09:50:30.356208Z",
     "start_time": "2024-02-09T09:50:29.934696Z"
    }
   },
   "outputs": [],
   "source": [
    "import pandas as pd\n",
    "\n",
    "tmp=pd.read_csv('/mnt/CAS/20240101_foss4g/datasets/out/shared_area_raw/MT/eubucco_jrc.csv.zip')"
   ]
  },
  {
   "cell_type": "code",
   "execution_count": 23,
   "id": "5f8f4d47",
   "metadata": {
    "ExecuteTime": {
     "end_time": "2024-02-09T09:52:40.031458Z",
     "start_time": "2024-02-09T09:52:40.004581Z"
    }
   },
   "outputs": [
    {
     "data": {
      "text/html": [
       "<div>\n",
       "<style scoped>\n",
       "    .dataframe tbody tr th:only-of-type {\n",
       "        vertical-align: middle;\n",
       "    }\n",
       "\n",
       "    .dataframe tbody tr th {\n",
       "        vertical-align: top;\n",
       "    }\n",
       "\n",
       "    .dataframe thead th {\n",
       "        text-align: right;\n",
       "    }\n",
       "</style>\n",
       "<table border=\"1\" class=\"dataframe\">\n",
       "  <thead>\n",
       "    <tr style=\"text-align: right;\">\n",
       "      <th></th>\n",
       "      <th>id</th>\n",
       "      <th>height</th>\n",
       "      <th>age</th>\n",
       "      <th>type</th>\n",
       "      <th>id_source</th>\n",
       "      <th>type_source</th>\n",
       "      <th>source_1</th>\n",
       "      <th>dataset_1</th>\n",
       "      <th>country_1</th>\n",
       "      <th>eubucco-id</th>\n",
       "      <th>...</th>\n",
       "      <th>source_2</th>\n",
       "      <th>dataset_2</th>\n",
       "      <th>country_2</th>\n",
       "      <th>jrc-id</th>\n",
       "      <th>area_sqm_2</th>\n",
       "      <th>num_vertices_2</th>\n",
       "      <th>nuts_id_2</th>\n",
       "      <th>urban_type_2</th>\n",
       "      <th>nuts_name_2</th>\n",
       "      <th>shared_area</th>\n",
       "    </tr>\n",
       "  </thead>\n",
       "  <tbody>\n",
       "    <tr>\n",
       "      <th>0</th>\n",
       "      <td>v0.1-MLT.1.1_1-0</td>\n",
       "      <td>14.448998</td>\n",
       "      <td>NaN</td>\n",
       "      <td>NaN</td>\n",
       "      <td>MT-BU-127466</td>\n",
       "      <td>NaN</td>\n",
       "      <td>eubucco</td>\n",
       "      <td>eubucco</td>\n",
       "      <td>MT</td>\n",
       "      <td>v0.1-MLT.1.1_1-0</td>\n",
       "      <td>...</td>\n",
       "      <td>msb</td>\n",
       "      <td>jrc</td>\n",
       "      <td>MT</td>\n",
       "      <td>29473</td>\n",
       "      <td>22170.825194</td>\n",
       "      <td>113</td>\n",
       "      <td>MT001</td>\n",
       "      <td>1</td>\n",
       "      <td>Malta</td>\n",
       "      <td>1865.369634</td>\n",
       "    </tr>\n",
       "  </tbody>\n",
       "</table>\n",
       "<p>1 rows × 25 columns</p>\n",
       "</div>"
      ],
      "text/plain": [
       "                 id     height  age  type     id_source  type_source source_1  \\\n",
       "0  v0.1-MLT.1.1_1-0  14.448998  NaN   NaN  MT-BU-127466          NaN  eubucco   \n",
       "\n",
       "  dataset_1 country_1        eubucco-id  ...  source_2  dataset_2 country_2  \\\n",
       "0   eubucco        MT  v0.1-MLT.1.1_1-0  ...       msb        jrc        MT   \n",
       "\n",
       "   jrc-id    area_sqm_2 num_vertices_2 nuts_id_2 urban_type_2  nuts_name_2  \\\n",
       "0   29473  22170.825194            113     MT001            1        Malta   \n",
       "\n",
       "   shared_area  \n",
       "0  1865.369634  \n",
       "\n",
       "[1 rows x 25 columns]"
      ]
     },
     "execution_count": 23,
     "metadata": {},
     "output_type": "execute_result"
    }
   ],
   "source": [
    "tmp[tmp['id']=='v0.1-MLT.1.1_1-0']"
   ]
  },
  {
   "cell_type": "code",
   "execution_count": 24,
   "id": "73164955",
   "metadata": {
    "ExecuteTime": {
     "end_time": "2024-02-09T09:52:57.577017Z",
     "start_time": "2024-02-09T09:52:57.544423Z"
    }
   },
   "outputs": [
    {
     "data": {
      "text/html": [
       "<div>\n",
       "<style scoped>\n",
       "    .dataframe tbody tr th:only-of-type {\n",
       "        vertical-align: middle;\n",
       "    }\n",
       "\n",
       "    .dataframe tbody tr th {\n",
       "        vertical-align: top;\n",
       "    }\n",
       "\n",
       "    .dataframe thead th {\n",
       "        text-align: right;\n",
       "    }\n",
       "</style>\n",
       "<table border=\"1\" class=\"dataframe\">\n",
       "  <thead>\n",
       "    <tr style=\"text-align: right;\">\n",
       "      <th></th>\n",
       "      <th>id</th>\n",
       "      <th>height</th>\n",
       "      <th>age</th>\n",
       "      <th>type</th>\n",
       "      <th>id_source</th>\n",
       "      <th>type_source</th>\n",
       "      <th>source_1</th>\n",
       "      <th>dataset_1</th>\n",
       "      <th>country_1</th>\n",
       "      <th>eubucco-id</th>\n",
       "      <th>...</th>\n",
       "      <th>source_2</th>\n",
       "      <th>dataset_2</th>\n",
       "      <th>country_2</th>\n",
       "      <th>jrc-id</th>\n",
       "      <th>area_sqm_2</th>\n",
       "      <th>num_vertices_2</th>\n",
       "      <th>nuts_id_2</th>\n",
       "      <th>urban_type_2</th>\n",
       "      <th>nuts_name_2</th>\n",
       "      <th>shared_area</th>\n",
       "    </tr>\n",
       "  </thead>\n",
       "  <tbody>\n",
       "    <tr>\n",
       "      <th>0</th>\n",
       "      <td>v0.1-MLT.1.1_1-0</td>\n",
       "      <td>14.448998</td>\n",
       "      <td>NaN</td>\n",
       "      <td>NaN</td>\n",
       "      <td>MT-BU-127466</td>\n",
       "      <td>NaN</td>\n",
       "      <td>eubucco</td>\n",
       "      <td>eubucco</td>\n",
       "      <td>MT</td>\n",
       "      <td>v0.1-MLT.1.1_1-0</td>\n",
       "      <td>...</td>\n",
       "      <td>msb</td>\n",
       "      <td>jrc</td>\n",
       "      <td>MT</td>\n",
       "      <td>29473</td>\n",
       "      <td>22170.825194</td>\n",
       "      <td>113</td>\n",
       "      <td>MT001</td>\n",
       "      <td>1</td>\n",
       "      <td>Malta</td>\n",
       "      <td>1865.369634</td>\n",
       "    </tr>\n",
       "    <tr>\n",
       "      <th>1</th>\n",
       "      <td>v0.1-MLT.1.1_1-67</td>\n",
       "      <td>20.233699</td>\n",
       "      <td>NaN</td>\n",
       "      <td>NaN</td>\n",
       "      <td>MT-BU-127644</td>\n",
       "      <td>NaN</td>\n",
       "      <td>eubucco</td>\n",
       "      <td>eubucco</td>\n",
       "      <td>MT</td>\n",
       "      <td>v0.1-MLT.1.1_1-67</td>\n",
       "      <td>...</td>\n",
       "      <td>msb</td>\n",
       "      <td>jrc</td>\n",
       "      <td>MT</td>\n",
       "      <td>29473</td>\n",
       "      <td>22170.825194</td>\n",
       "      <td>113</td>\n",
       "      <td>MT001</td>\n",
       "      <td>1</td>\n",
       "      <td>Malta</td>\n",
       "      <td>4704.793777</td>\n",
       "    </tr>\n",
       "    <tr>\n",
       "      <th>2</th>\n",
       "      <td>v0.1-MLT.1.1_1-76</td>\n",
       "      <td>16.070999</td>\n",
       "      <td>NaN</td>\n",
       "      <td>NaN</td>\n",
       "      <td>MT-BU-127664</td>\n",
       "      <td>NaN</td>\n",
       "      <td>eubucco</td>\n",
       "      <td>eubucco</td>\n",
       "      <td>MT</td>\n",
       "      <td>v0.1-MLT.1.1_1-76</td>\n",
       "      <td>...</td>\n",
       "      <td>msb</td>\n",
       "      <td>jrc</td>\n",
       "      <td>MT</td>\n",
       "      <td>29473</td>\n",
       "      <td>22170.825194</td>\n",
       "      <td>113</td>\n",
       "      <td>MT001</td>\n",
       "      <td>1</td>\n",
       "      <td>Malta</td>\n",
       "      <td>5960.817236</td>\n",
       "    </tr>\n",
       "    <tr>\n",
       "      <th>3</th>\n",
       "      <td>v0.1-MLT.1.1_1-77</td>\n",
       "      <td>18.443001</td>\n",
       "      <td>NaN</td>\n",
       "      <td>NaN</td>\n",
       "      <td>MT-BU-127665</td>\n",
       "      <td>NaN</td>\n",
       "      <td>eubucco</td>\n",
       "      <td>eubucco</td>\n",
       "      <td>MT</td>\n",
       "      <td>v0.1-MLT.1.1_1-77</td>\n",
       "      <td>...</td>\n",
       "      <td>msb</td>\n",
       "      <td>jrc</td>\n",
       "      <td>MT</td>\n",
       "      <td>29473</td>\n",
       "      <td>22170.825194</td>\n",
       "      <td>113</td>\n",
       "      <td>MT001</td>\n",
       "      <td>1</td>\n",
       "      <td>Malta</td>\n",
       "      <td>713.915098</td>\n",
       "    </tr>\n",
       "    <tr>\n",
       "      <th>4</th>\n",
       "      <td>v0.1-MLT.1.1_1-111</td>\n",
       "      <td>13.617001</td>\n",
       "      <td>NaN</td>\n",
       "      <td>NaN</td>\n",
       "      <td>MT-BU-128053</td>\n",
       "      <td>NaN</td>\n",
       "      <td>eubucco</td>\n",
       "      <td>eubucco</td>\n",
       "      <td>MT</td>\n",
       "      <td>v0.1-MLT.1.1_1-111</td>\n",
       "      <td>...</td>\n",
       "      <td>msb</td>\n",
       "      <td>jrc</td>\n",
       "      <td>MT</td>\n",
       "      <td>29473</td>\n",
       "      <td>22170.825194</td>\n",
       "      <td>113</td>\n",
       "      <td>MT001</td>\n",
       "      <td>1</td>\n",
       "      <td>Malta</td>\n",
       "      <td>5.119014</td>\n",
       "    </tr>\n",
       "    <tr>\n",
       "      <th>5</th>\n",
       "      <td>v0.1-MLT.1.1_1-156</td>\n",
       "      <td>17.407302</td>\n",
       "      <td>NaN</td>\n",
       "      <td>NaN</td>\n",
       "      <td>MT-BU-128099</td>\n",
       "      <td>NaN</td>\n",
       "      <td>eubucco</td>\n",
       "      <td>eubucco</td>\n",
       "      <td>MT</td>\n",
       "      <td>v0.1-MLT.1.1_1-156</td>\n",
       "      <td>...</td>\n",
       "      <td>msb</td>\n",
       "      <td>jrc</td>\n",
       "      <td>MT</td>\n",
       "      <td>29473</td>\n",
       "      <td>22170.825194</td>\n",
       "      <td>113</td>\n",
       "      <td>MT001</td>\n",
       "      <td>1</td>\n",
       "      <td>Malta</td>\n",
       "      <td>3413.873734</td>\n",
       "    </tr>\n",
       "    <tr>\n",
       "      <th>6</th>\n",
       "      <td>v0.1-MLT.1.1_1-402</td>\n",
       "      <td>2.567997</td>\n",
       "      <td>NaN</td>\n",
       "      <td>NaN</td>\n",
       "      <td>MT-BU-129481</td>\n",
       "      <td>NaN</td>\n",
       "      <td>eubucco</td>\n",
       "      <td>eubucco</td>\n",
       "      <td>MT</td>\n",
       "      <td>v0.1-MLT.1.1_1-402</td>\n",
       "      <td>...</td>\n",
       "      <td>msb</td>\n",
       "      <td>jrc</td>\n",
       "      <td>MT</td>\n",
       "      <td>29473</td>\n",
       "      <td>22170.825194</td>\n",
       "      <td>113</td>\n",
       "      <td>MT001</td>\n",
       "      <td>1</td>\n",
       "      <td>Malta</td>\n",
       "      <td>8.170372</td>\n",
       "    </tr>\n",
       "    <tr>\n",
       "      <th>7</th>\n",
       "      <td>v0.1-MLT.1.1_1-403</td>\n",
       "      <td>2.112999</td>\n",
       "      <td>NaN</td>\n",
       "      <td>NaN</td>\n",
       "      <td>MT-BU-129482</td>\n",
       "      <td>NaN</td>\n",
       "      <td>eubucco</td>\n",
       "      <td>eubucco</td>\n",
       "      <td>MT</td>\n",
       "      <td>v0.1-MLT.1.1_1-403</td>\n",
       "      <td>...</td>\n",
       "      <td>msb</td>\n",
       "      <td>jrc</td>\n",
       "      <td>MT</td>\n",
       "      <td>29473</td>\n",
       "      <td>22170.825194</td>\n",
       "      <td>113</td>\n",
       "      <td>MT001</td>\n",
       "      <td>1</td>\n",
       "      <td>Malta</td>\n",
       "      <td>2.470959</td>\n",
       "    </tr>\n",
       "    <tr>\n",
       "      <th>8</th>\n",
       "      <td>v0.1-MLT.1.1_1-404</td>\n",
       "      <td>2.439999</td>\n",
       "      <td>NaN</td>\n",
       "      <td>NaN</td>\n",
       "      <td>MT-BU-129483</td>\n",
       "      <td>NaN</td>\n",
       "      <td>eubucco</td>\n",
       "      <td>eubucco</td>\n",
       "      <td>MT</td>\n",
       "      <td>v0.1-MLT.1.1_1-404</td>\n",
       "      <td>...</td>\n",
       "      <td>msb</td>\n",
       "      <td>jrc</td>\n",
       "      <td>MT</td>\n",
       "      <td>29473</td>\n",
       "      <td>22170.825194</td>\n",
       "      <td>113</td>\n",
       "      <td>MT001</td>\n",
       "      <td>1</td>\n",
       "      <td>Malta</td>\n",
       "      <td>3.719608</td>\n",
       "    </tr>\n",
       "    <tr>\n",
       "      <th>9</th>\n",
       "      <td>v0.1-MLT.1.1_1-406</td>\n",
       "      <td>6.473701</td>\n",
       "      <td>NaN</td>\n",
       "      <td>NaN</td>\n",
       "      <td>MT-BU-129485</td>\n",
       "      <td>NaN</td>\n",
       "      <td>eubucco</td>\n",
       "      <td>eubucco</td>\n",
       "      <td>MT</td>\n",
       "      <td>v0.1-MLT.1.1_1-406</td>\n",
       "      <td>...</td>\n",
       "      <td>msb</td>\n",
       "      <td>jrc</td>\n",
       "      <td>MT</td>\n",
       "      <td>29473</td>\n",
       "      <td>22170.825194</td>\n",
       "      <td>113</td>\n",
       "      <td>MT001</td>\n",
       "      <td>1</td>\n",
       "      <td>Malta</td>\n",
       "      <td>27.448248</td>\n",
       "    </tr>\n",
       "    <tr>\n",
       "      <th>10</th>\n",
       "      <td>v0.1-MLT.1.1_1-407</td>\n",
       "      <td>2.924999</td>\n",
       "      <td>NaN</td>\n",
       "      <td>NaN</td>\n",
       "      <td>MT-BU-129486</td>\n",
       "      <td>NaN</td>\n",
       "      <td>eubucco</td>\n",
       "      <td>eubucco</td>\n",
       "      <td>MT</td>\n",
       "      <td>v0.1-MLT.1.1_1-407</td>\n",
       "      <td>...</td>\n",
       "      <td>msb</td>\n",
       "      <td>jrc</td>\n",
       "      <td>MT</td>\n",
       "      <td>29473</td>\n",
       "      <td>22170.825194</td>\n",
       "      <td>113</td>\n",
       "      <td>MT001</td>\n",
       "      <td>1</td>\n",
       "      <td>Malta</td>\n",
       "      <td>3.615399</td>\n",
       "    </tr>\n",
       "    <tr>\n",
       "      <th>11</th>\n",
       "      <td>v0.1-MLT.1.1_1-408</td>\n",
       "      <td>2.542999</td>\n",
       "      <td>NaN</td>\n",
       "      <td>NaN</td>\n",
       "      <td>MT-BU-129487</td>\n",
       "      <td>NaN</td>\n",
       "      <td>eubucco</td>\n",
       "      <td>eubucco</td>\n",
       "      <td>MT</td>\n",
       "      <td>v0.1-MLT.1.1_1-408</td>\n",
       "      <td>...</td>\n",
       "      <td>msb</td>\n",
       "      <td>jrc</td>\n",
       "      <td>MT</td>\n",
       "      <td>29473</td>\n",
       "      <td>22170.825194</td>\n",
       "      <td>113</td>\n",
       "      <td>MT001</td>\n",
       "      <td>1</td>\n",
       "      <td>Malta</td>\n",
       "      <td>5.786573</td>\n",
       "    </tr>\n",
       "    <tr>\n",
       "      <th>12</th>\n",
       "      <td>v0.1-MLT.1.1_1-411</td>\n",
       "      <td>2.992001</td>\n",
       "      <td>NaN</td>\n",
       "      <td>NaN</td>\n",
       "      <td>MT-BU-129490</td>\n",
       "      <td>NaN</td>\n",
       "      <td>eubucco</td>\n",
       "      <td>eubucco</td>\n",
       "      <td>MT</td>\n",
       "      <td>v0.1-MLT.1.1_1-411</td>\n",
       "      <td>...</td>\n",
       "      <td>msb</td>\n",
       "      <td>jrc</td>\n",
       "      <td>MT</td>\n",
       "      <td>29473</td>\n",
       "      <td>22170.825194</td>\n",
       "      <td>113</td>\n",
       "      <td>MT001</td>\n",
       "      <td>1</td>\n",
       "      <td>Malta</td>\n",
       "      <td>1.209366</td>\n",
       "    </tr>\n",
       "    <tr>\n",
       "      <th>13</th>\n",
       "      <td>v0.1-MLT.1.1_1-432</td>\n",
       "      <td>3.229000</td>\n",
       "      <td>NaN</td>\n",
       "      <td>NaN</td>\n",
       "      <td>MT-BU-129511</td>\n",
       "      <td>NaN</td>\n",
       "      <td>eubucco</td>\n",
       "      <td>eubucco</td>\n",
       "      <td>MT</td>\n",
       "      <td>v0.1-MLT.1.1_1-432</td>\n",
       "      <td>...</td>\n",
       "      <td>msb</td>\n",
       "      <td>jrc</td>\n",
       "      <td>MT</td>\n",
       "      <td>29473</td>\n",
       "      <td>22170.825194</td>\n",
       "      <td>113</td>\n",
       "      <td>MT001</td>\n",
       "      <td>1</td>\n",
       "      <td>Malta</td>\n",
       "      <td>14.834589</td>\n",
       "    </tr>\n",
       "    <tr>\n",
       "      <th>14</th>\n",
       "      <td>v0.1-MLT.1.1_1-434</td>\n",
       "      <td>3.007999</td>\n",
       "      <td>NaN</td>\n",
       "      <td>NaN</td>\n",
       "      <td>MT-BU-129513</td>\n",
       "      <td>NaN</td>\n",
       "      <td>eubucco</td>\n",
       "      <td>eubucco</td>\n",
       "      <td>MT</td>\n",
       "      <td>v0.1-MLT.1.1_1-434</td>\n",
       "      <td>...</td>\n",
       "      <td>msb</td>\n",
       "      <td>jrc</td>\n",
       "      <td>MT</td>\n",
       "      <td>29473</td>\n",
       "      <td>22170.825194</td>\n",
       "      <td>113</td>\n",
       "      <td>MT001</td>\n",
       "      <td>1</td>\n",
       "      <td>Malta</td>\n",
       "      <td>15.460872</td>\n",
       "    </tr>\n",
       "    <tr>\n",
       "      <th>15</th>\n",
       "      <td>v0.1-MLT.1.1_1-437</td>\n",
       "      <td>2.526997</td>\n",
       "      <td>NaN</td>\n",
       "      <td>NaN</td>\n",
       "      <td>MT-BU-129516</td>\n",
       "      <td>NaN</td>\n",
       "      <td>eubucco</td>\n",
       "      <td>eubucco</td>\n",
       "      <td>MT</td>\n",
       "      <td>v0.1-MLT.1.1_1-437</td>\n",
       "      <td>...</td>\n",
       "      <td>msb</td>\n",
       "      <td>jrc</td>\n",
       "      <td>MT</td>\n",
       "      <td>29473</td>\n",
       "      <td>22170.825194</td>\n",
       "      <td>113</td>\n",
       "      <td>MT001</td>\n",
       "      <td>1</td>\n",
       "      <td>Malta</td>\n",
       "      <td>0.054890</td>\n",
       "    </tr>\n",
       "    <tr>\n",
       "      <th>16</th>\n",
       "      <td>v0.1-MLT.1.1_1-439</td>\n",
       "      <td>3.474200</td>\n",
       "      <td>NaN</td>\n",
       "      <td>NaN</td>\n",
       "      <td>MT-BU-129518</td>\n",
       "      <td>NaN</td>\n",
       "      <td>eubucco</td>\n",
       "      <td>eubucco</td>\n",
       "      <td>MT</td>\n",
       "      <td>v0.1-MLT.1.1_1-439</td>\n",
       "      <td>...</td>\n",
       "      <td>msb</td>\n",
       "      <td>jrc</td>\n",
       "      <td>MT</td>\n",
       "      <td>29473</td>\n",
       "      <td>22170.825194</td>\n",
       "      <td>113</td>\n",
       "      <td>MT001</td>\n",
       "      <td>1</td>\n",
       "      <td>Malta</td>\n",
       "      <td>1.230188</td>\n",
       "    </tr>\n",
       "    <tr>\n",
       "      <th>17</th>\n",
       "      <td>v0.1-MLT.1.1_1-440</td>\n",
       "      <td>3.870902</td>\n",
       "      <td>NaN</td>\n",
       "      <td>NaN</td>\n",
       "      <td>MT-BU-129519</td>\n",
       "      <td>NaN</td>\n",
       "      <td>eubucco</td>\n",
       "      <td>eubucco</td>\n",
       "      <td>MT</td>\n",
       "      <td>v0.1-MLT.1.1_1-440</td>\n",
       "      <td>...</td>\n",
       "      <td>msb</td>\n",
       "      <td>jrc</td>\n",
       "      <td>MT</td>\n",
       "      <td>29473</td>\n",
       "      <td>22170.825194</td>\n",
       "      <td>113</td>\n",
       "      <td>MT001</td>\n",
       "      <td>1</td>\n",
       "      <td>Malta</td>\n",
       "      <td>1.188545</td>\n",
       "    </tr>\n",
       "    <tr>\n",
       "      <th>18</th>\n",
       "      <td>v0.1-MLT.1.1_1-502</td>\n",
       "      <td>2.674999</td>\n",
       "      <td>NaN</td>\n",
       "      <td>NaN</td>\n",
       "      <td>MT-BU-129647</td>\n",
       "      <td>NaN</td>\n",
       "      <td>eubucco</td>\n",
       "      <td>eubucco</td>\n",
       "      <td>MT</td>\n",
       "      <td>v0.1-MLT.1.1_1-502</td>\n",
       "      <td>...</td>\n",
       "      <td>msb</td>\n",
       "      <td>jrc</td>\n",
       "      <td>MT</td>\n",
       "      <td>29473</td>\n",
       "      <td>22170.825194</td>\n",
       "      <td>113</td>\n",
       "      <td>MT001</td>\n",
       "      <td>1</td>\n",
       "      <td>Malta</td>\n",
       "      <td>16.143064</td>\n",
       "    </tr>\n",
       "    <tr>\n",
       "      <th>19</th>\n",
       "      <td>v0.1-MLT.1.1_1-510</td>\n",
       "      <td>3.757000</td>\n",
       "      <td>NaN</td>\n",
       "      <td>NaN</td>\n",
       "      <td>MT-BU-129776</td>\n",
       "      <td>NaN</td>\n",
       "      <td>eubucco</td>\n",
       "      <td>eubucco</td>\n",
       "      <td>MT</td>\n",
       "      <td>v0.1-MLT.1.1_1-510</td>\n",
       "      <td>...</td>\n",
       "      <td>msb</td>\n",
       "      <td>jrc</td>\n",
       "      <td>MT</td>\n",
       "      <td>29473</td>\n",
       "      <td>22170.825194</td>\n",
       "      <td>113</td>\n",
       "      <td>MT001</td>\n",
       "      <td>1</td>\n",
       "      <td>Malta</td>\n",
       "      <td>3.106064</td>\n",
       "    </tr>\n",
       "    <tr>\n",
       "      <th>20</th>\n",
       "      <td>v0.1-MLT.1.1_1-514</td>\n",
       "      <td>2.903999</td>\n",
       "      <td>NaN</td>\n",
       "      <td>NaN</td>\n",
       "      <td>MT-BU-129780</td>\n",
       "      <td>NaN</td>\n",
       "      <td>eubucco</td>\n",
       "      <td>eubucco</td>\n",
       "      <td>MT</td>\n",
       "      <td>v0.1-MLT.1.1_1-514</td>\n",
       "      <td>...</td>\n",
       "      <td>msb</td>\n",
       "      <td>jrc</td>\n",
       "      <td>MT</td>\n",
       "      <td>29473</td>\n",
       "      <td>22170.825194</td>\n",
       "      <td>113</td>\n",
       "      <td>MT001</td>\n",
       "      <td>1</td>\n",
       "      <td>Malta</td>\n",
       "      <td>7.023300</td>\n",
       "    </tr>\n",
       "    <tr>\n",
       "      <th>21</th>\n",
       "      <td>v0.1-MLT.1.1_1-520</td>\n",
       "      <td>2.701000</td>\n",
       "      <td>NaN</td>\n",
       "      <td>NaN</td>\n",
       "      <td>MT-BU-129786</td>\n",
       "      <td>NaN</td>\n",
       "      <td>eubucco</td>\n",
       "      <td>eubucco</td>\n",
       "      <td>MT</td>\n",
       "      <td>v0.1-MLT.1.1_1-520</td>\n",
       "      <td>...</td>\n",
       "      <td>msb</td>\n",
       "      <td>jrc</td>\n",
       "      <td>MT</td>\n",
       "      <td>29473</td>\n",
       "      <td>22170.825194</td>\n",
       "      <td>113</td>\n",
       "      <td>MT001</td>\n",
       "      <td>1</td>\n",
       "      <td>Malta</td>\n",
       "      <td>0.972674</td>\n",
       "    </tr>\n",
       "    <tr>\n",
       "      <th>22</th>\n",
       "      <td>v0.1-MLT.1.1_1-525</td>\n",
       "      <td>3.083000</td>\n",
       "      <td>NaN</td>\n",
       "      <td>NaN</td>\n",
       "      <td>MT-BU-129791</td>\n",
       "      <td>NaN</td>\n",
       "      <td>eubucco</td>\n",
       "      <td>eubucco</td>\n",
       "      <td>MT</td>\n",
       "      <td>v0.1-MLT.1.1_1-525</td>\n",
       "      <td>...</td>\n",
       "      <td>msb</td>\n",
       "      <td>jrc</td>\n",
       "      <td>MT</td>\n",
       "      <td>29473</td>\n",
       "      <td>22170.825194</td>\n",
       "      <td>113</td>\n",
       "      <td>MT001</td>\n",
       "      <td>1</td>\n",
       "      <td>Malta</td>\n",
       "      <td>10.344117</td>\n",
       "    </tr>\n",
       "    <tr>\n",
       "      <th>23</th>\n",
       "      <td>v0.1-MLT.1.1_1-526</td>\n",
       "      <td>4.517998</td>\n",
       "      <td>NaN</td>\n",
       "      <td>NaN</td>\n",
       "      <td>MT-BU-129792</td>\n",
       "      <td>NaN</td>\n",
       "      <td>eubucco</td>\n",
       "      <td>eubucco</td>\n",
       "      <td>MT</td>\n",
       "      <td>v0.1-MLT.1.1_1-526</td>\n",
       "      <td>...</td>\n",
       "      <td>msb</td>\n",
       "      <td>jrc</td>\n",
       "      <td>MT</td>\n",
       "      <td>29473</td>\n",
       "      <td>22170.825194</td>\n",
       "      <td>113</td>\n",
       "      <td>MT001</td>\n",
       "      <td>1</td>\n",
       "      <td>Malta</td>\n",
       "      <td>7.379881</td>\n",
       "    </tr>\n",
       "    <tr>\n",
       "      <th>24</th>\n",
       "      <td>v0.1-MLT.1.1_1-527</td>\n",
       "      <td>5.577000</td>\n",
       "      <td>NaN</td>\n",
       "      <td>NaN</td>\n",
       "      <td>MT-BU-129793</td>\n",
       "      <td>NaN</td>\n",
       "      <td>eubucco</td>\n",
       "      <td>eubucco</td>\n",
       "      <td>MT</td>\n",
       "      <td>v0.1-MLT.1.1_1-527</td>\n",
       "      <td>...</td>\n",
       "      <td>msb</td>\n",
       "      <td>jrc</td>\n",
       "      <td>MT</td>\n",
       "      <td>29473</td>\n",
       "      <td>22170.825194</td>\n",
       "      <td>113</td>\n",
       "      <td>MT001</td>\n",
       "      <td>1</td>\n",
       "      <td>Malta</td>\n",
       "      <td>45.329691</td>\n",
       "    </tr>\n",
       "    <tr>\n",
       "      <th>25</th>\n",
       "      <td>v0.1-MLT.1.1_1-535</td>\n",
       "      <td>2.332200</td>\n",
       "      <td>NaN</td>\n",
       "      <td>NaN</td>\n",
       "      <td>MT-BU-129802</td>\n",
       "      <td>NaN</td>\n",
       "      <td>eubucco</td>\n",
       "      <td>eubucco</td>\n",
       "      <td>MT</td>\n",
       "      <td>v0.1-MLT.1.1_1-535</td>\n",
       "      <td>...</td>\n",
       "      <td>msb</td>\n",
       "      <td>jrc</td>\n",
       "      <td>MT</td>\n",
       "      <td>29473</td>\n",
       "      <td>22170.825194</td>\n",
       "      <td>113</td>\n",
       "      <td>MT001</td>\n",
       "      <td>1</td>\n",
       "      <td>Malta</td>\n",
       "      <td>2.887195</td>\n",
       "    </tr>\n",
       "    <tr>\n",
       "      <th>26</th>\n",
       "      <td>v0.1-MLT.1.1_1-626</td>\n",
       "      <td>4.033997</td>\n",
       "      <td>NaN</td>\n",
       "      <td>NaN</td>\n",
       "      <td>MT-BU-130282</td>\n",
       "      <td>NaN</td>\n",
       "      <td>eubucco</td>\n",
       "      <td>eubucco</td>\n",
       "      <td>MT</td>\n",
       "      <td>v0.1-MLT.1.1_1-626</td>\n",
       "      <td>...</td>\n",
       "      <td>msb</td>\n",
       "      <td>jrc</td>\n",
       "      <td>MT</td>\n",
       "      <td>29473</td>\n",
       "      <td>22170.825194</td>\n",
       "      <td>113</td>\n",
       "      <td>MT001</td>\n",
       "      <td>1</td>\n",
       "      <td>Malta</td>\n",
       "      <td>37.410141</td>\n",
       "    </tr>\n",
       "    <tr>\n",
       "      <th>27</th>\n",
       "      <td>v0.1-MLT.1.1_1-641</td>\n",
       "      <td>2.451000</td>\n",
       "      <td>NaN</td>\n",
       "      <td>NaN</td>\n",
       "      <td>MT-BU-130297</td>\n",
       "      <td>NaN</td>\n",
       "      <td>eubucco</td>\n",
       "      <td>eubucco</td>\n",
       "      <td>MT</td>\n",
       "      <td>v0.1-MLT.1.1_1-641</td>\n",
       "      <td>...</td>\n",
       "      <td>msb</td>\n",
       "      <td>jrc</td>\n",
       "      <td>MT</td>\n",
       "      <td>29473</td>\n",
       "      <td>22170.825194</td>\n",
       "      <td>113</td>\n",
       "      <td>MT001</td>\n",
       "      <td>1</td>\n",
       "      <td>Malta</td>\n",
       "      <td>0.002002</td>\n",
       "    </tr>\n",
       "    <tr>\n",
       "      <th>28</th>\n",
       "      <td>v0.1-MLT.1.1_1-1085</td>\n",
       "      <td>3.488998</td>\n",
       "      <td>NaN</td>\n",
       "      <td>NaN</td>\n",
       "      <td>MT-BU-132068</td>\n",
       "      <td>NaN</td>\n",
       "      <td>eubucco</td>\n",
       "      <td>eubucco</td>\n",
       "      <td>MT</td>\n",
       "      <td>v0.1-MLT.1.1_1-1085</td>\n",
       "      <td>...</td>\n",
       "      <td>msb</td>\n",
       "      <td>jrc</td>\n",
       "      <td>MT</td>\n",
       "      <td>29473</td>\n",
       "      <td>22170.825194</td>\n",
       "      <td>113</td>\n",
       "      <td>MT001</td>\n",
       "      <td>1</td>\n",
       "      <td>Malta</td>\n",
       "      <td>15.196948</td>\n",
       "    </tr>\n",
       "    <tr>\n",
       "      <th>29</th>\n",
       "      <td>v0.1-MLT.1.1_1-1086</td>\n",
       "      <td>3.207001</td>\n",
       "      <td>NaN</td>\n",
       "      <td>NaN</td>\n",
       "      <td>MT-BU-132069</td>\n",
       "      <td>NaN</td>\n",
       "      <td>eubucco</td>\n",
       "      <td>eubucco</td>\n",
       "      <td>MT</td>\n",
       "      <td>v0.1-MLT.1.1_1-1086</td>\n",
       "      <td>...</td>\n",
       "      <td>msb</td>\n",
       "      <td>jrc</td>\n",
       "      <td>MT</td>\n",
       "      <td>29473</td>\n",
       "      <td>22170.825194</td>\n",
       "      <td>113</td>\n",
       "      <td>MT001</td>\n",
       "      <td>1</td>\n",
       "      <td>Malta</td>\n",
       "      <td>19.467713</td>\n",
       "    </tr>\n",
       "    <tr>\n",
       "      <th>30</th>\n",
       "      <td>v0.1-MLT.1.1_1-1171</td>\n",
       "      <td>3.607002</td>\n",
       "      <td>NaN</td>\n",
       "      <td>NaN</td>\n",
       "      <td>MT-BU-132154</td>\n",
       "      <td>NaN</td>\n",
       "      <td>eubucco</td>\n",
       "      <td>eubucco</td>\n",
       "      <td>MT</td>\n",
       "      <td>v0.1-MLT.1.1_1-1171</td>\n",
       "      <td>...</td>\n",
       "      <td>msb</td>\n",
       "      <td>jrc</td>\n",
       "      <td>MT</td>\n",
       "      <td>29473</td>\n",
       "      <td>22170.825194</td>\n",
       "      <td>113</td>\n",
       "      <td>MT001</td>\n",
       "      <td>1</td>\n",
       "      <td>Malta</td>\n",
       "      <td>19.194260</td>\n",
       "    </tr>\n",
       "    <tr>\n",
       "      <th>31</th>\n",
       "      <td>v0.1-MLT.1.1_1-1172</td>\n",
       "      <td>2.453098</td>\n",
       "      <td>NaN</td>\n",
       "      <td>NaN</td>\n",
       "      <td>MT-BU-132155</td>\n",
       "      <td>NaN</td>\n",
       "      <td>eubucco</td>\n",
       "      <td>eubucco</td>\n",
       "      <td>MT</td>\n",
       "      <td>v0.1-MLT.1.1_1-1172</td>\n",
       "      <td>...</td>\n",
       "      <td>msb</td>\n",
       "      <td>jrc</td>\n",
       "      <td>MT</td>\n",
       "      <td>29473</td>\n",
       "      <td>22170.825194</td>\n",
       "      <td>113</td>\n",
       "      <td>MT001</td>\n",
       "      <td>1</td>\n",
       "      <td>Malta</td>\n",
       "      <td>5.082240</td>\n",
       "    </tr>\n",
       "    <tr>\n",
       "      <th>32</th>\n",
       "      <td>v0.1-MLT.1.1_1-1173</td>\n",
       "      <td>2.738499</td>\n",
       "      <td>NaN</td>\n",
       "      <td>NaN</td>\n",
       "      <td>MT-BU-132156</td>\n",
       "      <td>NaN</td>\n",
       "      <td>eubucco</td>\n",
       "      <td>eubucco</td>\n",
       "      <td>MT</td>\n",
       "      <td>v0.1-MLT.1.1_1-1173</td>\n",
       "      <td>...</td>\n",
       "      <td>msb</td>\n",
       "      <td>jrc</td>\n",
       "      <td>MT</td>\n",
       "      <td>29473</td>\n",
       "      <td>22170.825194</td>\n",
       "      <td>113</td>\n",
       "      <td>MT001</td>\n",
       "      <td>1</td>\n",
       "      <td>Malta</td>\n",
       "      <td>7.752444</td>\n",
       "    </tr>\n",
       "    <tr>\n",
       "      <th>33</th>\n",
       "      <td>v0.1-MLT.1.1_1-1175</td>\n",
       "      <td>4.118999</td>\n",
       "      <td>NaN</td>\n",
       "      <td>NaN</td>\n",
       "      <td>MT-BU-132158</td>\n",
       "      <td>NaN</td>\n",
       "      <td>eubucco</td>\n",
       "      <td>eubucco</td>\n",
       "      <td>MT</td>\n",
       "      <td>v0.1-MLT.1.1_1-1175</td>\n",
       "      <td>...</td>\n",
       "      <td>msb</td>\n",
       "      <td>jrc</td>\n",
       "      <td>MT</td>\n",
       "      <td>29473</td>\n",
       "      <td>22170.825194</td>\n",
       "      <td>113</td>\n",
       "      <td>MT001</td>\n",
       "      <td>1</td>\n",
       "      <td>Malta</td>\n",
       "      <td>45.659821</td>\n",
       "    </tr>\n",
       "    <tr>\n",
       "      <th>34</th>\n",
       "      <td>v0.1-MLT.1.1_1-1260</td>\n",
       "      <td>3.988998</td>\n",
       "      <td>NaN</td>\n",
       "      <td>NaN</td>\n",
       "      <td>MT-BU-132260</td>\n",
       "      <td>NaN</td>\n",
       "      <td>eubucco</td>\n",
       "      <td>eubucco</td>\n",
       "      <td>MT</td>\n",
       "      <td>v0.1-MLT.1.1_1-1260</td>\n",
       "      <td>...</td>\n",
       "      <td>msb</td>\n",
       "      <td>jrc</td>\n",
       "      <td>MT</td>\n",
       "      <td>29473</td>\n",
       "      <td>22170.825194</td>\n",
       "      <td>113</td>\n",
       "      <td>MT001</td>\n",
       "      <td>1</td>\n",
       "      <td>Malta</td>\n",
       "      <td>58.104789</td>\n",
       "    </tr>\n",
       "    <tr>\n",
       "      <th>35</th>\n",
       "      <td>v0.1-MLT.1.1_1-1261</td>\n",
       "      <td>2.238003</td>\n",
       "      <td>NaN</td>\n",
       "      <td>NaN</td>\n",
       "      <td>MT-BU-132275</td>\n",
       "      <td>NaN</td>\n",
       "      <td>eubucco</td>\n",
       "      <td>eubucco</td>\n",
       "      <td>MT</td>\n",
       "      <td>v0.1-MLT.1.1_1-1261</td>\n",
       "      <td>...</td>\n",
       "      <td>msb</td>\n",
       "      <td>jrc</td>\n",
       "      <td>MT</td>\n",
       "      <td>29473</td>\n",
       "      <td>22170.825194</td>\n",
       "      <td>113</td>\n",
       "      <td>MT001</td>\n",
       "      <td>1</td>\n",
       "      <td>Malta</td>\n",
       "      <td>5.772310</td>\n",
       "    </tr>\n",
       "    <tr>\n",
       "      <th>36</th>\n",
       "      <td>v0.1-MLT.1.1_1-1582</td>\n",
       "      <td>0.000000</td>\n",
       "      <td>NaN</td>\n",
       "      <td>NaN</td>\n",
       "      <td>MT-BU-132965</td>\n",
       "      <td>NaN</td>\n",
       "      <td>eubucco</td>\n",
       "      <td>eubucco</td>\n",
       "      <td>MT</td>\n",
       "      <td>v0.1-MLT.1.1_1-1582</td>\n",
       "      <td>...</td>\n",
       "      <td>msb</td>\n",
       "      <td>jrc</td>\n",
       "      <td>MT</td>\n",
       "      <td>29473</td>\n",
       "      <td>22170.825194</td>\n",
       "      <td>113</td>\n",
       "      <td>MT001</td>\n",
       "      <td>1</td>\n",
       "      <td>Malta</td>\n",
       "      <td>1.009328</td>\n",
       "    </tr>\n",
       "  </tbody>\n",
       "</table>\n",
       "<p>37 rows × 25 columns</p>\n",
       "</div>"
      ],
      "text/plain": [
       "                     id     height  age  type     id_source  type_source  \\\n",
       "0      v0.1-MLT.1.1_1-0  14.448998  NaN   NaN  MT-BU-127466          NaN   \n",
       "1     v0.1-MLT.1.1_1-67  20.233699  NaN   NaN  MT-BU-127644          NaN   \n",
       "2     v0.1-MLT.1.1_1-76  16.070999  NaN   NaN  MT-BU-127664          NaN   \n",
       "3     v0.1-MLT.1.1_1-77  18.443001  NaN   NaN  MT-BU-127665          NaN   \n",
       "4    v0.1-MLT.1.1_1-111  13.617001  NaN   NaN  MT-BU-128053          NaN   \n",
       "5    v0.1-MLT.1.1_1-156  17.407302  NaN   NaN  MT-BU-128099          NaN   \n",
       "6    v0.1-MLT.1.1_1-402   2.567997  NaN   NaN  MT-BU-129481          NaN   \n",
       "7    v0.1-MLT.1.1_1-403   2.112999  NaN   NaN  MT-BU-129482          NaN   \n",
       "8    v0.1-MLT.1.1_1-404   2.439999  NaN   NaN  MT-BU-129483          NaN   \n",
       "9    v0.1-MLT.1.1_1-406   6.473701  NaN   NaN  MT-BU-129485          NaN   \n",
       "10   v0.1-MLT.1.1_1-407   2.924999  NaN   NaN  MT-BU-129486          NaN   \n",
       "11   v0.1-MLT.1.1_1-408   2.542999  NaN   NaN  MT-BU-129487          NaN   \n",
       "12   v0.1-MLT.1.1_1-411   2.992001  NaN   NaN  MT-BU-129490          NaN   \n",
       "13   v0.1-MLT.1.1_1-432   3.229000  NaN   NaN  MT-BU-129511          NaN   \n",
       "14   v0.1-MLT.1.1_1-434   3.007999  NaN   NaN  MT-BU-129513          NaN   \n",
       "15   v0.1-MLT.1.1_1-437   2.526997  NaN   NaN  MT-BU-129516          NaN   \n",
       "16   v0.1-MLT.1.1_1-439   3.474200  NaN   NaN  MT-BU-129518          NaN   \n",
       "17   v0.1-MLT.1.1_1-440   3.870902  NaN   NaN  MT-BU-129519          NaN   \n",
       "18   v0.1-MLT.1.1_1-502   2.674999  NaN   NaN  MT-BU-129647          NaN   \n",
       "19   v0.1-MLT.1.1_1-510   3.757000  NaN   NaN  MT-BU-129776          NaN   \n",
       "20   v0.1-MLT.1.1_1-514   2.903999  NaN   NaN  MT-BU-129780          NaN   \n",
       "21   v0.1-MLT.1.1_1-520   2.701000  NaN   NaN  MT-BU-129786          NaN   \n",
       "22   v0.1-MLT.1.1_1-525   3.083000  NaN   NaN  MT-BU-129791          NaN   \n",
       "23   v0.1-MLT.1.1_1-526   4.517998  NaN   NaN  MT-BU-129792          NaN   \n",
       "24   v0.1-MLT.1.1_1-527   5.577000  NaN   NaN  MT-BU-129793          NaN   \n",
       "25   v0.1-MLT.1.1_1-535   2.332200  NaN   NaN  MT-BU-129802          NaN   \n",
       "26   v0.1-MLT.1.1_1-626   4.033997  NaN   NaN  MT-BU-130282          NaN   \n",
       "27   v0.1-MLT.1.1_1-641   2.451000  NaN   NaN  MT-BU-130297          NaN   \n",
       "28  v0.1-MLT.1.1_1-1085   3.488998  NaN   NaN  MT-BU-132068          NaN   \n",
       "29  v0.1-MLT.1.1_1-1086   3.207001  NaN   NaN  MT-BU-132069          NaN   \n",
       "30  v0.1-MLT.1.1_1-1171   3.607002  NaN   NaN  MT-BU-132154          NaN   \n",
       "31  v0.1-MLT.1.1_1-1172   2.453098  NaN   NaN  MT-BU-132155          NaN   \n",
       "32  v0.1-MLT.1.1_1-1173   2.738499  NaN   NaN  MT-BU-132156          NaN   \n",
       "33  v0.1-MLT.1.1_1-1175   4.118999  NaN   NaN  MT-BU-132158          NaN   \n",
       "34  v0.1-MLT.1.1_1-1260   3.988998  NaN   NaN  MT-BU-132260          NaN   \n",
       "35  v0.1-MLT.1.1_1-1261   2.238003  NaN   NaN  MT-BU-132275          NaN   \n",
       "36  v0.1-MLT.1.1_1-1582   0.000000  NaN   NaN  MT-BU-132965          NaN   \n",
       "\n",
       "   source_1 dataset_1 country_1           eubucco-id  ...  source_2  \\\n",
       "0   eubucco   eubucco        MT     v0.1-MLT.1.1_1-0  ...       msb   \n",
       "1   eubucco   eubucco        MT    v0.1-MLT.1.1_1-67  ...       msb   \n",
       "2   eubucco   eubucco        MT    v0.1-MLT.1.1_1-76  ...       msb   \n",
       "3   eubucco   eubucco        MT    v0.1-MLT.1.1_1-77  ...       msb   \n",
       "4   eubucco   eubucco        MT   v0.1-MLT.1.1_1-111  ...       msb   \n",
       "5   eubucco   eubucco        MT   v0.1-MLT.1.1_1-156  ...       msb   \n",
       "6   eubucco   eubucco        MT   v0.1-MLT.1.1_1-402  ...       msb   \n",
       "7   eubucco   eubucco        MT   v0.1-MLT.1.1_1-403  ...       msb   \n",
       "8   eubucco   eubucco        MT   v0.1-MLT.1.1_1-404  ...       msb   \n",
       "9   eubucco   eubucco        MT   v0.1-MLT.1.1_1-406  ...       msb   \n",
       "10  eubucco   eubucco        MT   v0.1-MLT.1.1_1-407  ...       msb   \n",
       "11  eubucco   eubucco        MT   v0.1-MLT.1.1_1-408  ...       msb   \n",
       "12  eubucco   eubucco        MT   v0.1-MLT.1.1_1-411  ...       msb   \n",
       "13  eubucco   eubucco        MT   v0.1-MLT.1.1_1-432  ...       msb   \n",
       "14  eubucco   eubucco        MT   v0.1-MLT.1.1_1-434  ...       msb   \n",
       "15  eubucco   eubucco        MT   v0.1-MLT.1.1_1-437  ...       msb   \n",
       "16  eubucco   eubucco        MT   v0.1-MLT.1.1_1-439  ...       msb   \n",
       "17  eubucco   eubucco        MT   v0.1-MLT.1.1_1-440  ...       msb   \n",
       "18  eubucco   eubucco        MT   v0.1-MLT.1.1_1-502  ...       msb   \n",
       "19  eubucco   eubucco        MT   v0.1-MLT.1.1_1-510  ...       msb   \n",
       "20  eubucco   eubucco        MT   v0.1-MLT.1.1_1-514  ...       msb   \n",
       "21  eubucco   eubucco        MT   v0.1-MLT.1.1_1-520  ...       msb   \n",
       "22  eubucco   eubucco        MT   v0.1-MLT.1.1_1-525  ...       msb   \n",
       "23  eubucco   eubucco        MT   v0.1-MLT.1.1_1-526  ...       msb   \n",
       "24  eubucco   eubucco        MT   v0.1-MLT.1.1_1-527  ...       msb   \n",
       "25  eubucco   eubucco        MT   v0.1-MLT.1.1_1-535  ...       msb   \n",
       "26  eubucco   eubucco        MT   v0.1-MLT.1.1_1-626  ...       msb   \n",
       "27  eubucco   eubucco        MT   v0.1-MLT.1.1_1-641  ...       msb   \n",
       "28  eubucco   eubucco        MT  v0.1-MLT.1.1_1-1085  ...       msb   \n",
       "29  eubucco   eubucco        MT  v0.1-MLT.1.1_1-1086  ...       msb   \n",
       "30  eubucco   eubucco        MT  v0.1-MLT.1.1_1-1171  ...       msb   \n",
       "31  eubucco   eubucco        MT  v0.1-MLT.1.1_1-1172  ...       msb   \n",
       "32  eubucco   eubucco        MT  v0.1-MLT.1.1_1-1173  ...       msb   \n",
       "33  eubucco   eubucco        MT  v0.1-MLT.1.1_1-1175  ...       msb   \n",
       "34  eubucco   eubucco        MT  v0.1-MLT.1.1_1-1260  ...       msb   \n",
       "35  eubucco   eubucco        MT  v0.1-MLT.1.1_1-1261  ...       msb   \n",
       "36  eubucco   eubucco        MT  v0.1-MLT.1.1_1-1582  ...       msb   \n",
       "\n",
       "    dataset_2 country_2  jrc-id    area_sqm_2 num_vertices_2 nuts_id_2  \\\n",
       "0         jrc        MT   29473  22170.825194            113     MT001   \n",
       "1         jrc        MT   29473  22170.825194            113     MT001   \n",
       "2         jrc        MT   29473  22170.825194            113     MT001   \n",
       "3         jrc        MT   29473  22170.825194            113     MT001   \n",
       "4         jrc        MT   29473  22170.825194            113     MT001   \n",
       "5         jrc        MT   29473  22170.825194            113     MT001   \n",
       "6         jrc        MT   29473  22170.825194            113     MT001   \n",
       "7         jrc        MT   29473  22170.825194            113     MT001   \n",
       "8         jrc        MT   29473  22170.825194            113     MT001   \n",
       "9         jrc        MT   29473  22170.825194            113     MT001   \n",
       "10        jrc        MT   29473  22170.825194            113     MT001   \n",
       "11        jrc        MT   29473  22170.825194            113     MT001   \n",
       "12        jrc        MT   29473  22170.825194            113     MT001   \n",
       "13        jrc        MT   29473  22170.825194            113     MT001   \n",
       "14        jrc        MT   29473  22170.825194            113     MT001   \n",
       "15        jrc        MT   29473  22170.825194            113     MT001   \n",
       "16        jrc        MT   29473  22170.825194            113     MT001   \n",
       "17        jrc        MT   29473  22170.825194            113     MT001   \n",
       "18        jrc        MT   29473  22170.825194            113     MT001   \n",
       "19        jrc        MT   29473  22170.825194            113     MT001   \n",
       "20        jrc        MT   29473  22170.825194            113     MT001   \n",
       "21        jrc        MT   29473  22170.825194            113     MT001   \n",
       "22        jrc        MT   29473  22170.825194            113     MT001   \n",
       "23        jrc        MT   29473  22170.825194            113     MT001   \n",
       "24        jrc        MT   29473  22170.825194            113     MT001   \n",
       "25        jrc        MT   29473  22170.825194            113     MT001   \n",
       "26        jrc        MT   29473  22170.825194            113     MT001   \n",
       "27        jrc        MT   29473  22170.825194            113     MT001   \n",
       "28        jrc        MT   29473  22170.825194            113     MT001   \n",
       "29        jrc        MT   29473  22170.825194            113     MT001   \n",
       "30        jrc        MT   29473  22170.825194            113     MT001   \n",
       "31        jrc        MT   29473  22170.825194            113     MT001   \n",
       "32        jrc        MT   29473  22170.825194            113     MT001   \n",
       "33        jrc        MT   29473  22170.825194            113     MT001   \n",
       "34        jrc        MT   29473  22170.825194            113     MT001   \n",
       "35        jrc        MT   29473  22170.825194            113     MT001   \n",
       "36        jrc        MT   29473  22170.825194            113     MT001   \n",
       "\n",
       "   urban_type_2  nuts_name_2  shared_area  \n",
       "0             1        Malta  1865.369634  \n",
       "1             1        Malta  4704.793777  \n",
       "2             1        Malta  5960.817236  \n",
       "3             1        Malta   713.915098  \n",
       "4             1        Malta     5.119014  \n",
       "5             1        Malta  3413.873734  \n",
       "6             1        Malta     8.170372  \n",
       "7             1        Malta     2.470959  \n",
       "8             1        Malta     3.719608  \n",
       "9             1        Malta    27.448248  \n",
       "10            1        Malta     3.615399  \n",
       "11            1        Malta     5.786573  \n",
       "12            1        Malta     1.209366  \n",
       "13            1        Malta    14.834589  \n",
       "14            1        Malta    15.460872  \n",
       "15            1        Malta     0.054890  \n",
       "16            1        Malta     1.230188  \n",
       "17            1        Malta     1.188545  \n",
       "18            1        Malta    16.143064  \n",
       "19            1        Malta     3.106064  \n",
       "20            1        Malta     7.023300  \n",
       "21            1        Malta     0.972674  \n",
       "22            1        Malta    10.344117  \n",
       "23            1        Malta     7.379881  \n",
       "24            1        Malta    45.329691  \n",
       "25            1        Malta     2.887195  \n",
       "26            1        Malta    37.410141  \n",
       "27            1        Malta     0.002002  \n",
       "28            1        Malta    15.196948  \n",
       "29            1        Malta    19.467713  \n",
       "30            1        Malta    19.194260  \n",
       "31            1        Malta     5.082240  \n",
       "32            1        Malta     7.752444  \n",
       "33            1        Malta    45.659821  \n",
       "34            1        Malta    58.104789  \n",
       "35            1        Malta     5.772310  \n",
       "36            1        Malta     1.009328  \n",
       "\n",
       "[37 rows x 25 columns]"
      ]
     },
     "execution_count": 24,
     "metadata": {},
     "output_type": "execute_result"
    }
   ],
   "source": [
    "tmp[tmp['jrc-id']==29473]"
   ]
  },
  {
   "cell_type": "code",
   "execution_count": null,
   "id": "7a538ee8",
   "metadata": {},
   "outputs": [],
   "source": []
  }
 ],
 "metadata": {
  "kernelspec": {
   "display_name": "Python (cuda_env)",
   "language": "python",
   "name": "cuda_env"
  },
  "language_info": {
   "codemirror_mode": {
    "name": "ipython",
    "version": 3
   },
   "file_extension": ".py",
   "mimetype": "text/x-python",
   "name": "python",
   "nbconvert_exporter": "python",
   "pygments_lexer": "ipython3",
   "version": "3.7.10"
  },
  "toc": {
   "base_numbering": 1,
   "nav_menu": {},
   "number_sections": true,
   "sideBar": true,
   "skip_h1_title": false,
   "title_cell": "Table of Contents",
   "title_sidebar": "Contents",
   "toc_cell": true,
   "toc_position": {
    "height": "calc(100% - 180px)",
    "left": "10px",
    "top": "150px",
    "width": "332.619px"
   },
   "toc_section_display": true,
   "toc_window_display": true
  }
 },
 "nbformat": 4,
 "nbformat_minor": 5
}
